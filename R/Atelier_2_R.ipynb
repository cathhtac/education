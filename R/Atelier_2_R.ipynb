{
 "cells": [
  {
   "cell_type": "markdown",
   "metadata": {},
   "source": [
    "<img style=\"float: left;\" src=\"images/header2_R.png\">\n",
    "\n",
    "\n",
    "Modèle prédictif de régression linéaire\n",
    "=============  \n",
    "\n",
    "### Auteur: \n",
    "- Marie-Joël Dandoga, VP-Education 2019-2020\n",
    "\n",
    "### Table des matières\n",
    "\n",
    "- [Section 1. Intuition sous-jacente à la régression linéaire](#intuition)\n",
    "- [Section 2. Importation et Prétraitement des données](#pre-processing)\n",
    "- [Section 3. Modélisation](#modelling)\n",
    "- [Section 4. Prédictions et performence prévisionnelle](#prediction)"
   ]
  },
  {
   "cell_type": "markdown",
   "metadata": {},
   "source": [
    "<a id=\"intuition\"></a>\n",
    "# Section 1: Intuition sous-jacente à la régression linéaire\n",
    "\n",
    "Le but ultime du modèle de régression linéaire est de parvenir à expliquer le comportement d'une variable *__Y__* dite **dépendante** par une ou plusieurs variables *__X__* dites **indépendantes** ou **explicatives**. Lorsque le modèle comporte une seule variable explicative il s'agit d'un modèle de régression linéaire simple, tandis que lorsqu'il y a plusieurs variables explicatives, on parle de régression linéaire multiple.\n",
    "\n",
    "L'équation du modèle est la suivante:\n",
    "\n",
    "$$ Y = \\beta_0 + \\beta_1X_1 + \\beta_2X_2 + ... + \\beta_pX_p + \\epsilon $$\n",
    "où:\n",
    "- $\\beta_i$ représente le coefficient associé à la ième variable explicative X\n",
    "- $\\epsilon$ représente l'erreur aléatoire supposée provenant d'une loi normale de moyenne 0 et de variance $\\sigma^2$\n",
    "\n",
    "Typiquement le modèle correspond à la droite (régression linéaire simple) ou à un plan (régression linéaire multiple à deux régresseurs) qui s'ajuste le mieux aux données. C'est-à-dire qui minimise la somme des écarts  au carré: c'est le critère des moindres carrées ordinaires.\n",
    "\n",
    "Plusieurs analyses interessantes peuvent être faites avec de tels modèles. On peut penser notamment à:\n",
    "- faire des test d'hypothèses sur la significativité des coefficients et les interpréter\n",
    "- vérifier l'indépendance des $X_i$\n",
    "- vérifier l'égaliter des variances entre les observations\n",
    "- faire de la prévision\n",
    "- ...\n",
    "\n",
    "Ici, l'accent sera mis entre autre sur la prédiction.\n",
    "\n",
    "<a id=\"pre-processing\"></a>\n",
    "# Section 2: Importation et pré-traitement des données\n",
    "\n",
    "Le jeu de données que je vous propose d'explorer sous la loupe de la régression linéaire provient de <https://www.kaggle.com/augustus0498/life-expectancy-who>. L'ensemble de données est relatif à l'espérance de vie et aux facteurs économiques et de santé pour 193 pays entre les années 2000 et 2015. Ces observations sont compilés sur les sites Web de banques de données de l'OMS et des Nations Unies. Parmi toutes les catégories de facteurs liés à la santé, seuls les facteurs critiques plus représentatifs ont été choisis. Il s'agit de 22 variables mesurées sur 2938 individus:\n",
    "\n",
    "- Country: Pays\n",
    "- Year: Année\n",
    "- Status:Statut développé ou en développement\n",
    "- Lifeexpectancy: Espérance de vie en âge (**variable à expliquer**)\n",
    "- AdultMortality: Taux de mortalité des adultes des deux sexes (probabilité de mourir entre 15 et 60 ans pour 1000 habitants)\n",
    "- infantdeaths: Nombre de décès de nourrissons pour 1000 habitants\n",
    "- Alcohol: Alcool, consommation enregistrée par habitant (15 ans et plus) (en litres d'alcool pur)\n",
    "- percentageexpenditure: Dépenses de santé en pourcentage du produit intérieur brut par habitant (%)\n",
    "- HepatitisB: Couverture vaccinale contre l'hépatite B (HepB) chez les enfants âgés d'un an (%)\n",
    "- Measles: Rougeole - nombre de cas signalés pour 1000 habitants\n",
    "- BMI: Indice de masse corporelle moyenne de la population entière\n",
    "- under-fivedeaths: Nombre de décès d'enfants de moins de cinq ans pour 1000 habitants\n",
    "- Polio: Couverture vaccinale contre la polio (Pol3) chez les enfants de 1 an (%)\n",
    "- Totalexpenditure: Dépenses des administrations publiques en santé exprimées en pourcentage des dépenses totales des administrations publiques (%)\n",
    "- Diphteria: Couverture vaccinale vaccinale chez les enfants âgés de 1 an contre l'anatoxine tétanique et la coqueluche (DTC3) (%)\n",
    "- HIV/AIDS: Décès pour 1 000 naissances vivantes VIH / SIDA (0 à 4 ans)\n",
    "- GDP: Produit intérieur brut par habitant (en USD)\n",
    "- Population: Population du pays\n",
    "- thinness1-19years: Prévalence de la minceur chez les enfants et les adolescents de 10 à 19 ans (%)\n",
    "- thinness5-9years: Prévalence de la minceur chez les enfants de 5 à 9 ans (%)\n",
    "- Incomecompositionofresources: Indice de développement humain en termes de composition du revenu des ressources (indice allant de 0 à 1)\n",
    "- Schooling: Nombre d'années de scolarité (années)"
   ]
  },
  {
   "cell_type": "code",
   "execution_count": 1,
   "metadata": {},
   "outputs": [],
   "source": [
    "# Importation du jeu de données\n",
    "dataset <- read.csv(\"C:/Users/dmari_000/Desktop/Maîtrise/CSD/Ateliers-R/Atelier 2/led.csv\")"
   ]
  },
  {
   "cell_type": "code",
   "execution_count": 2,
   "metadata": {
    "scrolled": true
   },
   "outputs": [
    {
     "data": {
      "text/html": [
       "<table>\n",
       "<thead><tr><th></th><th scope=col>Country</th><th scope=col>Year</th><th scope=col>Status</th><th scope=col>Lifeexpectancy</th><th scope=col>AdultMortality</th><th scope=col>infantdeaths</th><th scope=col>Alcohol</th><th scope=col>percentageexpenditure</th><th scope=col>HepatitisB</th><th scope=col>Measles</th><th scope=col>...</th><th scope=col>Polio</th><th scope=col>Totalexpenditure</th><th scope=col>Diphtheria</th><th scope=col>HIV.AIDS</th><th scope=col>GDP</th><th scope=col>Population</th><th scope=col>thinness1.19years</th><th scope=col>thinness5.9years</th><th scope=col>Incomecompositionofresources</th><th scope=col>Schooling</th></tr></thead>\n",
       "<tbody>\n",
       "\t<tr><th scope=row>1</th><td>Afghanistan      </td><td>2015             </td><td>Developing       </td><td>65.0             </td><td>263              </td><td>62               </td><td>0.01             </td><td> 71.27962        </td><td>65               </td><td>1154             </td><td>...              </td><td> 6               </td><td>8.16             </td><td>65               </td><td>0.1              </td><td>  584.2592       </td><td>33736494         </td><td>17.2             </td><td>17.3             </td><td>0.479            </td><td>10.1             </td></tr>\n",
       "\t<tr><th scope=row>17</th><td>Albania          </td><td>2015             </td><td>Developing       </td><td>77.8             </td><td> 74              </td><td> 0               </td><td>4.60             </td><td>364.97523        </td><td>99               </td><td>   0             </td><td>...              </td><td>99               </td><td>6.00             </td><td>99               </td><td>0.1              </td><td> 3954.2278       </td><td>   28873         </td><td> 1.2             </td><td> 1.3             </td><td>0.762            </td><td>14.2             </td></tr>\n",
       "\t<tr><th scope=row>33</th><td>Algeria          </td><td>2015             </td><td>Developing       </td><td>75.6             </td><td> 19              </td><td>21               </td><td>  NA             </td><td>  0.00000        </td><td>95               </td><td>  63             </td><td>...              </td><td>95               </td><td>  NA             </td><td>95               </td><td>0.1              </td><td> 4132.7629       </td><td>39871528         </td><td> 6.0             </td><td> 5.8             </td><td>0.743            </td><td>14.4             </td></tr>\n",
       "\t<tr><th scope=row>49</th><td>Angola           </td><td>2015             </td><td>Developing       </td><td>52.4             </td><td>335              </td><td>66               </td><td>  NA             </td><td>  0.00000        </td><td>64               </td><td> 118             </td><td>...              </td><td> 7               </td><td>  NA             </td><td>64               </td><td>1.9              </td><td> 3695.7937       </td><td> 2785935         </td><td> 8.3             </td><td> 8.2             </td><td>0.531            </td><td>11.4             </td></tr>\n",
       "\t<tr><th scope=row>65</th><td>AntiguaandBarbuda</td><td>2015             </td><td>Developing       </td><td>76.4             </td><td> 13              </td><td> 0               </td><td>  NA             </td><td>  0.00000        </td><td>99               </td><td>   0             </td><td>...              </td><td>86               </td><td>  NA             </td><td>99               </td><td>0.2              </td><td>13566.9541       </td><td>      NA         </td><td> 3.3             </td><td> 3.3             </td><td>0.784            </td><td>13.9             </td></tr>\n",
       "\t<tr><th scope=row>81</th><td>Argentina        </td><td>2015             </td><td>Developing       </td><td>76.3             </td><td>116              </td><td> 8               </td><td>  NA             </td><td>  0.00000        </td><td>94               </td><td>   0             </td><td>...              </td><td>93               </td><td>  NA             </td><td>94               </td><td>0.1              </td><td>13467.1236       </td><td>43417765         </td><td> 1.0             </td><td> 0.9             </td><td>0.826            </td><td>17.3             </td></tr>\n",
       "</tbody>\n",
       "</table>\n"
      ],
      "text/latex": [
       "\\begin{tabular}{r|llllllllllllllllllllll}\n",
       "  & Country & Year & Status & Lifeexpectancy & AdultMortality & infantdeaths & Alcohol & percentageexpenditure & HepatitisB & Measles & ... & Polio & Totalexpenditure & Diphtheria & HIV.AIDS & GDP & Population & thinness1.19years & thinness5.9years & Incomecompositionofresources & Schooling\\\\\n",
       "\\hline\n",
       "\t1 & Afghanistan       & 2015              & Developing        & 65.0              & 263               & 62                & 0.01              &  71.27962         & 65                & 1154              & ...               &  6                & 8.16              & 65                & 0.1               &   584.2592        & 33736494          & 17.2              & 17.3              & 0.479             & 10.1             \\\\\n",
       "\t17 & Albania           & 2015              & Developing        & 77.8              &  74               &  0                & 4.60              & 364.97523         & 99                &    0              & ...               & 99                & 6.00              & 99                & 0.1               &  3954.2278        &    28873          &  1.2              &  1.3              & 0.762             & 14.2             \\\\\n",
       "\t33 & Algeria           & 2015              & Developing        & 75.6              &  19               & 21                &   NA              &   0.00000         & 95                &   63              & ...               & 95                &   NA              & 95                & 0.1               &  4132.7629        & 39871528          &  6.0              &  5.8              & 0.743             & 14.4             \\\\\n",
       "\t49 & Angola            & 2015              & Developing        & 52.4              & 335               & 66                &   NA              &   0.00000         & 64                &  118              & ...               &  7                &   NA              & 64                & 1.9               &  3695.7937        &  2785935          &  8.3              &  8.2              & 0.531             & 11.4             \\\\\n",
       "\t65 & AntiguaandBarbuda & 2015              & Developing        & 76.4              &  13               &  0                &   NA              &   0.00000         & 99                &    0              & ...               & 86                &   NA              & 99                & 0.2               & 13566.9541        &       NA          &  3.3              &  3.3              & 0.784             & 13.9             \\\\\n",
       "\t81 & Argentina         & 2015              & Developing        & 76.3              & 116               &  8                &   NA              &   0.00000         & 94                &    0              & ...               & 93                &   NA              & 94                & 0.1               & 13467.1236        & 43417765          &  1.0              &  0.9              & 0.826             & 17.3             \\\\\n",
       "\\end{tabular}\n"
      ],
      "text/markdown": [
       "\n",
       "| <!--/--> | Country | Year | Status | Lifeexpectancy | AdultMortality | infantdeaths | Alcohol | percentageexpenditure | HepatitisB | Measles | ... | Polio | Totalexpenditure | Diphtheria | HIV.AIDS | GDP | Population | thinness1.19years | thinness5.9years | Incomecompositionofresources | Schooling |\n",
       "|---|---|---|---|---|---|---|---|---|---|---|---|---|---|---|---|---|---|---|---|---|---|\n",
       "| 1 | Afghanistan       | 2015              | Developing        | 65.0              | 263               | 62                | 0.01              |  71.27962         | 65                | 1154              | ...               |  6                | 8.16              | 65                | 0.1               |   584.2592        | 33736494          | 17.2              | 17.3              | 0.479             | 10.1              |\n",
       "| 17 | Albania           | 2015              | Developing        | 77.8              |  74               |  0                | 4.60              | 364.97523         | 99                |    0              | ...               | 99                | 6.00              | 99                | 0.1               |  3954.2278        |    28873          |  1.2              |  1.3              | 0.762             | 14.2              |\n",
       "| 33 | Algeria           | 2015              | Developing        | 75.6              |  19               | 21                |   NA              |   0.00000         | 95                |   63              | ...               | 95                |   NA              | 95                | 0.1               |  4132.7629        | 39871528          |  6.0              |  5.8              | 0.743             | 14.4              |\n",
       "| 49 | Angola            | 2015              | Developing        | 52.4              | 335               | 66                |   NA              |   0.00000         | 64                |  118              | ...               |  7                |   NA              | 64                | 1.9               |  3695.7937        |  2785935          |  8.3              |  8.2              | 0.531             | 11.4              |\n",
       "| 65 | AntiguaandBarbuda | 2015              | Developing        | 76.4              |  13               |  0                |   NA              |   0.00000         | 99                |    0              | ...               | 86                |   NA              | 99                | 0.2               | 13566.9541        |       NA          |  3.3              |  3.3              | 0.784             | 13.9              |\n",
       "| 81 | Argentina         | 2015              | Developing        | 76.3              | 116               |  8                |   NA              |   0.00000         | 94                |    0              | ...               | 93                |   NA              | 94                | 0.1               | 13467.1236        | 43417765          |  1.0              |  0.9              | 0.826             | 17.3              |\n",
       "\n"
      ],
      "text/plain": [
       "   Country           Year Status     Lifeexpectancy AdultMortality infantdeaths\n",
       "1  Afghanistan       2015 Developing 65.0           263            62          \n",
       "17 Albania           2015 Developing 77.8            74             0          \n",
       "33 Algeria           2015 Developing 75.6            19            21          \n",
       "49 Angola            2015 Developing 52.4           335            66          \n",
       "65 AntiguaandBarbuda 2015 Developing 76.4            13             0          \n",
       "81 Argentina         2015 Developing 76.3           116             8          \n",
       "   Alcohol percentageexpenditure HepatitisB Measles ... Polio Totalexpenditure\n",
       "1  0.01     71.27962             65         1154    ...  6    8.16            \n",
       "17 4.60    364.97523             99            0    ... 99    6.00            \n",
       "33   NA      0.00000             95           63    ... 95      NA            \n",
       "49   NA      0.00000             64          118    ...  7      NA            \n",
       "65   NA      0.00000             99            0    ... 86      NA            \n",
       "81   NA      0.00000             94            0    ... 93      NA            \n",
       "   Diphtheria HIV.AIDS GDP        Population thinness1.19years thinness5.9years\n",
       "1  65         0.1        584.2592 33736494   17.2              17.3            \n",
       "17 99         0.1       3954.2278    28873    1.2               1.3            \n",
       "33 95         0.1       4132.7629 39871528    6.0               5.8            \n",
       "49 64         1.9       3695.7937  2785935    8.3               8.2            \n",
       "65 99         0.2      13566.9541       NA    3.3               3.3            \n",
       "81 94         0.1      13467.1236 43417765    1.0               0.9            \n",
       "   Incomecompositionofresources Schooling\n",
       "1  0.479                        10.1     \n",
       "17 0.762                        14.2     \n",
       "33 0.743                        14.4     \n",
       "49 0.531                        11.4     \n",
       "65 0.784                        13.9     \n",
       "81 0.826                        17.3     "
      ]
     },
     "metadata": {},
     "output_type": "display_data"
    }
   ],
   "source": [
    "head(dataset[dataset$Year==2015,])"
   ]
  },
  {
   "cell_type": "code",
   "execution_count": 3,
   "metadata": {},
   "outputs": [
    {
     "data": {
      "text/html": [
       "<ol class=list-inline>\n",
       "\t<li>2938</li>\n",
       "\t<li>22</li>\n",
       "</ol>\n"
      ],
      "text/latex": [
       "\\begin{enumerate*}\n",
       "\\item 2938\n",
       "\\item 22\n",
       "\\end{enumerate*}\n"
      ],
      "text/markdown": [
       "1. 2938\n",
       "2. 22\n",
       "\n",
       "\n"
      ],
      "text/plain": [
       "[1] 2938   22"
      ]
     },
     "metadata": {},
     "output_type": "display_data"
    }
   ],
   "source": [
    "dim(dataset)"
   ]
  },
  {
   "cell_type": "markdown",
   "metadata": {},
   "source": [
    "## Résumé numérique des variables\n",
    "Dans cette sous section, on présente quelques statistiques descriptives des variables.\n"
   ]
  },
  {
   "cell_type": "code",
   "execution_count": 4,
   "metadata": {},
   "outputs": [
    {
     "data": {
      "text/plain": [
       "   Min. 1st Qu.  Median    Mean 3rd Qu.    Max.    NA's \n",
       "  36.30   63.10   72.10   69.22   75.70   89.00      10 "
      ]
     },
     "metadata": {},
     "output_type": "display_data"
    },
    {
     "data": {
      "image/png": "[encoded data removed]",
      "text/plain": [
       "Plot with title \"Espérence de vie\""
      ]
     },
     "metadata": {},
     "output_type": "display_data"
    }
   ],
   "source": [
    "attach(dataset)\n",
    "\n",
    "# Variable d'intérêt: Lifeexpectancy\n",
    "summary(Lifeexpectancy)\n",
    "boxplot(Lifeexpectancy,horizontal=T,main=\"Espérence de vie\",xlab=\"Lifeexpectancy\")"
   ]
  },
  {
   "cell_type": "code",
   "execution_count": 5,
   "metadata": {},
   "outputs": [
    {
     "data": {
      "text/plain": [
       "   Min. 1st Qu.  Median    Mean 3rd Qu.    Max.    NA's \n",
       "    1.0    74.0   144.0   164.8   228.0   723.0      10 "
      ]
     },
     "metadata": {},
     "output_type": "display_data"
    }
   ],
   "source": [
    "# Variables explicatives quantitatives\n",
    "summary(AdultMortality)"
   ]
  },
  {
   "cell_type": "code",
   "execution_count": 6,
   "metadata": {},
   "outputs": [
    {
     "data": {
      "text/plain": [
       "   Min. 1st Qu.  Median    Mean 3rd Qu.    Max. \n",
       "    0.0     0.0     3.0    30.3    22.0  1800.0 "
      ]
     },
     "metadata": {},
     "output_type": "display_data"
    }
   ],
   "source": [
    "summary(infantdeaths)"
   ]
  },
  {
   "cell_type": "markdown",
   "metadata": {},
   "source": [
    "Très grande variabilité dans le nombre de décès de nourrissons pour 1000 habitants"
   ]
  },
  {
   "cell_type": "code",
   "execution_count": 7,
   "metadata": {},
   "outputs": [
    {
     "data": {
      "text/plain": [
       "   Min. 1st Qu.  Median    Mean 3rd Qu.    Max.    NA's \n",
       " 0.0100  0.8775  3.7550  4.6029  7.7025 17.8700     194 "
      ]
     },
     "metadata": {},
     "output_type": "display_data"
    }
   ],
   "source": [
    "summary(Alcohol)"
   ]
  },
  {
   "cell_type": "code",
   "execution_count": 8,
   "metadata": {},
   "outputs": [
    {
     "data": {
      "text/plain": [
       "     Min.   1st Qu.    Median      Mean   3rd Qu.      Max. \n",
       "    0.000     4.685    64.913   738.251   441.534 19479.912 "
      ]
     },
     "metadata": {},
     "output_type": "display_data"
    }
   ],
   "source": [
    "summary(percentageexpenditure)"
   ]
  },
  {
   "cell_type": "code",
   "execution_count": 9,
   "metadata": {},
   "outputs": [
    {
     "data": {
      "text/plain": [
       "   Min. 1st Qu.  Median    Mean 3rd Qu.    Max.    NA's \n",
       "   1.00   77.00   92.00   80.94   97.00   99.00     553 "
      ]
     },
     "metadata": {},
     "output_type": "display_data"
    }
   ],
   "source": [
    "summary(HepatitisB)"
   ]
  },
  {
   "cell_type": "markdown",
   "metadata": {},
   "source": [
    "Beaucoup de valeurs manquantes ici!"
   ]
  },
  {
   "cell_type": "markdown",
   "metadata": {},
   "source": [
    "### Exercice 1\n",
    "Ecrivez un code qui affiche automatiquement le nom et le résumé numérique de chacunes des variables explicatives subséquentes.\n",
    "- **INDICE:** Il s'agit des colonnes 10 à 22 du jeu de donnée; pensez à utiliser une boucle *for*.\n",
    "- Que constatez-vous?"
   ]
  },
  {
   "cell_type": "code",
   "execution_count": 10,
   "metadata": {},
   "outputs": [
    {
     "data": {
      "text/plain": [
       "Country\n",
       "                                  Afghanistan \n",
       "                                           16 \n",
       "                                      Albania \n",
       "                                           16 \n",
       "                                      Algeria \n",
       "                                           16 \n",
       "                                       Angola \n",
       "                                           16 \n",
       "                            AntiguaandBarbuda \n",
       "                                           16 \n",
       "                                    Argentina \n",
       "                                           16 \n",
       "                                      Armenia \n",
       "                                           16 \n",
       "                                    Australia \n",
       "                                           16 \n",
       "                                      Austria \n",
       "                                           16 \n",
       "                                   Azerbaijan \n",
       "                                           16 \n",
       "                                      Bahamas \n",
       "                                           16 \n",
       "                                      Bahrain \n",
       "                                           16 \n",
       "                                   Bangladesh \n",
       "                                           16 \n",
       "                                     Barbados \n",
       "                                           16 \n",
       "                                      Belarus \n",
       "                                           16 \n",
       "                                      Belgium \n",
       "                                           16 \n",
       "                                       Belize \n",
       "                                           16 \n",
       "                                        Benin \n",
       "                                           16 \n",
       "                                       Bhutan \n",
       "                                           16 \n",
       "                Bolivia(PlurinationalStateof) \n",
       "                                           16 \n",
       "                         BosniaandHerzegovina \n",
       "                                           16 \n",
       "                                     Botswana \n",
       "                                           16 \n",
       "                                       Brazil \n",
       "                                           16 \n",
       "                             BruneiDarussalam \n",
       "                                           16 \n",
       "                                     Bulgaria \n",
       "                                           16 \n",
       "                                  BurkinaFaso \n",
       "                                           16 \n",
       "                                      Burundi \n",
       "                                           16 \n",
       "                                CÃ´ted'Ivoire \n",
       "                                           16 \n",
       "                                    CaboVerde \n",
       "                                           16 \n",
       "                                     Cambodia \n",
       "                                           16 \n",
       "                                     Cameroon \n",
       "                                           16 \n",
       "                                       Canada \n",
       "                                           16 \n",
       "                       CentralAfricanRepublic \n",
       "                                           16 \n",
       "                                         Chad \n",
       "                                           16 \n",
       "                                        Chile \n",
       "                                           16 \n",
       "                                        China \n",
       "                                           16 \n",
       "                                     Colombia \n",
       "                                           16 \n",
       "                                      Comoros \n",
       "                                           16 \n",
       "                                        Congo \n",
       "                                           16 \n",
       "                                  CookIslands \n",
       "                                            1 \n",
       "                                    CostaRica \n",
       "                                           16 \n",
       "                                      Croatia \n",
       "                                           16 \n",
       "                                         Cuba \n",
       "                                           16 \n",
       "                                       Cyprus \n",
       "                                           16 \n",
       "                                      Czechia \n",
       "                                           16 \n",
       "            DemocraticPeople'sRepublicofKorea \n",
       "                                           16 \n",
       "                 DemocraticRepublicoftheCongo \n",
       "                                           16 \n",
       "                                      Denmark \n",
       "                                           16 \n",
       "                                     Djibouti \n",
       "                                           16 \n",
       "                                     Dominica \n",
       "                                            1 \n",
       "                            DominicanRepublic \n",
       "                                           16 \n",
       "                                      Ecuador \n",
       "                                           16 \n",
       "                                        Egypt \n",
       "                                           16 \n",
       "                                   ElSalvador \n",
       "                                           16 \n",
       "                             EquatorialGuinea \n",
       "                                           16 \n",
       "                                      Eritrea \n",
       "                                           16 \n",
       "                                      Estonia \n",
       "                                           16 \n",
       "                                     Ethiopia \n",
       "                                           16 \n",
       "                                         Fiji \n",
       "                                           16 \n",
       "                                      Finland \n",
       "                                           16 \n",
       "                                       France \n",
       "                                           16 \n",
       "                                        Gabon \n",
       "                                           16 \n",
       "                                       Gambia \n",
       "                                           16 \n",
       "                                      Georgia \n",
       "                                           16 \n",
       "                                      Germany \n",
       "                                           16 \n",
       "                                        Ghana \n",
       "                                           16 \n",
       "                                       Greece \n",
       "                                           16 \n",
       "                                      Grenada \n",
       "                                           16 \n",
       "                                    Guatemala \n",
       "                                           16 \n",
       "                                       Guinea \n",
       "                                           16 \n",
       "                                Guinea-Bissau \n",
       "                                           16 \n",
       "                                       Guyana \n",
       "                                           16 \n",
       "                                        Haiti \n",
       "                                           16 \n",
       "                                     Honduras \n",
       "                                           16 \n",
       "                                      Hungary \n",
       "                                           16 \n",
       "                                      Iceland \n",
       "                                           16 \n",
       "                                        India \n",
       "                                           16 \n",
       "                                    Indonesia \n",
       "                                           16 \n",
       "                      Iran(IslamicRepublicof) \n",
       "                                           16 \n",
       "                                         Iraq \n",
       "                                           16 \n",
       "                                      Ireland \n",
       "                                           16 \n",
       "                                       Israel \n",
       "                                           16 \n",
       "                                        Italy \n",
       "                                           16 \n",
       "                                      Jamaica \n",
       "                                           16 \n",
       "                                        Japan \n",
       "                                           16 \n",
       "                                       Jordan \n",
       "                                           16 \n",
       "                                   Kazakhstan \n",
       "                                           16 \n",
       "                                        Kenya \n",
       "                                           16 \n",
       "                                     Kiribati \n",
       "                                           16 \n",
       "                                       Kuwait \n",
       "                                           16 \n",
       "                                   Kyrgyzstan \n",
       "                                           16 \n",
       "                LaoPeople'sDemocraticRepublic \n",
       "                                           16 \n",
       "                                       Latvia \n",
       "                                           16 \n",
       "                                      Lebanon \n",
       "                                           16 \n",
       "                                      Lesotho \n",
       "                                           16 \n",
       "                                      Liberia \n",
       "                                           16 \n",
       "                                        Libya \n",
       "                                           16 \n",
       "                                    Lithuania \n",
       "                                           16 \n",
       "                                   Luxembourg \n",
       "                                           16 \n",
       "                                   Madagascar \n",
       "                                           16 \n",
       "                                       Malawi \n",
       "                                           16 \n",
       "                                     Malaysia \n",
       "                                           16 \n",
       "                                     Maldives \n",
       "                                           16 \n",
       "                                         Mali \n",
       "                                           16 \n",
       "                                        Malta \n",
       "                                           16 \n",
       "                              MarshallIslands \n",
       "                                            1 \n",
       "                                   Mauritania \n",
       "                                           16 \n",
       "                                    Mauritius \n",
       "                                           16 \n",
       "                                       Mexico \n",
       "                                           16 \n",
       "                Micronesia(FederatedStatesof) \n",
       "                                           16 \n",
       "                                       Monaco \n",
       "                                            1 \n",
       "                                     Mongolia \n",
       "                                           16 \n",
       "                                   Montenegro \n",
       "                                           16 \n",
       "                                      Morocco \n",
       "                                           16 \n",
       "                                   Mozambique \n",
       "                                           16 \n",
       "                                      Myanmar \n",
       "                                           16 \n",
       "                                      Namibia \n",
       "                                           16 \n",
       "                                        Nauru \n",
       "                                            1 \n",
       "                                        Nepal \n",
       "                                           16 \n",
       "                                  Netherlands \n",
       "                                           16 \n",
       "                                   NewZealand \n",
       "                                           16 \n",
       "                                    Nicaragua \n",
       "                                           16 \n",
       "                                        Niger \n",
       "                                           16 \n",
       "                                      Nigeria \n",
       "                                           16 \n",
       "                                         Niue \n",
       "                                            1 \n",
       "                                       Norway \n",
       "                                           16 \n",
       "                                         Oman \n",
       "                                           16 \n",
       "                                     Pakistan \n",
       "                                           16 \n",
       "                                        Palau \n",
       "                                            1 \n",
       "                                       Panama \n",
       "                                           16 \n",
       "                               PapuaNewGuinea \n",
       "                                           16 \n",
       "                                     Paraguay \n",
       "                                           16 \n",
       "                                         Peru \n",
       "                                           16 \n",
       "                                  Philippines \n",
       "                                           16 \n",
       "                                       Poland \n",
       "                                           16 \n",
       "                                     Portugal \n",
       "                                           16 \n",
       "                                        Qatar \n",
       "                                           16 \n",
       "                              RepublicofKorea \n",
       "                                           16 \n",
       "                            RepublicofMoldova \n",
       "                                           16 \n",
       "                                      Romania \n",
       "                                           16 \n",
       "                            RussianFederation \n",
       "                                           16 \n",
       "                                       Rwanda \n",
       "                                           16 \n",
       "                           SaintKittsandNevis \n",
       "                                            1 \n",
       "                                   SaintLucia \n",
       "                                           16 \n",
       "                 SaintVincentandtheGrenadines \n",
       "                                           16 \n",
       "                                        Samoa \n",
       "                                           16 \n",
       "                                    SanMarino \n",
       "                                            1 \n",
       "                           SaoTomeandPrincipe \n",
       "                                           16 \n",
       "                                  SaudiArabia \n",
       "                                           16 \n",
       "                                      Senegal \n",
       "                                           16 \n",
       "                                       Serbia \n",
       "                                           16 \n",
       "                                   Seychelles \n",
       "                                           16 \n",
       "                                  SierraLeone \n",
       "                                           16 \n",
       "                                    Singapore \n",
       "                                           16 \n",
       "                                     Slovakia \n",
       "                                           16 \n",
       "                                     Slovenia \n",
       "                                           16 \n",
       "                               SolomonIslands \n",
       "                                           16 \n",
       "                                      Somalia \n",
       "                                           16 \n",
       "                                  SouthAfrica \n",
       "                                           16 \n",
       "                                   SouthSudan \n",
       "                                           16 \n",
       "                                        Spain \n",
       "                                           16 \n",
       "                                     SriLanka \n",
       "                                           16 \n",
       "                                        Sudan \n",
       "                                           16 \n",
       "                                     Suriname \n",
       "                                           16 \n",
       "                                    Swaziland \n",
       "                                           16 \n",
       "                                       Sweden \n",
       "                                           16 \n",
       "                                  Switzerland \n",
       "                                           16 \n",
       "                           SyrianArabRepublic \n",
       "                                           16 \n",
       "                                   Tajikistan \n",
       "                                           16 \n",
       "                                     Thailand \n",
       "                                           16 \n",
       "         TheformerYugoslavrepublicofMacedonia \n",
       "                                           16 \n",
       "                                  Timor-Leste \n",
       "                                           16 \n",
       "                                         Togo \n",
       "                                           16 \n",
       "                                        Tonga \n",
       "                                           16 \n",
       "                            TrinidadandTobago \n",
       "                                           16 \n",
       "                                      Tunisia \n",
       "                                           16 \n",
       "                                       Turkey \n",
       "                                           16 \n",
       "                                 Turkmenistan \n",
       "                                           16 \n",
       "                                       Tuvalu \n",
       "                                            1 \n",
       "                                       Uganda \n",
       "                                           16 \n",
       "                                      Ukraine \n",
       "                                           16 \n",
       "                           UnitedArabEmirates \n",
       "                                           16 \n",
       "UnitedKingdomofGreatBritainandNorthernIreland \n",
       "                                           16 \n",
       "                     UnitedRepublicofTanzania \n",
       "                                           16 \n",
       "                        UnitedStatesofAmerica \n",
       "                                           16 \n",
       "                                      Uruguay \n",
       "                                           16 \n",
       "                                   Uzbekistan \n",
       "                                           16 \n",
       "                                      Vanuatu \n",
       "                                           16 \n",
       "              Venezuela(BolivarianRepublicof) \n",
       "                                           16 \n",
       "                                      VietNam \n",
       "                                           16 \n",
       "                                        Yemen \n",
       "                                           16 \n",
       "                                       Zambia \n",
       "                                           16 \n",
       "                                     Zimbabwe \n",
       "                                           16 "
      ]
     },
     "metadata": {},
     "output_type": "display_data"
    },
    {
     "data": {
      "text/plain": [
       "Status\n",
       " Developed Developing \n",
       "       512       2426 "
      ]
     },
     "metadata": {},
     "output_type": "display_data"
    }
   ],
   "source": [
    "# Variables explicatives qualitatives\n",
    "table(Country)\n",
    "table(Status)\n"
   ]
  },
  {
   "cell_type": "markdown",
   "metadata": {},
   "source": [
    "Plusieurs Pays ont seulement des observations pour une année."
   ]
  },
  {
   "cell_type": "markdown",
   "metadata": {},
   "source": [
    "## Résumé graphique des variables\n",
    "Etant donné qu'on veut ajuster un modèle de régression linéaire aux données, il est primordial de s'assurer qu'il existe bien une relation linéaire entre l'espérence de vie et les variables explicatives considérées. C'est l'une des quatre principales hypothèse du modèle (qu'on regardera brièvement plus bas) qui stipule que le modèle linéaire est bien spécifié et que toutes les variables importantes du modèle y sont bien incluses, sous la bonne forme. Le cas échéant on fera les transformations adéquates dans la mesure du possible."
   ]
  },
  {
   "cell_type": "code",
   "execution_count": 11,
   "metadata": {},
   "outputs": [
    {
     "data": {
      "image/png": "[encoded data removed]",
      "text/plain": [
       "plot without title"
      ]
     },
     "metadata": {},
     "output_type": "display_data"
    }
   ],
   "source": [
    "# Pour les variables quantitatives \n",
    "\n",
    "par(mfrow=c(3,3))\n",
    "for(i in c(5:13)){\n",
    "    plot(dataset[,i], Lifeexpectancy, xlab=colnames(dataset[i]), ylab=\"Lifeexpectancy\")\n",
    "}"
   ]
  },
  {
   "cell_type": "code",
   "execution_count": 12,
   "metadata": {},
   "outputs": [
    {
     "data": {
      "image/png": "[encoded data removed]",
      "text/plain": [
       "plot without title"
      ]
     },
     "metadata": {},
     "output_type": "display_data"
    }
   ],
   "source": [
    "par(mfrow=c(3,3))\n",
    "for(i in c(14:22)){\n",
    "    plot(dataset[,i], Lifeexpectancy, xlab=colnames(dataset[i]), ylab=\"Lifeexpectancy\")\n",
    "}"
   ]
  },
  {
   "cell_type": "markdown",
   "metadata": {},
   "source": [
    "Pour la majorité des variables explicatives, il semble y avoir beaucoup de valeurs à zéro. La plupart des variables semblent être linéairement liées avec l'espérence de vie quand on fait abstraction des zéros. Toutefois, il serait intérressant de considérer:\n",
    "- une composante quadratique de thinness5.9years, thinness1.19years et HIV.AIDS\n",
    "- une composante logarithmique de population et GDP."
   ]
  },
  {
   "cell_type": "code",
   "execution_count": 13,
   "metadata": {},
   "outputs": [
    {
     "data": {
      "image/png": "[encoded data removed]",
      "text/plain": [
       "plot without title"
      ]
     },
     "metadata": {},
     "output_type": "display_data"
    }
   ],
   "source": [
    "# Pour les variables qualitatives \n",
    "\n",
    "par(mfrow=c(2,1))\n",
    "for(i in c(1,3)){\n",
    "    boxplot(Lifeexpectancy~dataset[,i], xlab=colnames(dataset[i]), ylab=\"Lifeexpectancy\")\n",
    "}\n"
   ]
  },
  {
   "cell_type": "markdown",
   "metadata": {},
   "source": [
    "L'espérence de vie varie énormément d'un pays à l'autre et est clairement plus élevée dans les pays développés."
   ]
  },
  {
   "cell_type": "markdown",
   "metadata": {},
   "source": [
    "### Exercice 2\n",
    "Réalisez un résumé graphique de la variable Year dans un premier temps comme variable quantitative et dans un deuxième temps come variable qualitative.\n",
    "- selon vous sous quelle forme devrait-elle être introduite dans le modèle?"
   ]
  },
  {
   "cell_type": "code",
   "execution_count": 14,
   "metadata": {},
   "outputs": [
    {
     "data": {
      "text/html": [
       "<ol class=list-inline>\n",
       "\t<li>2938</li>\n",
       "\t<li>27</li>\n",
       "</ol>\n"
      ],
      "text/latex": [
       "\\begin{enumerate*}\n",
       "\\item 2938\n",
       "\\item 27\n",
       "\\end{enumerate*}\n"
      ],
      "text/markdown": [
       "1. 2938\n",
       "2. 27\n",
       "\n",
       "\n"
      ],
      "text/plain": [
       "[1] 2938   27"
      ]
     },
     "metadata": {},
     "output_type": "display_data"
    }
   ],
   "source": [
    "# Création des nouvelles variables\n",
    "\n",
    "dataset$thinness5.9years2         = dataset$thinness5.9years^2\n",
    "dataset$thinness1.19years2        = dataset$thinness1.19years^2 \n",
    "dataset$HIV.AIDS2                 = dataset$HIV.AIDS^2\n",
    "dataset$log_Population            = log(dataset$Population)\n",
    "dataset$log_GDP                   = log(dataset$GDP)\n",
    "\n",
    "dim(dataset)"
   ]
  },
  {
   "cell_type": "code",
   "execution_count": 15,
   "metadata": {},
   "outputs": [],
   "source": [
    "set.seed(0611)"
   ]
  },
  {
   "cell_type": "markdown",
   "metadata": {},
   "source": [
    "## Sample\n",
    "La commande sample permet de choisir, parmi un ensemble spécifié, un échantillon de taille donnée, avec ou sans remise. On l'utilise ici pour opérer le choix de l'année."
   ]
  },
  {
   "cell_type": "code",
   "execution_count": 16,
   "metadata": {},
   "outputs": [
    {
     "data": {
      "text/html": [
       "2014"
      ],
      "text/latex": [
       "2014"
      ],
      "text/markdown": [
       "2014"
      ],
      "text/plain": [
       "[1] 2014"
      ]
     },
     "metadata": {},
     "output_type": "display_data"
    }
   ],
   "source": [
    "cible = sample(Year, 1, replace = F)\n",
    "cible"
   ]
  },
  {
   "cell_type": "code",
   "execution_count": 17,
   "metadata": {},
   "outputs": [
    {
     "data": {
      "text/html": [
       "<ol class=list-inline>\n",
       "\t<li>151</li>\n",
       "\t<li>27</li>\n",
       "</ol>\n"
      ],
      "text/latex": [
       "\\begin{enumerate*}\n",
       "\\item 151\n",
       "\\item 27\n",
       "\\end{enumerate*}\n"
      ],
      "text/markdown": [
       "1. 151\n",
       "2. 27\n",
       "\n",
       "\n"
      ],
      "text/plain": [
       "[1] 151  27"
      ]
     },
     "metadata": {},
     "output_type": "display_data"
    },
    {
     "data": {
      "text/html": [
       "<table>\n",
       "<thead><tr><th></th><th scope=col>Country</th><th scope=col>Year</th><th scope=col>Status</th><th scope=col>Lifeexpectancy</th><th scope=col>AdultMortality</th><th scope=col>infantdeaths</th><th scope=col>Alcohol</th><th scope=col>percentageexpenditure</th><th scope=col>HepatitisB</th><th scope=col>Measles</th><th scope=col>...</th><th scope=col>Population</th><th scope=col>thinness1.19years</th><th scope=col>thinness5.9years</th><th scope=col>Incomecompositionofresources</th><th scope=col>Schooling</th><th scope=col>thinness5.9years2</th><th scope=col>thinness1.19years2</th><th scope=col>HIV.AIDS2</th><th scope=col>log_Population</th><th scope=col>log_GDP</th></tr></thead>\n",
       "<tbody>\n",
       "\t<tr><th scope=row>2</th><td>Afghanistan                  </td><td>2014                         </td><td>Developing                   </td><td>59.9                         </td><td>271                          </td><td>64                           </td><td> 0.01                        </td><td>  73.52358                   </td><td>62                           </td><td>  492                        </td><td>...                          </td><td>  327582                     </td><td>17.5                         </td><td>17.5                         </td><td>0.476                        </td><td>10.0                         </td><td>306.25                       </td><td>306.25                       </td><td> 0.01                        </td><td>12.69949                     </td><td> 6.417870                    </td></tr>\n",
       "\t<tr><th scope=row>18</th><td>Albania                      </td><td>2014                         </td><td>Developing                   </td><td>77.5                         </td><td>  8                          </td><td> 0                           </td><td> 4.51                        </td><td> 428.74907                   </td><td>98                           </td><td>    0                        </td><td>...                          </td><td>  288914                     </td><td> 1.2                         </td><td> 1.3                         </td><td>0.761                        </td><td>14.2                         </td><td>  1.69                       </td><td>  1.44                       </td><td> 0.01                        </td><td>12.57388                     </td><td> 8.428529                    </td></tr>\n",
       "\t<tr><th scope=row>34</th><td>Algeria                      </td><td>2014                         </td><td>Developing                   </td><td>75.4                         </td><td> 11                          </td><td>21                           </td><td> 0.01                        </td><td>  54.23732                   </td><td>95                           </td><td>    0                        </td><td>...                          </td><td>39113313                     </td><td> 6.0                         </td><td> 5.8                         </td><td>0.741                        </td><td>14.4                         </td><td> 33.64                       </td><td> 36.00                       </td><td> 0.01                        </td><td>17.48197                     </td><td> 6.306005                    </td></tr>\n",
       "\t<tr><th scope=row>50</th><td>Angola                       </td><td>2014                         </td><td>Developing                   </td><td>51.7                         </td><td>348                          </td><td>67                           </td><td> 8.33                        </td><td>  23.96561                   </td><td>64                           </td><td>11699                        </td><td>...                          </td><td> 2692466                     </td><td> 8.5                         </td><td> 8.3                         </td><td>0.527                        </td><td>11.4                         </td><td> 68.89                       </td><td> 72.25                       </td><td> 4.00                        </td><td>14.80597                     </td><td> 6.172352                    </td></tr>\n",
       "\t<tr><th scope=row>66</th><td>AntiguaandBarbuda            </td><td>2014                         </td><td>Developing                   </td><td>76.2                         </td><td>131                          </td><td> 0                           </td><td> 8.56                        </td><td>2422.99977                   </td><td>99                           </td><td>    0                        </td><td>...                          </td><td>      NA                     </td><td> 3.3                         </td><td> 3.3                         </td><td>0.782                        </td><td>13.9                         </td><td> 10.89                       </td><td> 10.89                       </td><td> 0.04                        </td><td>      NA                     </td><td> 9.464075                    </td></tr>\n",
       "\t<tr><th scope=row>82</th><td>Argentina                    </td><td>2014                         </td><td>Developing                   </td><td>76.2                         </td><td>118                          </td><td> 8                           </td><td> 7.93                        </td><td> 847.37175                   </td><td>94                           </td><td>    1                        </td><td>...                          </td><td>42981515                     </td><td> 1.0                         </td><td> 0.9                         </td><td>0.825                        </td><td>17.3                         </td><td>  0.81                       </td><td>  1.00                       </td><td> 0.01                        </td><td>17.57628                     </td><td> 9.412894                    </td></tr>\n",
       "\t<tr><th scope=row>98</th><td>Armenia                      </td><td>2014                         </td><td>Developing                   </td><td>74.6                         </td><td> 12                          </td><td> 1                           </td><td> 3.91                        </td><td> 295.60871                   </td><td>93                           </td><td>   13                        </td><td>...                          </td><td>   29622                     </td><td> 2.1                         </td><td> 2.1                         </td><td>0.739                        </td><td>12.7                         </td><td>  4.41                       </td><td>  4.41                       </td><td> 0.01                        </td><td>10.29627                     </td><td> 8.292727                    </td></tr>\n",
       "\t<tr><th scope=row>146</th><td>Azerbaijan                   </td><td>2014                         </td><td>Developing                   </td><td>72.5                         </td><td>119                          </td><td> 5                           </td><td> 0.01                        </td><td> 306.18243                   </td><td>94                           </td><td>    0                        </td><td>...                          </td><td>  953579                     </td><td> 2.8                         </td><td> 2.9                         </td><td>0.752                        </td><td>12.2                         </td><td>  8.41                       </td><td>  7.84                       </td><td> 0.01                        </td><td>13.76798                     </td><td> 8.973516                    </td></tr>\n",
       "\t<tr><th scope=row>162</th><td>Bahamas                      </td><td>2014                         </td><td>Developing                   </td><td>75.4                         </td><td> 16                          </td><td> 0                           </td><td> 9.45                        </td><td>   0.00000                   </td><td>96                           </td><td>    0                        </td><td>...                          </td><td>      NA                     </td><td> 2.5                         </td><td> 2.5                         </td><td>0.789                        </td><td>12.6                         </td><td>  6.25                       </td><td>  6.25                       </td><td> 0.01                        </td><td>      NA                     </td><td>       NA                    </td></tr>\n",
       "\t<tr><th scope=row>178</th><td>Bahrain                      </td><td>2014                         </td><td>Developing                   </td><td>76.8                         </td><td>  7                          </td><td> 0                           </td><td> 1.57                        </td><td> 367.25567                   </td><td>98                           </td><td>   46                        </td><td>...                          </td><td>      NA                     </td><td> 6.1                         </td><td> 6.0                         </td><td>0.820                        </td><td>14.5                         </td><td> 36.00                       </td><td> 37.21                       </td><td> 0.01                        </td><td>      NA                     </td><td>10.125966                    </td></tr>\n",
       "\t<tr><th scope=row>194</th><td>Bangladesh                   </td><td>2014                         </td><td>Developing                   </td><td>71.4                         </td><td>132                          </td><td>98                           </td><td> 0.01                        </td><td>  10.44640                   </td><td>97                           </td><td>  289                        </td><td>...                          </td><td>15945279                     </td><td>18.1                         </td><td>18.6                         </td><td>0.570                        </td><td>10.0                         </td><td>345.96                       </td><td>327.61                       </td><td> 0.01                        </td><td>16.58467                     </td><td> 5.218004                    </td></tr>\n",
       "\t<tr><th scope=row>210</th><td>Barbados                     </td><td>2014                         </td><td>Developing                   </td><td>75.4                         </td><td>  1                          </td><td> 0                           </td><td> 8.82                        </td><td> 294.90566                   </td><td>94                           </td><td>    0                        </td><td>...                          </td><td>      NA                     </td><td> 3.8                         </td><td> 3.7                         </td><td>0.793                        </td><td>15.3                         </td><td> 13.69                       </td><td> 14.44                       </td><td> 0.01                        </td><td>      NA                     </td><td> 9.639501                    </td></tr>\n",
       "\t<tr><th scope=row>226</th><td>Belarus                      </td><td>2014                         </td><td>Developing                   </td><td>72.0                         </td><td>199                          </td><td> 0                           </td><td>13.94                        </td><td>1147.11140                   </td><td>97                           </td><td>   64                        </td><td>...                          </td><td> 9474511                     </td><td> 1.9                         </td><td> 2.0                         </td><td>0.796                        </td><td>15.7                         </td><td>  4.00                       </td><td>  3.61                       </td><td> 0.01                        </td><td>16.06412                     </td><td> 9.026229                    </td></tr>\n",
       "\t<tr><th scope=row>258</th><td>Belize                       </td><td>2014                         </td><td>Developing                   </td><td>70.0                         </td><td>177                          </td><td> 0                           </td><td> 6.58                        </td><td> 670.09209                   </td><td>95                           </td><td>    0                        </td><td>...                          </td><td>  351694                     </td><td> 3.4                         </td><td> 3.4                         </td><td>0.705                        </td><td>12.8                         </td><td> 11.56                       </td><td> 11.56                       </td><td> 0.04                        </td><td>12.77052                     </td><td> 8.487192                    </td></tr>\n",
       "\t<tr><th scope=row>274</th><td>Benin                        </td><td>2014                         </td><td>Developing                   </td><td>59.7                         </td><td>252                          </td><td>25                           </td><td> 0.01                        </td><td>  90.12207                   </td><td>78                           </td><td>  786                        </td><td>...                          </td><td> 1286712                     </td><td> 7.1                         </td><td> 6.9                         </td><td>0.475                        </td><td>10.7                         </td><td> 47.61                       </td><td> 50.41                       </td><td> 1.21                        </td><td>14.06760                     </td><td> 6.849794                    </td></tr>\n",
       "\t<tr><th scope=row>290</th><td>Bhutan                       </td><td>2014                         </td><td>Developing                   </td><td>69.4                         </td><td>216                          </td><td> 0                           </td><td> 0.01                        </td><td> 209.39213                   </td><td>99                           </td><td>    0                        </td><td>...                          </td><td>  776448                     </td><td>15.7                         </td><td>16.2                         </td><td>0.596                        </td><td>12.5                         </td><td>262.44                       </td><td>246.49                       </td><td> 0.25                        </td><td>13.56248                     </td><td> 7.833123                    </td></tr>\n",
       "\t<tr><th scope=row>306</th><td>Bolivia(PlurinationalStateof)</td><td>2014                         </td><td>Developing                   </td><td>74.0                         </td><td>189                          </td><td> 8                           </td><td> 3.62                        </td><td>   0.00000                   </td><td>98                           </td><td>    0                        </td><td>...                          </td><td>      NA                     </td><td> 1.2                         </td><td> 1.1                         </td><td>0.666                        </td><td>13.8                         </td><td>  1.21                       </td><td>  1.44                       </td><td> 0.01                        </td><td>      NA                     </td><td>       NA                    </td></tr>\n",
       "\t<tr><th scope=row>322</th><td>BosniaandHerzegovina         </td><td>2014                         </td><td>Developing                   </td><td>77.2                         </td><td> 89                          </td><td> 0                           </td><td> 4.03                        </td><td> 732.86625                   </td><td>89                           </td><td> 3000                        </td><td>...                          </td><td>   35662                     </td><td> 2.4                         </td><td> 2.4                         </td><td>0.742                        </td><td>14.2                         </td><td>  5.76                       </td><td>  5.76                       </td><td> 0.01                        </td><td>10.48184                     </td><td> 8.555250                    </td></tr>\n",
       "\t<tr><th scope=row>338</th><td>Botswana                     </td><td>2014                         </td><td>Developing                   </td><td>65.1                         </td><td>268                          </td><td> 2                           </td><td> 0.01                        </td><td> 662.80219                   </td><td>95                           </td><td>    1                        </td><td>...                          </td><td> 2168573                     </td><td> 6.7                         </td><td> 6.4                         </td><td>0.697                        </td><td>12.6                         </td><td> 40.96                       </td><td> 44.89                       </td><td> 5.29                        </td><td>14.58958                     </td><td> 8.922360                    </td></tr>\n",
       "\t<tr><th scope=row>354</th><td>Brazil                       </td><td>2014                         </td><td>Developing                   </td><td>74.8                         </td><td>144                          </td><td>44                           </td><td> 7.32                        </td><td>  83.16465                   </td><td>96                           </td><td>  876                        </td><td>...                          </td><td>24213133                     </td><td> 2.7                         </td><td> 2.7                         </td><td>0.747                        </td><td>15.2                         </td><td>  7.29                       </td><td>  7.29                       </td><td> 0.01                        </td><td>17.00241                     </td><td> 7.112016                    </td></tr>\n",
       "\t<tr><th scope=row>370</th><td>BruneiDarussalam             </td><td>2014                         </td><td>Developing                   </td><td>77.6                         </td><td>  8                          </td><td> 0                           </td><td> 0.01                        </td><td> 269.14328                   </td><td>99                           </td><td>    1                        </td><td>...                          </td><td>      NA                     </td><td> 5.7                         </td><td> 5.2                         </td><td>0.863                        </td><td>15.0                         </td><td> 27.04                       </td><td> 32.49                       </td><td> 0.01                        </td><td>      NA                     </td><td> 8.333238                    </td></tr>\n",
       "\t<tr><th scope=row>402</th><td>BurkinaFaso                  </td><td>2014                         </td><td>Developing                   </td><td>59.3                         </td><td>268                          </td><td>39                           </td><td> 0.01                        </td><td>   8.38634                   </td><td>91                           </td><td>  343                        </td><td>...                          </td><td>17585977                     </td><td> 8.2                         </td><td> 7.7                         </td><td>0.398                        </td><td> 7.7                         </td><td> 59.29                       </td><td> 67.24                       </td><td> 0.36                        </td><td>16.68261                     </td><td> 4.319438                    </td></tr>\n",
       "\t<tr><th scope=row>418</th><td>Burundi                      </td><td>2014                         </td><td>Developing                   </td><td>59.1                         </td><td>297                          </td><td>22                           </td><td> 0.01                        </td><td>  41.25159                   </td><td>95                           </td><td>    0                        </td><td>...                          </td><td>  989179                     </td><td> 7.4                         </td><td> 7.3                         </td><td>0.404                        </td><td>10.6                         </td><td> 53.29                       </td><td> 54.76                       </td><td> 0.49                        </td><td>13.80463                     </td><td> 5.745401                    </td></tr>\n",
       "\t<tr><th scope=row>434</th><td>CÃ´ted'Ivoire                </td><td>2014                         </td><td>Developing                   </td><td>52.8                         </td><td> 47                          </td><td>58                           </td><td> 0.01                        </td><td>   0.00000                   </td><td>76                           </td><td>   50                        </td><td>...                          </td><td>      NA                     </td><td> 5.6                         </td><td> 5.6                         </td><td>   NA                        </td><td>  NA                         </td><td> 31.36                       </td><td> 31.36                       </td><td> 4.00                        </td><td>      NA                     </td><td>       NA                    </td></tr>\n",
       "\t<tr><th scope=row>450</th><td>CaboVerde                    </td><td>2014                         </td><td>Developing                   </td><td>73.0                         </td><td>117                          </td><td> 0                           </td><td> 0.01                        </td><td> 414.02424                   </td><td>97                           </td><td>    0                        </td><td>...                          </td><td>  526437                     </td><td> 6.8                         </td><td> 6.7                         </td><td>0.643                        </td><td>13.5                         </td><td> 44.89                       </td><td> 46.24                       </td><td> 0.04                        </td><td>13.17389                     </td><td> 8.168945                    </td></tr>\n",
       "\t<tr><th scope=row>466</th><td>Cambodia                     </td><td>2014                         </td><td>Developing                   </td><td>68.3                         </td><td>179                          </td><td>11                           </td><td> 0.01                        </td><td>  12.17952                   </td><td>88                           </td><td>    0                        </td><td>...                          </td><td>  152779                     </td><td> 1.9                         </td><td>11.0                         </td><td>0.553                        </td><td>10.9                         </td><td>121.00                       </td><td>  3.61                       </td><td> 0.04                        </td><td>11.93675                     </td><td> 5.291731                    </td></tr>\n",
       "\t<tr><th scope=row>482</th><td>Cameroon                     </td><td>2014                         </td><td>Developing                   </td><td>56.7                         </td><td>366                          </td><td>47                           </td><td> 0.01                        </td><td>  61.39264                   </td><td>87                           </td><td>  831                        </td><td>...                          </td><td> 2223994                     </td><td> 5.7                         </td><td> 5.7                         </td><td>0.507                        </td><td>10.4                         </td><td> 32.49                       </td><td> 32.49                       </td><td>13.69                        </td><td>14.61482                     </td><td> 7.273191                    </td></tr>\n",
       "\t<tr><th scope=row>498</th><td>Canada                       </td><td>2014                         </td><td>Developing                   </td><td>82.0                         </td><td> 65                          </td><td> 2                           </td><td> 8.10                        </td><td> 102.19022                   </td><td>55                           </td><td>  418                        </td><td>...                          </td><td>35544564                     </td><td> 0.5                         </td><td> 0.5                         </td><td>0.912                        </td><td>15.9                         </td><td>  0.25                       </td><td>  0.25                       </td><td> 0.01                        </td><td>17.38630                     </td><td> 6.299746                    </td></tr>\n",
       "\t<tr><th scope=row>514</th><td>CentralAfricanRepublic       </td><td>2014                         </td><td>Developing                   </td><td>58.0                         </td><td>437                          </td><td>15                           </td><td> 0.01                        </td><td>  53.43964                   </td><td>47                           </td><td>  210                        </td><td>...                          </td><td> 4515392                     </td><td> 8.4                         </td><td> 8.3                         </td><td>0.345                        </td><td> 7.1                         </td><td> 68.89                       </td><td> 70.56                       </td><td>20.25                        </td><td>15.32300                     </td><td> 5.932596                    </td></tr>\n",
       "\t<tr><th scope=row>530</th><td>Chad                         </td><td>2014                         </td><td>Developing                   </td><td>52.6                         </td><td>362                          </td><td>46                           </td><td> 0.01                        </td><td>  11.30207                   </td><td>37                           </td><td> 1275                        </td><td>...                          </td><td>13569438                     </td><td> 8.7                         </td><td> 8.5                         </td><td>0.390                        </td><td> 7.3                         </td><td> 72.25                       </td><td> 75.69                       </td><td> 8.41                        </td><td>16.42333                     </td><td> 4.836270                    </td></tr>\n",
       "\t<tr><th scope=row>...</th><td>...</td><td>...</td><td>...</td><td>...</td><td>...</td><td>...</td><td>...</td><td>...</td><td>...</td><td>...</td><td>   </td><td>...</td><td>...</td><td>...</td><td>...</td><td>...</td><td>...</td><td>...</td><td>...</td><td>...</td><td>...</td></tr>\n",
       "\t<tr><th scope=row>2379</th><td>Somalia                             </td><td>2014                                </td><td>Developing                          </td><td>54.3                                </td><td>321                                 </td><td>51                                  </td><td>0.01                                </td><td>   0.0000000                        </td><td>42                                  </td><td>10229                               </td><td>...                                 </td><td>      NA                            </td><td> 6.7                                </td><td> 6.5                                </td><td>   NA                               </td><td>  NA                                </td><td> 42.25                              </td><td> 44.89                              </td><td> 0.64                               </td><td>       NA                           </td><td> 6.035222                           </td></tr>\n",
       "\t<tr><th scope=row>2395</th><td>SouthAfrica                         </td><td>2014                                </td><td>Developing                          </td><td>62.0                                </td><td>347                                 </td><td>42                                  </td><td>7.38                                </td><td> 922.0507313                        </td><td> 8                                  </td><td>   66                               </td><td>...                                 </td><td>54146735                            </td><td> 4.9                                </td><td> 5.9                                </td><td>0.660                               </td><td>13.0                                </td><td> 34.81                              </td><td> 24.01                              </td><td>13.69                               </td><td>17.807208                           </td><td> 8.776418                           </td></tr>\n",
       "\t<tr><th scope=row>2411</th><td>SouthSudan                          </td><td>2014                                </td><td>Developing                          </td><td>56.6                                </td><td>343                                 </td><td>26                                  </td><td>  NA                                </td><td>  46.0744686                        </td><td>NA                                  </td><td>  441                               </td><td>...                                 </td><td> 1153971                            </td><td>  NA                                </td><td>  NA                                </td><td>0.421                               </td><td> 4.9                                </td><td>    NA                              </td><td>    NA                              </td><td>12.25                               </td><td>13.958720                           </td><td> 7.049135                           </td></tr>\n",
       "\t<tr><th scope=row>2443</th><td>SriLanka                            </td><td>2014                                </td><td>Developing                          </td><td>74.7                                </td><td>141                                 </td><td> 3                                  </td><td>2.37                                </td><td>  42.7308283                        </td><td>99                                  </td><td> 1686                               </td><td>...                                 </td><td>    2771                            </td><td>15.2                                </td><td>15.0                                </td><td>0.760                               </td><td>14.0                                </td><td>225.00                              </td><td>231.04                              </td><td> 0.01                               </td><td> 7.926964                           </td><td> 5.946859                           </td></tr>\n",
       "\t<tr><th scope=row>2459</th><td>Sudan                               </td><td>2014                                </td><td>Developing                          </td><td>63.8                                </td><td>229                                 </td><td>59                                  </td><td>0.01                                </td><td> 253.6086508                        </td><td>94                                  </td><td>  676                               </td><td>...                                 </td><td>37737913                            </td><td>  NA                                </td><td>  NA                                </td><td>0.485                               </td><td> 7.2                                </td><td>    NA                              </td><td>    NA                              </td><td> 0.09                               </td><td>17.446176                           </td><td> 7.685656                           </td></tr>\n",
       "\t<tr><th scope=row>2475</th><td>Suriname                            </td><td>2014                                </td><td>Developing                          </td><td>71.4                                </td><td>178                                 </td><td> 0                                  </td><td>6.32                                </td><td>1132.4325170                        </td><td>85                                  </td><td>    0                               </td><td>...                                 </td><td>  547928                            </td><td> 3.5                                </td><td> 3.5                                </td><td>0.722                               </td><td>12.7                                </td><td> 12.25                              </td><td> 12.25                              </td><td> 0.16                               </td><td>13.213899                           </td><td> 9.165810                           </td></tr>\n",
       "\t<tr><th scope=row>2491</th><td>Swaziland                           </td><td>2014                                </td><td>Developing                          </td><td>58.4                                </td><td>382                                 </td><td> 2                                  </td><td>0.01                                </td><td> 574.3895102                        </td><td>98                                  </td><td>    0                               </td><td>...                                 </td><td>  129597                            </td><td> 4.3                                </td><td> 4.3                                </td><td>0.541                               </td><td>11.4                                </td><td> 18.49                              </td><td> 18.49                              </td><td>53.29                               </td><td>11.772185                           </td><td> 8.150281                           </td></tr>\n",
       "\t<tr><th scope=row>2539</th><td>SyrianArabRepublic                  </td><td>2014                                </td><td>Developing                          </td><td>64.4                                </td><td>294                                 </td><td> 7                                  </td><td>0.01                                </td><td>   0.0000000                        </td><td>47                                  </td><td>  594                               </td><td>...                                 </td><td>   19239                            </td><td> 6.3                                </td><td> 6.1                                </td><td>0.575                               </td><td> 9.0                                </td><td> 37.21                              </td><td> 39.69                              </td><td> 0.01                               </td><td> 9.864695                           </td><td>       NA                           </td></tr>\n",
       "\t<tr><th scope=row>2555</th><td>Tajikistan                          </td><td>2014                                </td><td>Developing                          </td><td>69.6                                </td><td>162                                 </td><td>10                                  </td><td>0.01                                </td><td>   7.8290086                        </td><td>97                                  </td><td>    0                               </td><td>...                                 </td><td> 8362745                            </td><td> 3.6                                </td><td> 3.7                                </td><td>0.622                               </td><td>11.3                                </td><td> 13.69                              </td><td> 12.96                              </td><td> 0.04                               </td><td>15.939297                           </td><td> 4.740218                           </td></tr>\n",
       "\t<tr><th scope=row>2571</th><td>Thailand                            </td><td>2014                                </td><td>Developing                          </td><td>74.6                                </td><td>152                                 </td><td> 8                                  </td><td>6.41                                </td><td> 789.0772949                        </td><td>99                                  </td><td>    0                               </td><td>...                                 </td><td>68416772                            </td><td> 7.8                                </td><td> 7.8                                </td><td>0.737                               </td><td>13.6                                </td><td> 60.84                              </td><td> 60.84                              </td><td> 0.01                               </td><td>18.041129                           </td><td> 8.689775                           </td></tr>\n",
       "\t<tr><th scope=row>2587</th><td>TheformerYugoslavrepublicofMacedonia</td><td>2014                                </td><td>Developing                          </td><td>75.5                                </td><td> 12                                 </td><td> 0                                  </td><td>1.13                                </td><td>   0.0000000                        </td><td>97                                  </td><td>  116                               </td><td>...                                 </td><td>      NA                            </td><td> 2.2                                </td><td> 2.2                                </td><td>0.743                               </td><td>12.9                                </td><td>  4.84                              </td><td>  4.84                              </td><td> 0.01                               </td><td>       NA                           </td><td>       NA                           </td></tr>\n",
       "\t<tr><th scope=row>2603</th><td>Timor-Leste                         </td><td>2014                                </td><td>Developing                          </td><td>68.0                                </td><td>155                                 </td><td> 2                                  </td><td>0.01                                </td><td>  28.1457850                        </td><td>77                                  </td><td>   47                               </td><td>...                                 </td><td> 1212814                            </td><td> 1.9                                </td><td>11.1                                </td><td>0.612                               </td><td>12.5                                </td><td>123.21                              </td><td>  3.61                              </td><td> 0.01                               </td><td>14.008454                           </td><td> 7.050570                           </td></tr>\n",
       "\t<tr><th scope=row>2619</th><td>Togo                                </td><td>2014                                </td><td>Developing                          </td><td>59.7                                </td><td>285                                 </td><td>13                                  </td><td>0.01                                </td><td>   4.8773501                        </td><td>87                                  </td><td>  577                               </td><td>...                                 </td><td> 7228915                            </td><td> 6.6                                </td><td> 6.4                                </td><td>0.475                               </td><td>12.0                                </td><td> 40.96                              </td><td> 43.56                              </td><td> 1.00                               </td><td>15.793600                           </td><td> 4.129259                           </td></tr>\n",
       "\t<tr><th scope=row>2635</th><td>Tonga                               </td><td>2014                                </td><td>Developing                          </td><td>73.3                                </td><td>135                                 </td><td> 0                                  </td><td>0.01                                </td><td> 565.9672173                        </td><td> 8                                  </td><td>    0                               </td><td>...                                 </td><td>   15782                            </td><td> 0.1                                </td><td> 0.1                                </td><td>0.716                               </td><td>14.3                                </td><td>  0.01                              </td><td>  0.01                              </td><td> 0.01                               </td><td> 9.666625                           </td><td> 8.341017                           </td></tr>\n",
       "\t<tr><th scope=row>2651</th><td>TrinidadandTobago                   </td><td>2014                                </td><td>Developing                          </td><td>71.1                                </td><td>171                                 </td><td> 0                                  </td><td>6.94                                </td><td>1578.8723390                        </td><td>92                                  </td><td>    0                               </td><td>...                                 </td><td> 1354493                            </td><td> 5.8                                </td><td> 6.0                                </td><td>0.778                               </td><td>12.7                                </td><td> 36.00                              </td><td> 33.64                              </td><td> 0.09                               </td><td>14.118938                           </td><td> 9.869167                           </td></tr>\n",
       "\t<tr><th scope=row>2667</th><td>Tunisia                             </td><td>2014                                </td><td>Developing                          </td><td>75.1                                </td><td> 12                                 </td><td> 3                                  </td><td>1.39                                </td><td> 604.8701316                        </td><td>98                                  </td><td>   15                               </td><td>...                                 </td><td> 1114398                            </td><td> 6.5                                </td><td> 6.4                                </td><td>0.722                               </td><td>14.7                                </td><td> 40.96                              </td><td> 42.25                              </td><td> 0.01                               </td><td>13.923825                           </td><td> 8.359763                           </td></tr>\n",
       "\t<tr><th scope=row>2683</th><td>Turkey                              </td><td>2014                                </td><td>Developing                          </td><td>75.5                                </td><td> 17                                 </td><td>16                                  </td><td>1.45                                </td><td> 181.9083783                        </td><td>96                                  </td><td>  565                               </td><td>...                                 </td><td>  773628                            </td><td> 4.9                                </td><td> 4.7                                </td><td>0.759                               </td><td>14.5                                </td><td> 22.09                              </td><td> 24.01                              </td><td> 0.01                               </td><td>13.558846                           </td><td> 9.403208                           </td></tr>\n",
       "\t<tr><th scope=row>2699</th><td>Turkmenistan                        </td><td>2014                                </td><td>Developing                          </td><td>66.0                                </td><td>217                                 </td><td> 7                                  </td><td>2.90                                </td><td> 691.1333535                        </td><td>97                                  </td><td>    0                               </td><td>...                                 </td><td> 5466241                            </td><td> 3.3                                </td><td> 3.3                                </td><td>0.683                               </td><td>10.8                                </td><td> 10.89                              </td><td> 10.89                              </td><td> 0.01                               </td><td>15.514102                           </td><td> 8.982481                           </td></tr>\n",
       "\t<tr><th scope=row>2716</th><td>Uganda                              </td><td>2014                                </td><td>Developing                          </td><td>61.5                                </td><td> 38                                 </td><td>68                                  </td><td>0.01                                </td><td>  14.1677016                        </td><td>78                                  </td><td>  314                               </td><td>...                                 </td><td>38833338                            </td><td> 5.7                                </td><td> 5.6                                </td><td>0.483                               </td><td>10.0                                </td><td> 31.36                              </td><td> 32.49                              </td><td>10.24                               </td><td>17.474790                           </td><td> 6.578101                           </td></tr>\n",
       "\t<tr><th scope=row>2732</th><td>Ukraine                             </td><td>2014                                </td><td>Developing                          </td><td>78.0                                </td><td> 23                                 </td><td> 4                                  </td><td>8.06                                </td><td>   5.6638493                        </td><td>22                                  </td><td>    0                               </td><td>...                                 </td><td>45271947                            </td><td> 2.3                                </td><td> 2.4                                </td><td>0.746                               </td><td>15.2                                </td><td>  5.76                              </td><td>  5.29                              </td><td> 0.04                               </td><td>17.628198                           </td><td> 5.751487                           </td></tr>\n",
       "\t<tr><th scope=row>2748</th><td>UnitedArabEmirates                  </td><td>2014                                </td><td>Developing                          </td><td>76.9                                </td><td> 77                                 </td><td> 1                                  </td><td>1.91                                </td><td>3862.6827100                        </td><td>99                                  </td><td>  344                               </td><td>...                                 </td><td>      NA                            </td><td> 5.2                                </td><td> 5.0                                </td><td>0.832                               </td><td>13.3                                </td><td> 25.00                              </td><td> 27.04                              </td><td> 0.01                               </td><td>       NA                           </td><td>10.702114                           </td></tr>\n",
       "\t<tr><th scope=row>2780</th><td>UnitedRepublicofTanzania            </td><td>2014                                </td><td>Developing                          </td><td>67.0                                </td><td> 34                                 </td><td>86                                  </td><td>0.01                                </td><td>   0.0000000                        </td><td>97                                  </td><td>   88                               </td><td>...                                 </td><td>      NA                            </td><td> 6.8                                </td><td> 6.6                                </td><td>   NA                               </td><td>  NA                                </td><td> 43.56                              </td><td> 46.24                              </td><td> 1.96                               </td><td>       NA                           </td><td>       NA                           </td></tr>\n",
       "\t<tr><th scope=row>2812</th><td>Uruguay                             </td><td>2014                                </td><td>Developing                          </td><td>76.8                                </td><td>117                                 </td><td> 0                                  </td><td>6.03                                </td><td> 463.6397821                        </td><td>95                                  </td><td>    0                               </td><td>...                                 </td><td> 3419546                            </td><td> 1.5                                </td><td> 1.4                                </td><td>0.791                               </td><td>15.5                                </td><td>  1.96                              </td><td>  2.25                              </td><td> 0.01                               </td><td>15.045018                           </td><td> 9.725431                           </td></tr>\n",
       "\t<tr><th scope=row>2828</th><td>Uzbekistan                          </td><td>2014                                </td><td>Developing                          </td><td>69.2                                </td><td>184                                 </td><td>16                                  </td><td>0.01                                </td><td>   0.4428024                        </td><td>99                                  </td><td>    8                               </td><td>...                                 </td><td>   37577                            </td><td> 3.0                                </td><td> 3.1                                </td><td>0.690                               </td><td>12.1                                </td><td>  9.61                              </td><td>  9.00                              </td><td> 0.01                               </td><td>10.534147                           </td><td> 3.236653                           </td></tr>\n",
       "\t<tr><th scope=row>2844</th><td>Vanuatu                             </td><td>2014                                </td><td>Developing                          </td><td>71.7                                </td><td>134                                 </td><td> 0                                  </td><td>0.01                                </td><td> 564.8167043                        </td><td>64                                  </td><td>   10                               </td><td>...                                 </td><td>   25885                            </td><td> 1.5                                </td><td> 1.4                                </td><td>0.596                               </td><td>10.8                                </td><td>  1.96                              </td><td>  2.25                              </td><td> 0.01                               </td><td>10.161419                           </td><td> 8.054639                           </td></tr>\n",
       "\t<tr><th scope=row>2860</th><td>Venezuela(BolivarianRepublicof)     </td><td>2014                                </td><td>Developing                          </td><td>73.9                                </td><td>158                                 </td><td> 9                                  </td><td>6.47                                </td><td>   0.0000000                        </td><td>78                                  </td><td>    0                               </td><td>...                                 </td><td>      NA                            </td><td> 1.6                                </td><td> 1.5                                </td><td>0.771                               </td><td>14.2                                </td><td>  2.25                              </td><td>  2.56                              </td><td> 0.01                               </td><td>       NA                           </td><td>       NA                           </td></tr>\n",
       "\t<tr><th scope=row>2876</th><td>VietNam                             </td><td>2014                                </td><td>Developing                          </td><td>75.9                                </td><td>128                                 </td><td>28                                  </td><td>4.09                                </td><td>   0.0000000                        </td><td>95                                  </td><td>15033                               </td><td>...                                 </td><td>      NA                            </td><td>14.3                                </td><td>14.7                                </td><td>0.675                               </td><td>12.5                                </td><td>216.09                              </td><td>204.49                              </td><td> 0.01                               </td><td>       NA                           </td><td>       NA                           </td></tr>\n",
       "\t<tr><th scope=row>2892</th><td>Yemen                               </td><td>2014                                </td><td>Developing                          </td><td>65.4                                </td><td>228                                 </td><td>37                                  </td><td>0.01                                </td><td>   0.0000000                        </td><td>73                                  </td><td>  815                               </td><td>...                                 </td><td>      NA                            </td><td>13.7                                </td><td>13.5                                </td><td>0.500                               </td><td> 9.0                                </td><td>182.25                              </td><td>187.69                              </td><td> 0.01                               </td><td>       NA                           </td><td>       NA                           </td></tr>\n",
       "\t<tr><th scope=row>2908</th><td>Zambia                              </td><td>2014                                </td><td>Developing                          </td><td>61.1                                </td><td>314                                 </td><td>28                                  </td><td>0.01                                </td><td> 196.6675768                        </td><td>86                                  </td><td>    9                               </td><td>...                                 </td><td> 1562974                            </td><td> 6.3                                </td><td> 6.2                                </td><td>0.570                               </td><td>12.5                                </td><td> 38.44                              </td><td> 39.69                              </td><td>18.49                               </td><td>14.262101                           </td><td> 7.460998                           </td></tr>\n",
       "\t<tr><th scope=row>2924</th><td>Zimbabwe                            </td><td>2014                                </td><td>Developing                          </td><td>59.2                                </td><td>371                                 </td><td>23                                  </td><td>6.50                                </td><td>  10.8225952                        </td><td>91                                  </td><td>    0                               </td><td>...                                 </td><td>15411675                            </td><td> 5.9                                </td><td> 5.7                                </td><td>0.498                               </td><td>10.3                                </td><td> 32.49                              </td><td> 34.81                              </td><td>39.69                               </td><td>16.550636                           </td><td> 4.847917                           </td></tr>\n",
       "</tbody>\n",
       "</table>\n"
      ],
      "text/latex": [
       "\\begin{tabular}{r|lllllllllllllllllllllllllll}\n",
       "  & Country & Year & Status & Lifeexpectancy & AdultMortality & infantdeaths & Alcohol & percentageexpenditure & HepatitisB & Measles & ... & Population & thinness1.19years & thinness5.9years & Incomecompositionofresources & Schooling & thinness5.9years2 & thinness1.19years2 & HIV.AIDS2 & log\\_Population & log\\_GDP\\\\\n",
       "\\hline\n",
       "\t2 & Afghanistan                   & 2014                          & Developing                    & 59.9                          & 271                           & 64                            &  0.01                         &   73.52358                    & 62                            &   492                         & ...                           &   327582                      & 17.5                          & 17.5                          & 0.476                         & 10.0                          & 306.25                        & 306.25                        &  0.01                         & 12.69949                      &  6.417870                    \\\\\n",
       "\t18 & Albania                       & 2014                          & Developing                    & 77.5                          &   8                           &  0                            &  4.51                         &  428.74907                    & 98                            &     0                         & ...                           &   288914                      &  1.2                          &  1.3                          & 0.761                         & 14.2                          &   1.69                        &   1.44                        &  0.01                         & 12.57388                      &  8.428529                    \\\\\n",
       "\t34 & Algeria                       & 2014                          & Developing                    & 75.4                          &  11                           & 21                            &  0.01                         &   54.23732                    & 95                            &     0                         & ...                           & 39113313                      &  6.0                          &  5.8                          & 0.741                         & 14.4                          &  33.64                        &  36.00                        &  0.01                         & 17.48197                      &  6.306005                    \\\\\n",
       "\t50 & Angola                        & 2014                          & Developing                    & 51.7                          & 348                           & 67                            &  8.33                         &   23.96561                    & 64                            & 11699                         & ...                           &  2692466                      &  8.5                          &  8.3                          & 0.527                         & 11.4                          &  68.89                        &  72.25                        &  4.00                         & 14.80597                      &  6.172352                    \\\\\n",
       "\t66 & AntiguaandBarbuda             & 2014                          & Developing                    & 76.2                          & 131                           &  0                            &  8.56                         & 2422.99977                    & 99                            &     0                         & ...                           &       NA                      &  3.3                          &  3.3                          & 0.782                         & 13.9                          &  10.89                        &  10.89                        &  0.04                         &       NA                      &  9.464075                    \\\\\n",
       "\t82 & Argentina                     & 2014                          & Developing                    & 76.2                          & 118                           &  8                            &  7.93                         &  847.37175                    & 94                            &     1                         & ...                           & 42981515                      &  1.0                          &  0.9                          & 0.825                         & 17.3                          &   0.81                        &   1.00                        &  0.01                         & 17.57628                      &  9.412894                    \\\\\n",
       "\t98 & Armenia                       & 2014                          & Developing                    & 74.6                          &  12                           &  1                            &  3.91                         &  295.60871                    & 93                            &    13                         & ...                           &    29622                      &  2.1                          &  2.1                          & 0.739                         & 12.7                          &   4.41                        &   4.41                        &  0.01                         & 10.29627                      &  8.292727                    \\\\\n",
       "\t146 & Azerbaijan                    & 2014                          & Developing                    & 72.5                          & 119                           &  5                            &  0.01                         &  306.18243                    & 94                            &     0                         & ...                           &   953579                      &  2.8                          &  2.9                          & 0.752                         & 12.2                          &   8.41                        &   7.84                        &  0.01                         & 13.76798                      &  8.973516                    \\\\\n",
       "\t162 & Bahamas                       & 2014                          & Developing                    & 75.4                          &  16                           &  0                            &  9.45                         &    0.00000                    & 96                            &     0                         & ...                           &       NA                      &  2.5                          &  2.5                          & 0.789                         & 12.6                          &   6.25                        &   6.25                        &  0.01                         &       NA                      &        NA                    \\\\\n",
       "\t178 & Bahrain                       & 2014                          & Developing                    & 76.8                          &   7                           &  0                            &  1.57                         &  367.25567                    & 98                            &    46                         & ...                           &       NA                      &  6.1                          &  6.0                          & 0.820                         & 14.5                          &  36.00                        &  37.21                        &  0.01                         &       NA                      & 10.125966                    \\\\\n",
       "\t194 & Bangladesh                    & 2014                          & Developing                    & 71.4                          & 132                           & 98                            &  0.01                         &   10.44640                    & 97                            &   289                         & ...                           & 15945279                      & 18.1                          & 18.6                          & 0.570                         & 10.0                          & 345.96                        & 327.61                        &  0.01                         & 16.58467                      &  5.218004                    \\\\\n",
       "\t210 & Barbados                      & 2014                          & Developing                    & 75.4                          &   1                           &  0                            &  8.82                         &  294.90566                    & 94                            &     0                         & ...                           &       NA                      &  3.8                          &  3.7                          & 0.793                         & 15.3                          &  13.69                        &  14.44                        &  0.01                         &       NA                      &  9.639501                    \\\\\n",
       "\t226 & Belarus                       & 2014                          & Developing                    & 72.0                          & 199                           &  0                            & 13.94                         & 1147.11140                    & 97                            &    64                         & ...                           &  9474511                      &  1.9                          &  2.0                          & 0.796                         & 15.7                          &   4.00                        &   3.61                        &  0.01                         & 16.06412                      &  9.026229                    \\\\\n",
       "\t258 & Belize                        & 2014                          & Developing                    & 70.0                          & 177                           &  0                            &  6.58                         &  670.09209                    & 95                            &     0                         & ...                           &   351694                      &  3.4                          &  3.4                          & 0.705                         & 12.8                          &  11.56                        &  11.56                        &  0.04                         & 12.77052                      &  8.487192                    \\\\\n",
       "\t274 & Benin                         & 2014                          & Developing                    & 59.7                          & 252                           & 25                            &  0.01                         &   90.12207                    & 78                            &   786                         & ...                           &  1286712                      &  7.1                          &  6.9                          & 0.475                         & 10.7                          &  47.61                        &  50.41                        &  1.21                         & 14.06760                      &  6.849794                    \\\\\n",
       "\t290 & Bhutan                        & 2014                          & Developing                    & 69.4                          & 216                           &  0                            &  0.01                         &  209.39213                    & 99                            &     0                         & ...                           &   776448                      & 15.7                          & 16.2                          & 0.596                         & 12.5                          & 262.44                        & 246.49                        &  0.25                         & 13.56248                      &  7.833123                    \\\\\n",
       "\t306 & Bolivia(PlurinationalStateof) & 2014                          & Developing                    & 74.0                          & 189                           &  8                            &  3.62                         &    0.00000                    & 98                            &     0                         & ...                           &       NA                      &  1.2                          &  1.1                          & 0.666                         & 13.8                          &   1.21                        &   1.44                        &  0.01                         &       NA                      &        NA                    \\\\\n",
       "\t322 & BosniaandHerzegovina          & 2014                          & Developing                    & 77.2                          &  89                           &  0                            &  4.03                         &  732.86625                    & 89                            &  3000                         & ...                           &    35662                      &  2.4                          &  2.4                          & 0.742                         & 14.2                          &   5.76                        &   5.76                        &  0.01                         & 10.48184                      &  8.555250                    \\\\\n",
       "\t338 & Botswana                      & 2014                          & Developing                    & 65.1                          & 268                           &  2                            &  0.01                         &  662.80219                    & 95                            &     1                         & ...                           &  2168573                      &  6.7                          &  6.4                          & 0.697                         & 12.6                          &  40.96                        &  44.89                        &  5.29                         & 14.58958                      &  8.922360                    \\\\\n",
       "\t354 & Brazil                        & 2014                          & Developing                    & 74.8                          & 144                           & 44                            &  7.32                         &   83.16465                    & 96                            &   876                         & ...                           & 24213133                      &  2.7                          &  2.7                          & 0.747                         & 15.2                          &   7.29                        &   7.29                        &  0.01                         & 17.00241                      &  7.112016                    \\\\\n",
       "\t370 & BruneiDarussalam              & 2014                          & Developing                    & 77.6                          &   8                           &  0                            &  0.01                         &  269.14328                    & 99                            &     1                         & ...                           &       NA                      &  5.7                          &  5.2                          & 0.863                         & 15.0                          &  27.04                        &  32.49                        &  0.01                         &       NA                      &  8.333238                    \\\\\n",
       "\t402 & BurkinaFaso                   & 2014                          & Developing                    & 59.3                          & 268                           & 39                            &  0.01                         &    8.38634                    & 91                            &   343                         & ...                           & 17585977                      &  8.2                          &  7.7                          & 0.398                         &  7.7                          &  59.29                        &  67.24                        &  0.36                         & 16.68261                      &  4.319438                    \\\\\n",
       "\t418 & Burundi                       & 2014                          & Developing                    & 59.1                          & 297                           & 22                            &  0.01                         &   41.25159                    & 95                            &     0                         & ...                           &   989179                      &  7.4                          &  7.3                          & 0.404                         & 10.6                          &  53.29                        &  54.76                        &  0.49                         & 13.80463                      &  5.745401                    \\\\\n",
       "\t434 & CÃ´ted'Ivoire                 & 2014                          & Developing                    & 52.8                          &  47                           & 58                            &  0.01                         &    0.00000                    & 76                            &    50                         & ...                           &       NA                      &  5.6                          &  5.6                          &    NA                         &   NA                          &  31.36                        &  31.36                        &  4.00                         &       NA                      &        NA                    \\\\\n",
       "\t450 & CaboVerde                     & 2014                          & Developing                    & 73.0                          & 117                           &  0                            &  0.01                         &  414.02424                    & 97                            &     0                         & ...                           &   526437                      &  6.8                          &  6.7                          & 0.643                         & 13.5                          &  44.89                        &  46.24                        &  0.04                         & 13.17389                      &  8.168945                    \\\\\n",
       "\t466 & Cambodia                      & 2014                          & Developing                    & 68.3                          & 179                           & 11                            &  0.01                         &   12.17952                    & 88                            &     0                         & ...                           &   152779                      &  1.9                          & 11.0                          & 0.553                         & 10.9                          & 121.00                        &   3.61                        &  0.04                         & 11.93675                      &  5.291731                    \\\\\n",
       "\t482 & Cameroon                      & 2014                          & Developing                    & 56.7                          & 366                           & 47                            &  0.01                         &   61.39264                    & 87                            &   831                         & ...                           &  2223994                      &  5.7                          &  5.7                          & 0.507                         & 10.4                          &  32.49                        &  32.49                        & 13.69                         & 14.61482                      &  7.273191                    \\\\\n",
       "\t498 & Canada                        & 2014                          & Developing                    & 82.0                          &  65                           &  2                            &  8.10                         &  102.19022                    & 55                            &   418                         & ...                           & 35544564                      &  0.5                          &  0.5                          & 0.912                         & 15.9                          &   0.25                        &   0.25                        &  0.01                         & 17.38630                      &  6.299746                    \\\\\n",
       "\t514 & CentralAfricanRepublic        & 2014                          & Developing                    & 58.0                          & 437                           & 15                            &  0.01                         &   53.43964                    & 47                            &   210                         & ...                           &  4515392                      &  8.4                          &  8.3                          & 0.345                         &  7.1                          &  68.89                        &  70.56                        & 20.25                         & 15.32300                      &  5.932596                    \\\\\n",
       "\t530 & Chad                          & 2014                          & Developing                    & 52.6                          & 362                           & 46                            &  0.01                         &   11.30207                    & 37                            &  1275                         & ...                           & 13569438                      &  8.7                          &  8.5                          & 0.390                         &  7.3                          &  72.25                        &  75.69                        &  8.41                         & 16.42333                      &  4.836270                    \\\\\n",
       "\t... & ... & ... & ... & ... & ... & ... & ... & ... & ... & ... &     & ... & ... & ... & ... & ... & ... & ... & ... & ... & ...\\\\\n",
       "\t2379 & Somalia                              & 2014                                 & Developing                           & 54.3                                 & 321                                  & 51                                   & 0.01                                 &    0.0000000                         & 42                                   & 10229                                & ...                                  &       NA                             &  6.7                                 &  6.5                                 &    NA                                &   NA                                 &  42.25                               &  44.89                               &  0.64                                &        NA                            &  6.035222                           \\\\\n",
       "\t2395 & SouthAfrica                          & 2014                                 & Developing                           & 62.0                                 & 347                                  & 42                                   & 7.38                                 &  922.0507313                         &  8                                   &    66                                & ...                                  & 54146735                             &  4.9                                 &  5.9                                 & 0.660                                & 13.0                                 &  34.81                               &  24.01                               & 13.69                                & 17.807208                            &  8.776418                           \\\\\n",
       "\t2411 & SouthSudan                           & 2014                                 & Developing                           & 56.6                                 & 343                                  & 26                                   &   NA                                 &   46.0744686                         & NA                                   &   441                                & ...                                  &  1153971                             &   NA                                 &   NA                                 & 0.421                                &  4.9                                 &     NA                               &     NA                               & 12.25                                & 13.958720                            &  7.049135                           \\\\\n",
       "\t2443 & SriLanka                             & 2014                                 & Developing                           & 74.7                                 & 141                                  &  3                                   & 2.37                                 &   42.7308283                         & 99                                   &  1686                                & ...                                  &     2771                             & 15.2                                 & 15.0                                 & 0.760                                & 14.0                                 & 225.00                               & 231.04                               &  0.01                                &  7.926964                            &  5.946859                           \\\\\n",
       "\t2459 & Sudan                                & 2014                                 & Developing                           & 63.8                                 & 229                                  & 59                                   & 0.01                                 &  253.6086508                         & 94                                   &   676                                & ...                                  & 37737913                             &   NA                                 &   NA                                 & 0.485                                &  7.2                                 &     NA                               &     NA                               &  0.09                                & 17.446176                            &  7.685656                           \\\\\n",
       "\t2475 & Suriname                             & 2014                                 & Developing                           & 71.4                                 & 178                                  &  0                                   & 6.32                                 & 1132.4325170                         & 85                                   &     0                                & ...                                  &   547928                             &  3.5                                 &  3.5                                 & 0.722                                & 12.7                                 &  12.25                               &  12.25                               &  0.16                                & 13.213899                            &  9.165810                           \\\\\n",
       "\t2491 & Swaziland                            & 2014                                 & Developing                           & 58.4                                 & 382                                  &  2                                   & 0.01                                 &  574.3895102                         & 98                                   &     0                                & ...                                  &   129597                             &  4.3                                 &  4.3                                 & 0.541                                & 11.4                                 &  18.49                               &  18.49                               & 53.29                                & 11.772185                            &  8.150281                           \\\\\n",
       "\t2539 & SyrianArabRepublic                   & 2014                                 & Developing                           & 64.4                                 & 294                                  &  7                                   & 0.01                                 &    0.0000000                         & 47                                   &   594                                & ...                                  &    19239                             &  6.3                                 &  6.1                                 & 0.575                                &  9.0                                 &  37.21                               &  39.69                               &  0.01                                &  9.864695                            &        NA                           \\\\\n",
       "\t2555 & Tajikistan                           & 2014                                 & Developing                           & 69.6                                 & 162                                  & 10                                   & 0.01                                 &    7.8290086                         & 97                                   &     0                                & ...                                  &  8362745                             &  3.6                                 &  3.7                                 & 0.622                                & 11.3                                 &  13.69                               &  12.96                               &  0.04                                & 15.939297                            &  4.740218                           \\\\\n",
       "\t2571 & Thailand                             & 2014                                 & Developing                           & 74.6                                 & 152                                  &  8                                   & 6.41                                 &  789.0772949                         & 99                                   &     0                                & ...                                  & 68416772                             &  7.8                                 &  7.8                                 & 0.737                                & 13.6                                 &  60.84                               &  60.84                               &  0.01                                & 18.041129                            &  8.689775                           \\\\\n",
       "\t2587 & TheformerYugoslavrepublicofMacedonia & 2014                                 & Developing                           & 75.5                                 &  12                                  &  0                                   & 1.13                                 &    0.0000000                         & 97                                   &   116                                & ...                                  &       NA                             &  2.2                                 &  2.2                                 & 0.743                                & 12.9                                 &   4.84                               &   4.84                               &  0.01                                &        NA                            &        NA                           \\\\\n",
       "\t2603 & Timor-Leste                          & 2014                                 & Developing                           & 68.0                                 & 155                                  &  2                                   & 0.01                                 &   28.1457850                         & 77                                   &    47                                & ...                                  &  1212814                             &  1.9                                 & 11.1                                 & 0.612                                & 12.5                                 & 123.21                               &   3.61                               &  0.01                                & 14.008454                            &  7.050570                           \\\\\n",
       "\t2619 & Togo                                 & 2014                                 & Developing                           & 59.7                                 & 285                                  & 13                                   & 0.01                                 &    4.8773501                         & 87                                   &   577                                & ...                                  &  7228915                             &  6.6                                 &  6.4                                 & 0.475                                & 12.0                                 &  40.96                               &  43.56                               &  1.00                                & 15.793600                            &  4.129259                           \\\\\n",
       "\t2635 & Tonga                                & 2014                                 & Developing                           & 73.3                                 & 135                                  &  0                                   & 0.01                                 &  565.9672173                         &  8                                   &     0                                & ...                                  &    15782                             &  0.1                                 &  0.1                                 & 0.716                                & 14.3                                 &   0.01                               &   0.01                               &  0.01                                &  9.666625                            &  8.341017                           \\\\\n",
       "\t2651 & TrinidadandTobago                    & 2014                                 & Developing                           & 71.1                                 & 171                                  &  0                                   & 6.94                                 & 1578.8723390                         & 92                                   &     0                                & ...                                  &  1354493                             &  5.8                                 &  6.0                                 & 0.778                                & 12.7                                 &  36.00                               &  33.64                               &  0.09                                & 14.118938                            &  9.869167                           \\\\\n",
       "\t2667 & Tunisia                              & 2014                                 & Developing                           & 75.1                                 &  12                                  &  3                                   & 1.39                                 &  604.8701316                         & 98                                   &    15                                & ...                                  &  1114398                             &  6.5                                 &  6.4                                 & 0.722                                & 14.7                                 &  40.96                               &  42.25                               &  0.01                                & 13.923825                            &  8.359763                           \\\\\n",
       "\t2683 & Turkey                               & 2014                                 & Developing                           & 75.5                                 &  17                                  & 16                                   & 1.45                                 &  181.9083783                         & 96                                   &   565                                & ...                                  &   773628                             &  4.9                                 &  4.7                                 & 0.759                                & 14.5                                 &  22.09                               &  24.01                               &  0.01                                & 13.558846                            &  9.403208                           \\\\\n",
       "\t2699 & Turkmenistan                         & 2014                                 & Developing                           & 66.0                                 & 217                                  &  7                                   & 2.90                                 &  691.1333535                         & 97                                   &     0                                & ...                                  &  5466241                             &  3.3                                 &  3.3                                 & 0.683                                & 10.8                                 &  10.89                               &  10.89                               &  0.01                                & 15.514102                            &  8.982481                           \\\\\n",
       "\t2716 & Uganda                               & 2014                                 & Developing                           & 61.5                                 &  38                                  & 68                                   & 0.01                                 &   14.1677016                         & 78                                   &   314                                & ...                                  & 38833338                             &  5.7                                 &  5.6                                 & 0.483                                & 10.0                                 &  31.36                               &  32.49                               & 10.24                                & 17.474790                            &  6.578101                           \\\\\n",
       "\t2732 & Ukraine                              & 2014                                 & Developing                           & 78.0                                 &  23                                  &  4                                   & 8.06                                 &    5.6638493                         & 22                                   &     0                                & ...                                  & 45271947                             &  2.3                                 &  2.4                                 & 0.746                                & 15.2                                 &   5.76                               &   5.29                               &  0.04                                & 17.628198                            &  5.751487                           \\\\\n",
       "\t2748 & UnitedArabEmirates                   & 2014                                 & Developing                           & 76.9                                 &  77                                  &  1                                   & 1.91                                 & 3862.6827100                         & 99                                   &   344                                & ...                                  &       NA                             &  5.2                                 &  5.0                                 & 0.832                                & 13.3                                 &  25.00                               &  27.04                               &  0.01                                &        NA                            & 10.702114                           \\\\\n",
       "\t2780 & UnitedRepublicofTanzania             & 2014                                 & Developing                           & 67.0                                 &  34                                  & 86                                   & 0.01                                 &    0.0000000                         & 97                                   &    88                                & ...                                  &       NA                             &  6.8                                 &  6.6                                 &    NA                                &   NA                                 &  43.56                               &  46.24                               &  1.96                                &        NA                            &        NA                           \\\\\n",
       "\t2812 & Uruguay                              & 2014                                 & Developing                           & 76.8                                 & 117                                  &  0                                   & 6.03                                 &  463.6397821                         & 95                                   &     0                                & ...                                  &  3419546                             &  1.5                                 &  1.4                                 & 0.791                                & 15.5                                 &   1.96                               &   2.25                               &  0.01                                & 15.045018                            &  9.725431                           \\\\\n",
       "\t2828 & Uzbekistan                           & 2014                                 & Developing                           & 69.2                                 & 184                                  & 16                                   & 0.01                                 &    0.4428024                         & 99                                   &     8                                & ...                                  &    37577                             &  3.0                                 &  3.1                                 & 0.690                                & 12.1                                 &   9.61                               &   9.00                               &  0.01                                & 10.534147                            &  3.236653                           \\\\\n",
       "\t2844 & Vanuatu                              & 2014                                 & Developing                           & 71.7                                 & 134                                  &  0                                   & 0.01                                 &  564.8167043                         & 64                                   &    10                                & ...                                  &    25885                             &  1.5                                 &  1.4                                 & 0.596                                & 10.8                                 &   1.96                               &   2.25                               &  0.01                                & 10.161419                            &  8.054639                           \\\\\n",
       "\t2860 & Venezuela(BolivarianRepublicof)      & 2014                                 & Developing                           & 73.9                                 & 158                                  &  9                                   & 6.47                                 &    0.0000000                         & 78                                   &     0                                & ...                                  &       NA                             &  1.6                                 &  1.5                                 & 0.771                                & 14.2                                 &   2.25                               &   2.56                               &  0.01                                &        NA                            &        NA                           \\\\\n",
       "\t2876 & VietNam                              & 2014                                 & Developing                           & 75.9                                 & 128                                  & 28                                   & 4.09                                 &    0.0000000                         & 95                                   & 15033                                & ...                                  &       NA                             & 14.3                                 & 14.7                                 & 0.675                                & 12.5                                 & 216.09                               & 204.49                               &  0.01                                &        NA                            &        NA                           \\\\\n",
       "\t2892 & Yemen                                & 2014                                 & Developing                           & 65.4                                 & 228                                  & 37                                   & 0.01                                 &    0.0000000                         & 73                                   &   815                                & ...                                  &       NA                             & 13.7                                 & 13.5                                 & 0.500                                &  9.0                                 & 182.25                               & 187.69                               &  0.01                                &        NA                            &        NA                           \\\\\n",
       "\t2908 & Zambia                               & 2014                                 & Developing                           & 61.1                                 & 314                                  & 28                                   & 0.01                                 &  196.6675768                         & 86                                   &     9                                & ...                                  &  1562974                             &  6.3                                 &  6.2                                 & 0.570                                & 12.5                                 &  38.44                               &  39.69                               & 18.49                                & 14.262101                            &  7.460998                           \\\\\n",
       "\t2924 & Zimbabwe                             & 2014                                 & Developing                           & 59.2                                 & 371                                  & 23                                   & 6.50                                 &   10.8225952                         & 91                                   &     0                                & ...                                  & 15411675                             &  5.9                                 &  5.7                                 & 0.498                                & 10.3                                 &  32.49                               &  34.81                               & 39.69                                & 16.550636                            &  4.847917                           \\\\\n",
       "\\end{tabular}\n"
      ],
      "text/markdown": [
       "\n",
       "| <!--/--> | Country | Year | Status | Lifeexpectancy | AdultMortality | infantdeaths | Alcohol | percentageexpenditure | HepatitisB | Measles | ... | Population | thinness1.19years | thinness5.9years | Incomecompositionofresources | Schooling | thinness5.9years2 | thinness1.19years2 | HIV.AIDS2 | log_Population | log_GDP |\n",
       "|---|---|---|---|---|---|---|---|---|---|---|---|---|---|---|---|---|---|---|---|---|---|\n",
       "| 2 | Afghanistan                   | 2014                          | Developing                    | 59.9                          | 271                           | 64                            |  0.01                         |   73.52358                    | 62                            |   492                         | ...                           |   327582                      | 17.5                          | 17.5                          | 0.476                         | 10.0                          | 306.25                        | 306.25                        |  0.01                         | 12.69949                      |  6.417870                     |\n",
       "| 18 | Albania                       | 2014                          | Developing                    | 77.5                          |   8                           |  0                            |  4.51                         |  428.74907                    | 98                            |     0                         | ...                           |   288914                      |  1.2                          |  1.3                          | 0.761                         | 14.2                          |   1.69                        |   1.44                        |  0.01                         | 12.57388                      |  8.428529                     |\n",
       "| 34 | Algeria                       | 2014                          | Developing                    | 75.4                          |  11                           | 21                            |  0.01                         |   54.23732                    | 95                            |     0                         | ...                           | 39113313                      |  6.0                          |  5.8                          | 0.741                         | 14.4                          |  33.64                        |  36.00                        |  0.01                         | 17.48197                      |  6.306005                     |\n",
       "| 50 | Angola                        | 2014                          | Developing                    | 51.7                          | 348                           | 67                            |  8.33                         |   23.96561                    | 64                            | 11699                         | ...                           |  2692466                      |  8.5                          |  8.3                          | 0.527                         | 11.4                          |  68.89                        |  72.25                        |  4.00                         | 14.80597                      |  6.172352                     |\n",
       "| 66 | AntiguaandBarbuda             | 2014                          | Developing                    | 76.2                          | 131                           |  0                            |  8.56                         | 2422.99977                    | 99                            |     0                         | ...                           |       NA                      |  3.3                          |  3.3                          | 0.782                         | 13.9                          |  10.89                        |  10.89                        |  0.04                         |       NA                      |  9.464075                     |\n",
       "| 82 | Argentina                     | 2014                          | Developing                    | 76.2                          | 118                           |  8                            |  7.93                         |  847.37175                    | 94                            |     1                         | ...                           | 42981515                      |  1.0                          |  0.9                          | 0.825                         | 17.3                          |   0.81                        |   1.00                        |  0.01                         | 17.57628                      |  9.412894                     |\n",
       "| 98 | Armenia                       | 2014                          | Developing                    | 74.6                          |  12                           |  1                            |  3.91                         |  295.60871                    | 93                            |    13                         | ...                           |    29622                      |  2.1                          |  2.1                          | 0.739                         | 12.7                          |   4.41                        |   4.41                        |  0.01                         | 10.29627                      |  8.292727                     |\n",
       "| 146 | Azerbaijan                    | 2014                          | Developing                    | 72.5                          | 119                           |  5                            |  0.01                         |  306.18243                    | 94                            |     0                         | ...                           |   953579                      |  2.8                          |  2.9                          | 0.752                         | 12.2                          |   8.41                        |   7.84                        |  0.01                         | 13.76798                      |  8.973516                     |\n",
       "| 162 | Bahamas                       | 2014                          | Developing                    | 75.4                          |  16                           |  0                            |  9.45                         |    0.00000                    | 96                            |     0                         | ...                           |       NA                      |  2.5                          |  2.5                          | 0.789                         | 12.6                          |   6.25                        |   6.25                        |  0.01                         |       NA                      |        NA                     |\n",
       "| 178 | Bahrain                       | 2014                          | Developing                    | 76.8                          |   7                           |  0                            |  1.57                         |  367.25567                    | 98                            |    46                         | ...                           |       NA                      |  6.1                          |  6.0                          | 0.820                         | 14.5                          |  36.00                        |  37.21                        |  0.01                         |       NA                      | 10.125966                     |\n",
       "| 194 | Bangladesh                    | 2014                          | Developing                    | 71.4                          | 132                           | 98                            |  0.01                         |   10.44640                    | 97                            |   289                         | ...                           | 15945279                      | 18.1                          | 18.6                          | 0.570                         | 10.0                          | 345.96                        | 327.61                        |  0.01                         | 16.58467                      |  5.218004                     |\n",
       "| 210 | Barbados                      | 2014                          | Developing                    | 75.4                          |   1                           |  0                            |  8.82                         |  294.90566                    | 94                            |     0                         | ...                           |       NA                      |  3.8                          |  3.7                          | 0.793                         | 15.3                          |  13.69                        |  14.44                        |  0.01                         |       NA                      |  9.639501                     |\n",
       "| 226 | Belarus                       | 2014                          | Developing                    | 72.0                          | 199                           |  0                            | 13.94                         | 1147.11140                    | 97                            |    64                         | ...                           |  9474511                      |  1.9                          |  2.0                          | 0.796                         | 15.7                          |   4.00                        |   3.61                        |  0.01                         | 16.06412                      |  9.026229                     |\n",
       "| 258 | Belize                        | 2014                          | Developing                    | 70.0                          | 177                           |  0                            |  6.58                         |  670.09209                    | 95                            |     0                         | ...                           |   351694                      |  3.4                          |  3.4                          | 0.705                         | 12.8                          |  11.56                        |  11.56                        |  0.04                         | 12.77052                      |  8.487192                     |\n",
       "| 274 | Benin                         | 2014                          | Developing                    | 59.7                          | 252                           | 25                            |  0.01                         |   90.12207                    | 78                            |   786                         | ...                           |  1286712                      |  7.1                          |  6.9                          | 0.475                         | 10.7                          |  47.61                        |  50.41                        |  1.21                         | 14.06760                      |  6.849794                     |\n",
       "| 290 | Bhutan                        | 2014                          | Developing                    | 69.4                          | 216                           |  0                            |  0.01                         |  209.39213                    | 99                            |     0                         | ...                           |   776448                      | 15.7                          | 16.2                          | 0.596                         | 12.5                          | 262.44                        | 246.49                        |  0.25                         | 13.56248                      |  7.833123                     |\n",
       "| 306 | Bolivia(PlurinationalStateof) | 2014                          | Developing                    | 74.0                          | 189                           |  8                            |  3.62                         |    0.00000                    | 98                            |     0                         | ...                           |       NA                      |  1.2                          |  1.1                          | 0.666                         | 13.8                          |   1.21                        |   1.44                        |  0.01                         |       NA                      |        NA                     |\n",
       "| 322 | BosniaandHerzegovina          | 2014                          | Developing                    | 77.2                          |  89                           |  0                            |  4.03                         |  732.86625                    | 89                            |  3000                         | ...                           |    35662                      |  2.4                          |  2.4                          | 0.742                         | 14.2                          |   5.76                        |   5.76                        |  0.01                         | 10.48184                      |  8.555250                     |\n",
       "| 338 | Botswana                      | 2014                          | Developing                    | 65.1                          | 268                           |  2                            |  0.01                         |  662.80219                    | 95                            |     1                         | ...                           |  2168573                      |  6.7                          |  6.4                          | 0.697                         | 12.6                          |  40.96                        |  44.89                        |  5.29                         | 14.58958                      |  8.922360                     |\n",
       "| 354 | Brazil                        | 2014                          | Developing                    | 74.8                          | 144                           | 44                            |  7.32                         |   83.16465                    | 96                            |   876                         | ...                           | 24213133                      |  2.7                          |  2.7                          | 0.747                         | 15.2                          |   7.29                        |   7.29                        |  0.01                         | 17.00241                      |  7.112016                     |\n",
       "| 370 | BruneiDarussalam              | 2014                          | Developing                    | 77.6                          |   8                           |  0                            |  0.01                         |  269.14328                    | 99                            |     1                         | ...                           |       NA                      |  5.7                          |  5.2                          | 0.863                         | 15.0                          |  27.04                        |  32.49                        |  0.01                         |       NA                      |  8.333238                     |\n",
       "| 402 | BurkinaFaso                   | 2014                          | Developing                    | 59.3                          | 268                           | 39                            |  0.01                         |    8.38634                    | 91                            |   343                         | ...                           | 17585977                      |  8.2                          |  7.7                          | 0.398                         |  7.7                          |  59.29                        |  67.24                        |  0.36                         | 16.68261                      |  4.319438                     |\n",
       "| 418 | Burundi                       | 2014                          | Developing                    | 59.1                          | 297                           | 22                            |  0.01                         |   41.25159                    | 95                            |     0                         | ...                           |   989179                      |  7.4                          |  7.3                          | 0.404                         | 10.6                          |  53.29                        |  54.76                        |  0.49                         | 13.80463                      |  5.745401                     |\n",
       "| 434 | CÃ´ted'Ivoire                 | 2014                          | Developing                    | 52.8                          |  47                           | 58                            |  0.01                         |    0.00000                    | 76                            |    50                         | ...                           |       NA                      |  5.6                          |  5.6                          |    NA                         |   NA                          |  31.36                        |  31.36                        |  4.00                         |       NA                      |        NA                     |\n",
       "| 450 | CaboVerde                     | 2014                          | Developing                    | 73.0                          | 117                           |  0                            |  0.01                         |  414.02424                    | 97                            |     0                         | ...                           |   526437                      |  6.8                          |  6.7                          | 0.643                         | 13.5                          |  44.89                        |  46.24                        |  0.04                         | 13.17389                      |  8.168945                     |\n",
       "| 466 | Cambodia                      | 2014                          | Developing                    | 68.3                          | 179                           | 11                            |  0.01                         |   12.17952                    | 88                            |     0                         | ...                           |   152779                      |  1.9                          | 11.0                          | 0.553                         | 10.9                          | 121.00                        |   3.61                        |  0.04                         | 11.93675                      |  5.291731                     |\n",
       "| 482 | Cameroon                      | 2014                          | Developing                    | 56.7                          | 366                           | 47                            |  0.01                         |   61.39264                    | 87                            |   831                         | ...                           |  2223994                      |  5.7                          |  5.7                          | 0.507                         | 10.4                          |  32.49                        |  32.49                        | 13.69                         | 14.61482                      |  7.273191                     |\n",
       "| 498 | Canada                        | 2014                          | Developing                    | 82.0                          |  65                           |  2                            |  8.10                         |  102.19022                    | 55                            |   418                         | ...                           | 35544564                      |  0.5                          |  0.5                          | 0.912                         | 15.9                          |   0.25                        |   0.25                        |  0.01                         | 17.38630                      |  6.299746                     |\n",
       "| 514 | CentralAfricanRepublic        | 2014                          | Developing                    | 58.0                          | 437                           | 15                            |  0.01                         |   53.43964                    | 47                            |   210                         | ...                           |  4515392                      |  8.4                          |  8.3                          | 0.345                         |  7.1                          |  68.89                        |  70.56                        | 20.25                         | 15.32300                      |  5.932596                     |\n",
       "| 530 | Chad                          | 2014                          | Developing                    | 52.6                          | 362                           | 46                            |  0.01                         |   11.30207                    | 37                            |  1275                         | ...                           | 13569438                      |  8.7                          |  8.5                          | 0.390                         |  7.3                          |  72.25                        |  75.69                        |  8.41                         | 16.42333                      |  4.836270                     |\n",
       "| ... | ... | ... | ... | ... | ... | ... | ... | ... | ... | ... |     | ... | ... | ... | ... | ... | ... | ... | ... | ... | ... |\n",
       "| 2379 | Somalia                              | 2014                                 | Developing                           | 54.3                                 | 321                                  | 51                                   | 0.01                                 |    0.0000000                         | 42                                   | 10229                                | ...                                  |       NA                             |  6.7                                 |  6.5                                 |    NA                                |   NA                                 |  42.25                               |  44.89                               |  0.64                                |        NA                            |  6.035222                            |\n",
       "| 2395 | SouthAfrica                          | 2014                                 | Developing                           | 62.0                                 | 347                                  | 42                                   | 7.38                                 |  922.0507313                         |  8                                   |    66                                | ...                                  | 54146735                             |  4.9                                 |  5.9                                 | 0.660                                | 13.0                                 |  34.81                               |  24.01                               | 13.69                                | 17.807208                            |  8.776418                            |\n",
       "| 2411 | SouthSudan                           | 2014                                 | Developing                           | 56.6                                 | 343                                  | 26                                   |   NA                                 |   46.0744686                         | NA                                   |   441                                | ...                                  |  1153971                             |   NA                                 |   NA                                 | 0.421                                |  4.9                                 |     NA                               |     NA                               | 12.25                                | 13.958720                            |  7.049135                            |\n",
       "| 2443 | SriLanka                             | 2014                                 | Developing                           | 74.7                                 | 141                                  |  3                                   | 2.37                                 |   42.7308283                         | 99                                   |  1686                                | ...                                  |     2771                             | 15.2                                 | 15.0                                 | 0.760                                | 14.0                                 | 225.00                               | 231.04                               |  0.01                                |  7.926964                            |  5.946859                            |\n",
       "| 2459 | Sudan                                | 2014                                 | Developing                           | 63.8                                 | 229                                  | 59                                   | 0.01                                 |  253.6086508                         | 94                                   |   676                                | ...                                  | 37737913                             |   NA                                 |   NA                                 | 0.485                                |  7.2                                 |     NA                               |     NA                               |  0.09                                | 17.446176                            |  7.685656                            |\n",
       "| 2475 | Suriname                             | 2014                                 | Developing                           | 71.4                                 | 178                                  |  0                                   | 6.32                                 | 1132.4325170                         | 85                                   |     0                                | ...                                  |   547928                             |  3.5                                 |  3.5                                 | 0.722                                | 12.7                                 |  12.25                               |  12.25                               |  0.16                                | 13.213899                            |  9.165810                            |\n",
       "| 2491 | Swaziland                            | 2014                                 | Developing                           | 58.4                                 | 382                                  |  2                                   | 0.01                                 |  574.3895102                         | 98                                   |     0                                | ...                                  |   129597                             |  4.3                                 |  4.3                                 | 0.541                                | 11.4                                 |  18.49                               |  18.49                               | 53.29                                | 11.772185                            |  8.150281                            |\n",
       "| 2539 | SyrianArabRepublic                   | 2014                                 | Developing                           | 64.4                                 | 294                                  |  7                                   | 0.01                                 |    0.0000000                         | 47                                   |   594                                | ...                                  |    19239                             |  6.3                                 |  6.1                                 | 0.575                                |  9.0                                 |  37.21                               |  39.69                               |  0.01                                |  9.864695                            |        NA                            |\n",
       "| 2555 | Tajikistan                           | 2014                                 | Developing                           | 69.6                                 | 162                                  | 10                                   | 0.01                                 |    7.8290086                         | 97                                   |     0                                | ...                                  |  8362745                             |  3.6                                 |  3.7                                 | 0.622                                | 11.3                                 |  13.69                               |  12.96                               |  0.04                                | 15.939297                            |  4.740218                            |\n",
       "| 2571 | Thailand                             | 2014                                 | Developing                           | 74.6                                 | 152                                  |  8                                   | 6.41                                 |  789.0772949                         | 99                                   |     0                                | ...                                  | 68416772                             |  7.8                                 |  7.8                                 | 0.737                                | 13.6                                 |  60.84                               |  60.84                               |  0.01                                | 18.041129                            |  8.689775                            |\n",
       "| 2587 | TheformerYugoslavrepublicofMacedonia | 2014                                 | Developing                           | 75.5                                 |  12                                  |  0                                   | 1.13                                 |    0.0000000                         | 97                                   |   116                                | ...                                  |       NA                             |  2.2                                 |  2.2                                 | 0.743                                | 12.9                                 |   4.84                               |   4.84                               |  0.01                                |        NA                            |        NA                            |\n",
       "| 2603 | Timor-Leste                          | 2014                                 | Developing                           | 68.0                                 | 155                                  |  2                                   | 0.01                                 |   28.1457850                         | 77                                   |    47                                | ...                                  |  1212814                             |  1.9                                 | 11.1                                 | 0.612                                | 12.5                                 | 123.21                               |   3.61                               |  0.01                                | 14.008454                            |  7.050570                            |\n",
       "| 2619 | Togo                                 | 2014                                 | Developing                           | 59.7                                 | 285                                  | 13                                   | 0.01                                 |    4.8773501                         | 87                                   |   577                                | ...                                  |  7228915                             |  6.6                                 |  6.4                                 | 0.475                                | 12.0                                 |  40.96                               |  43.56                               |  1.00                                | 15.793600                            |  4.129259                            |\n",
       "| 2635 | Tonga                                | 2014                                 | Developing                           | 73.3                                 | 135                                  |  0                                   | 0.01                                 |  565.9672173                         |  8                                   |     0                                | ...                                  |    15782                             |  0.1                                 |  0.1                                 | 0.716                                | 14.3                                 |   0.01                               |   0.01                               |  0.01                                |  9.666625                            |  8.341017                            |\n",
       "| 2651 | TrinidadandTobago                    | 2014                                 | Developing                           | 71.1                                 | 171                                  |  0                                   | 6.94                                 | 1578.8723390                         | 92                                   |     0                                | ...                                  |  1354493                             |  5.8                                 |  6.0                                 | 0.778                                | 12.7                                 |  36.00                               |  33.64                               |  0.09                                | 14.118938                            |  9.869167                            |\n",
       "| 2667 | Tunisia                              | 2014                                 | Developing                           | 75.1                                 |  12                                  |  3                                   | 1.39                                 |  604.8701316                         | 98                                   |    15                                | ...                                  |  1114398                             |  6.5                                 |  6.4                                 | 0.722                                | 14.7                                 |  40.96                               |  42.25                               |  0.01                                | 13.923825                            |  8.359763                            |\n",
       "| 2683 | Turkey                               | 2014                                 | Developing                           | 75.5                                 |  17                                  | 16                                   | 1.45                                 |  181.9083783                         | 96                                   |   565                                | ...                                  |   773628                             |  4.9                                 |  4.7                                 | 0.759                                | 14.5                                 |  22.09                               |  24.01                               |  0.01                                | 13.558846                            |  9.403208                            |\n",
       "| 2699 | Turkmenistan                         | 2014                                 | Developing                           | 66.0                                 | 217                                  |  7                                   | 2.90                                 |  691.1333535                         | 97                                   |     0                                | ...                                  |  5466241                             |  3.3                                 |  3.3                                 | 0.683                                | 10.8                                 |  10.89                               |  10.89                               |  0.01                                | 15.514102                            |  8.982481                            |\n",
       "| 2716 | Uganda                               | 2014                                 | Developing                           | 61.5                                 |  38                                  | 68                                   | 0.01                                 |   14.1677016                         | 78                                   |   314                                | ...                                  | 38833338                             |  5.7                                 |  5.6                                 | 0.483                                | 10.0                                 |  31.36                               |  32.49                               | 10.24                                | 17.474790                            |  6.578101                            |\n",
       "| 2732 | Ukraine                              | 2014                                 | Developing                           | 78.0                                 |  23                                  |  4                                   | 8.06                                 |    5.6638493                         | 22                                   |     0                                | ...                                  | 45271947                             |  2.3                                 |  2.4                                 | 0.746                                | 15.2                                 |   5.76                               |   5.29                               |  0.04                                | 17.628198                            |  5.751487                            |\n",
       "| 2748 | UnitedArabEmirates                   | 2014                                 | Developing                           | 76.9                                 |  77                                  |  1                                   | 1.91                                 | 3862.6827100                         | 99                                   |   344                                | ...                                  |       NA                             |  5.2                                 |  5.0                                 | 0.832                                | 13.3                                 |  25.00                               |  27.04                               |  0.01                                |        NA                            | 10.702114                            |\n",
       "| 2780 | UnitedRepublicofTanzania             | 2014                                 | Developing                           | 67.0                                 |  34                                  | 86                                   | 0.01                                 |    0.0000000                         | 97                                   |    88                                | ...                                  |       NA                             |  6.8                                 |  6.6                                 |    NA                                |   NA                                 |  43.56                               |  46.24                               |  1.96                                |        NA                            |        NA                            |\n",
       "| 2812 | Uruguay                              | 2014                                 | Developing                           | 76.8                                 | 117                                  |  0                                   | 6.03                                 |  463.6397821                         | 95                                   |     0                                | ...                                  |  3419546                             |  1.5                                 |  1.4                                 | 0.791                                | 15.5                                 |   1.96                               |   2.25                               |  0.01                                | 15.045018                            |  9.725431                            |\n",
       "| 2828 | Uzbekistan                           | 2014                                 | Developing                           | 69.2                                 | 184                                  | 16                                   | 0.01                                 |    0.4428024                         | 99                                   |     8                                | ...                                  |    37577                             |  3.0                                 |  3.1                                 | 0.690                                | 12.1                                 |   9.61                               |   9.00                               |  0.01                                | 10.534147                            |  3.236653                            |\n",
       "| 2844 | Vanuatu                              | 2014                                 | Developing                           | 71.7                                 | 134                                  |  0                                   | 0.01                                 |  564.8167043                         | 64                                   |    10                                | ...                                  |    25885                             |  1.5                                 |  1.4                                 | 0.596                                | 10.8                                 |   1.96                               |   2.25                               |  0.01                                | 10.161419                            |  8.054639                            |\n",
       "| 2860 | Venezuela(BolivarianRepublicof)      | 2014                                 | Developing                           | 73.9                                 | 158                                  |  9                                   | 6.47                                 |    0.0000000                         | 78                                   |     0                                | ...                                  |       NA                             |  1.6                                 |  1.5                                 | 0.771                                | 14.2                                 |   2.25                               |   2.56                               |  0.01                                |        NA                            |        NA                            |\n",
       "| 2876 | VietNam                              | 2014                                 | Developing                           | 75.9                                 | 128                                  | 28                                   | 4.09                                 |    0.0000000                         | 95                                   | 15033                                | ...                                  |       NA                             | 14.3                                 | 14.7                                 | 0.675                                | 12.5                                 | 216.09                               | 204.49                               |  0.01                                |        NA                            |        NA                            |\n",
       "| 2892 | Yemen                                | 2014                                 | Developing                           | 65.4                                 | 228                                  | 37                                   | 0.01                                 |    0.0000000                         | 73                                   |   815                                | ...                                  |       NA                             | 13.7                                 | 13.5                                 | 0.500                                |  9.0                                 | 182.25                               | 187.69                               |  0.01                                |        NA                            |        NA                            |\n",
       "| 2908 | Zambia                               | 2014                                 | Developing                           | 61.1                                 | 314                                  | 28                                   | 0.01                                 |  196.6675768                         | 86                                   |     9                                | ...                                  |  1562974                             |  6.3                                 |  6.2                                 | 0.570                                | 12.5                                 |  38.44                               |  39.69                               | 18.49                                | 14.262101                            |  7.460998                            |\n",
       "| 2924 | Zimbabwe                             | 2014                                 | Developing                           | 59.2                                 | 371                                  | 23                                   | 6.50                                 |   10.8225952                         | 91                                   |     0                                | ...                                  | 15411675                             |  5.9                                 |  5.7                                 | 0.498                                | 10.3                                 |  32.49                               |  34.81                               | 39.69                                | 16.550636                            |  4.847917                            |\n",
       "\n"
      ],
      "text/plain": [
       "     Country                              Year Status     Lifeexpectancy\n",
       "2    Afghanistan                          2014 Developing 59.9          \n",
       "18   Albania                              2014 Developing 77.5          \n",
       "34   Algeria                              2014 Developing 75.4          \n",
       "50   Angola                               2014 Developing 51.7          \n",
       "66   AntiguaandBarbuda                    2014 Developing 76.2          \n",
       "82   Argentina                            2014 Developing 76.2          \n",
       "98   Armenia                              2014 Developing 74.6          \n",
       "146  Azerbaijan                           2014 Developing 72.5          \n",
       "162  Bahamas                              2014 Developing 75.4          \n",
       "178  Bahrain                              2014 Developing 76.8          \n",
       "194  Bangladesh                           2014 Developing 71.4          \n",
       "210  Barbados                             2014 Developing 75.4          \n",
       "226  Belarus                              2014 Developing 72.0          \n",
       "258  Belize                               2014 Developing 70.0          \n",
       "274  Benin                                2014 Developing 59.7          \n",
       "290  Bhutan                               2014 Developing 69.4          \n",
       "306  Bolivia(PlurinationalStateof)        2014 Developing 74.0          \n",
       "322  BosniaandHerzegovina                 2014 Developing 77.2          \n",
       "338  Botswana                             2014 Developing 65.1          \n",
       "354  Brazil                               2014 Developing 74.8          \n",
       "370  BruneiDarussalam                     2014 Developing 77.6          \n",
       "402  BurkinaFaso                          2014 Developing 59.3          \n",
       "418  Burundi                              2014 Developing 59.1          \n",
       "434  CÃ´ted'Ivoire                        2014 Developing 52.8          \n",
       "450  CaboVerde                            2014 Developing 73.0          \n",
       "466  Cambodia                             2014 Developing 68.3          \n",
       "482  Cameroon                             2014 Developing 56.7          \n",
       "498  Canada                               2014 Developing 82.0          \n",
       "514  CentralAfricanRepublic               2014 Developing 58.0          \n",
       "530  Chad                                 2014 Developing 52.6          \n",
       "...  ...                                  ...  ...        ...           \n",
       "2379 Somalia                              2014 Developing 54.3          \n",
       "2395 SouthAfrica                          2014 Developing 62.0          \n",
       "2411 SouthSudan                           2014 Developing 56.6          \n",
       "2443 SriLanka                             2014 Developing 74.7          \n",
       "2459 Sudan                                2014 Developing 63.8          \n",
       "2475 Suriname                             2014 Developing 71.4          \n",
       "2491 Swaziland                            2014 Developing 58.4          \n",
       "2539 SyrianArabRepublic                   2014 Developing 64.4          \n",
       "2555 Tajikistan                           2014 Developing 69.6          \n",
       "2571 Thailand                             2014 Developing 74.6          \n",
       "2587 TheformerYugoslavrepublicofMacedonia 2014 Developing 75.5          \n",
       "2603 Timor-Leste                          2014 Developing 68.0          \n",
       "2619 Togo                                 2014 Developing 59.7          \n",
       "2635 Tonga                                2014 Developing 73.3          \n",
       "2651 TrinidadandTobago                    2014 Developing 71.1          \n",
       "2667 Tunisia                              2014 Developing 75.1          \n",
       "2683 Turkey                               2014 Developing 75.5          \n",
       "2699 Turkmenistan                         2014 Developing 66.0          \n",
       "2716 Uganda                               2014 Developing 61.5          \n",
       "2732 Ukraine                              2014 Developing 78.0          \n",
       "2748 UnitedArabEmirates                   2014 Developing 76.9          \n",
       "2780 UnitedRepublicofTanzania             2014 Developing 67.0          \n",
       "2812 Uruguay                              2014 Developing 76.8          \n",
       "2828 Uzbekistan                           2014 Developing 69.2          \n",
       "2844 Vanuatu                              2014 Developing 71.7          \n",
       "2860 Venezuela(BolivarianRepublicof)      2014 Developing 73.9          \n",
       "2876 VietNam                              2014 Developing 75.9          \n",
       "2892 Yemen                                2014 Developing 65.4          \n",
       "2908 Zambia                               2014 Developing 61.1          \n",
       "2924 Zimbabwe                             2014 Developing 59.2          \n",
       "     AdultMortality infantdeaths Alcohol percentageexpenditure HepatitisB\n",
       "2    271            64            0.01     73.52358            62        \n",
       "18     8             0            4.51    428.74907            98        \n",
       "34    11            21            0.01     54.23732            95        \n",
       "50   348            67            8.33     23.96561            64        \n",
       "66   131             0            8.56   2422.99977            99        \n",
       "82   118             8            7.93    847.37175            94        \n",
       "98    12             1            3.91    295.60871            93        \n",
       "146  119             5            0.01    306.18243            94        \n",
       "162   16             0            9.45      0.00000            96        \n",
       "178    7             0            1.57    367.25567            98        \n",
       "194  132            98            0.01     10.44640            97        \n",
       "210    1             0            8.82    294.90566            94        \n",
       "226  199             0           13.94   1147.11140            97        \n",
       "258  177             0            6.58    670.09209            95        \n",
       "274  252            25            0.01     90.12207            78        \n",
       "290  216             0            0.01    209.39213            99        \n",
       "306  189             8            3.62      0.00000            98        \n",
       "322   89             0            4.03    732.86625            89        \n",
       "338  268             2            0.01    662.80219            95        \n",
       "354  144            44            7.32     83.16465            96        \n",
       "370    8             0            0.01    269.14328            99        \n",
       "402  268            39            0.01      8.38634            91        \n",
       "418  297            22            0.01     41.25159            95        \n",
       "434   47            58            0.01      0.00000            76        \n",
       "450  117             0            0.01    414.02424            97        \n",
       "466  179            11            0.01     12.17952            88        \n",
       "482  366            47            0.01     61.39264            87        \n",
       "498   65             2            8.10    102.19022            55        \n",
       "514  437            15            0.01     53.43964            47        \n",
       "530  362            46            0.01     11.30207            37        \n",
       "...  ...            ...          ...     ...                   ...       \n",
       "2379 321            51           0.01       0.0000000          42        \n",
       "2395 347            42           7.38     922.0507313           8        \n",
       "2411 343            26             NA      46.0744686          NA        \n",
       "2443 141             3           2.37      42.7308283          99        \n",
       "2459 229            59           0.01     253.6086508          94        \n",
       "2475 178             0           6.32    1132.4325170          85        \n",
       "2491 382             2           0.01     574.3895102          98        \n",
       "2539 294             7           0.01       0.0000000          47        \n",
       "2555 162            10           0.01       7.8290086          97        \n",
       "2571 152             8           6.41     789.0772949          99        \n",
       "2587  12             0           1.13       0.0000000          97        \n",
       "2603 155             2           0.01      28.1457850          77        \n",
       "2619 285            13           0.01       4.8773501          87        \n",
       "2635 135             0           0.01     565.9672173           8        \n",
       "2651 171             0           6.94    1578.8723390          92        \n",
       "2667  12             3           1.39     604.8701316          98        \n",
       "2683  17            16           1.45     181.9083783          96        \n",
       "2699 217             7           2.90     691.1333535          97        \n",
       "2716  38            68           0.01      14.1677016          78        \n",
       "2732  23             4           8.06       5.6638493          22        \n",
       "2748  77             1           1.91    3862.6827100          99        \n",
       "2780  34            86           0.01       0.0000000          97        \n",
       "2812 117             0           6.03     463.6397821          95        \n",
       "2828 184            16           0.01       0.4428024          99        \n",
       "2844 134             0           0.01     564.8167043          64        \n",
       "2860 158             9           6.47       0.0000000          78        \n",
       "2876 128            28           4.09       0.0000000          95        \n",
       "2892 228            37           0.01       0.0000000          73        \n",
       "2908 314            28           0.01     196.6675768          86        \n",
       "2924 371            23           6.50      10.8225952          91        \n",
       "     Measles ... Population thinness1.19years thinness5.9years\n",
       "2      492   ...   327582   17.5              17.5            \n",
       "18       0   ...   288914    1.2               1.3            \n",
       "34       0   ... 39113313    6.0               5.8            \n",
       "50   11699   ...  2692466    8.5               8.3            \n",
       "66       0   ...       NA    3.3               3.3            \n",
       "82       1   ... 42981515    1.0               0.9            \n",
       "98      13   ...    29622    2.1               2.1            \n",
       "146      0   ...   953579    2.8               2.9            \n",
       "162      0   ...       NA    2.5               2.5            \n",
       "178     46   ...       NA    6.1               6.0            \n",
       "194    289   ... 15945279   18.1              18.6            \n",
       "210      0   ...       NA    3.8               3.7            \n",
       "226     64   ...  9474511    1.9               2.0            \n",
       "258      0   ...   351694    3.4               3.4            \n",
       "274    786   ...  1286712    7.1               6.9            \n",
       "290      0   ...   776448   15.7              16.2            \n",
       "306      0   ...       NA    1.2               1.1            \n",
       "322   3000   ...    35662    2.4               2.4            \n",
       "338      1   ...  2168573    6.7               6.4            \n",
       "354    876   ... 24213133    2.7               2.7            \n",
       "370      1   ...       NA    5.7               5.2            \n",
       "402    343   ... 17585977    8.2               7.7            \n",
       "418      0   ...   989179    7.4               7.3            \n",
       "434     50   ...       NA    5.6               5.6            \n",
       "450      0   ...   526437    6.8               6.7            \n",
       "466      0   ...   152779    1.9              11.0            \n",
       "482    831   ...  2223994    5.7               5.7            \n",
       "498    418   ... 35544564    0.5               0.5            \n",
       "514    210   ...  4515392    8.4               8.3            \n",
       "530   1275   ... 13569438    8.7               8.5            \n",
       "...  ...         ...        ...               ...             \n",
       "2379 10229   ...       NA    6.7               6.5            \n",
       "2395    66   ... 54146735    4.9               5.9            \n",
       "2411   441   ...  1153971     NA                NA            \n",
       "2443  1686   ...     2771   15.2              15.0            \n",
       "2459   676   ... 37737913     NA                NA            \n",
       "2475     0   ...   547928    3.5               3.5            \n",
       "2491     0   ...   129597    4.3               4.3            \n",
       "2539   594   ...    19239    6.3               6.1            \n",
       "2555     0   ...  8362745    3.6               3.7            \n",
       "2571     0   ... 68416772    7.8               7.8            \n",
       "2587   116   ...       NA    2.2               2.2            \n",
       "2603    47   ...  1212814    1.9              11.1            \n",
       "2619   577   ...  7228915    6.6               6.4            \n",
       "2635     0   ...    15782    0.1               0.1            \n",
       "2651     0   ...  1354493    5.8               6.0            \n",
       "2667    15   ...  1114398    6.5               6.4            \n",
       "2683   565   ...   773628    4.9               4.7            \n",
       "2699     0   ...  5466241    3.3               3.3            \n",
       "2716   314   ... 38833338    5.7               5.6            \n",
       "2732     0   ... 45271947    2.3               2.4            \n",
       "2748   344   ...       NA    5.2               5.0            \n",
       "2780    88   ...       NA    6.8               6.6            \n",
       "2812     0   ...  3419546    1.5               1.4            \n",
       "2828     8   ...    37577    3.0               3.1            \n",
       "2844    10   ...    25885    1.5               1.4            \n",
       "2860     0   ...       NA    1.6               1.5            \n",
       "2876 15033   ...       NA   14.3              14.7            \n",
       "2892   815   ...       NA   13.7              13.5            \n",
       "2908     9   ...  1562974    6.3               6.2            \n",
       "2924     0   ... 15411675    5.9               5.7            \n",
       "     Incomecompositionofresources Schooling thinness5.9years2\n",
       "2    0.476                        10.0      306.25           \n",
       "18   0.761                        14.2        1.69           \n",
       "34   0.741                        14.4       33.64           \n",
       "50   0.527                        11.4       68.89           \n",
       "66   0.782                        13.9       10.89           \n",
       "82   0.825                        17.3        0.81           \n",
       "98   0.739                        12.7        4.41           \n",
       "146  0.752                        12.2        8.41           \n",
       "162  0.789                        12.6        6.25           \n",
       "178  0.820                        14.5       36.00           \n",
       "194  0.570                        10.0      345.96           \n",
       "210  0.793                        15.3       13.69           \n",
       "226  0.796                        15.7        4.00           \n",
       "258  0.705                        12.8       11.56           \n",
       "274  0.475                        10.7       47.61           \n",
       "290  0.596                        12.5      262.44           \n",
       "306  0.666                        13.8        1.21           \n",
       "322  0.742                        14.2        5.76           \n",
       "338  0.697                        12.6       40.96           \n",
       "354  0.747                        15.2        7.29           \n",
       "370  0.863                        15.0       27.04           \n",
       "402  0.398                         7.7       59.29           \n",
       "418  0.404                        10.6       53.29           \n",
       "434     NA                          NA       31.36           \n",
       "450  0.643                        13.5       44.89           \n",
       "466  0.553                        10.9      121.00           \n",
       "482  0.507                        10.4       32.49           \n",
       "498  0.912                        15.9        0.25           \n",
       "514  0.345                         7.1       68.89           \n",
       "530  0.390                         7.3       72.25           \n",
       "...  ...                          ...       ...              \n",
       "2379    NA                          NA       42.25           \n",
       "2395 0.660                        13.0       34.81           \n",
       "2411 0.421                         4.9          NA           \n",
       "2443 0.760                        14.0      225.00           \n",
       "2459 0.485                         7.2          NA           \n",
       "2475 0.722                        12.7       12.25           \n",
       "2491 0.541                        11.4       18.49           \n",
       "2539 0.575                         9.0       37.21           \n",
       "2555 0.622                        11.3       13.69           \n",
       "2571 0.737                        13.6       60.84           \n",
       "2587 0.743                        12.9        4.84           \n",
       "2603 0.612                        12.5      123.21           \n",
       "2619 0.475                        12.0       40.96           \n",
       "2635 0.716                        14.3        0.01           \n",
       "2651 0.778                        12.7       36.00           \n",
       "2667 0.722                        14.7       40.96           \n",
       "2683 0.759                        14.5       22.09           \n",
       "2699 0.683                        10.8       10.89           \n",
       "2716 0.483                        10.0       31.36           \n",
       "2732 0.746                        15.2        5.76           \n",
       "2748 0.832                        13.3       25.00           \n",
       "2780    NA                          NA       43.56           \n",
       "2812 0.791                        15.5        1.96           \n",
       "2828 0.690                        12.1        9.61           \n",
       "2844 0.596                        10.8        1.96           \n",
       "2860 0.771                        14.2        2.25           \n",
       "2876 0.675                        12.5      216.09           \n",
       "2892 0.500                         9.0      182.25           \n",
       "2908 0.570                        12.5       38.44           \n",
       "2924 0.498                        10.3       32.49           \n",
       "     thinness1.19years2 HIV.AIDS2 log_Population log_GDP  \n",
       "2    306.25              0.01     12.69949        6.417870\n",
       "18     1.44              0.01     12.57388        8.428529\n",
       "34    36.00              0.01     17.48197        6.306005\n",
       "50    72.25              4.00     14.80597        6.172352\n",
       "66    10.89              0.04           NA        9.464075\n",
       "82     1.00              0.01     17.57628        9.412894\n",
       "98     4.41              0.01     10.29627        8.292727\n",
       "146    7.84              0.01     13.76798        8.973516\n",
       "162    6.25              0.01           NA              NA\n",
       "178   37.21              0.01           NA       10.125966\n",
       "194  327.61              0.01     16.58467        5.218004\n",
       "210   14.44              0.01           NA        9.639501\n",
       "226    3.61              0.01     16.06412        9.026229\n",
       "258   11.56              0.04     12.77052        8.487192\n",
       "274   50.41              1.21     14.06760        6.849794\n",
       "290  246.49              0.25     13.56248        7.833123\n",
       "306    1.44              0.01           NA              NA\n",
       "322    5.76              0.01     10.48184        8.555250\n",
       "338   44.89              5.29     14.58958        8.922360\n",
       "354    7.29              0.01     17.00241        7.112016\n",
       "370   32.49              0.01           NA        8.333238\n",
       "402   67.24              0.36     16.68261        4.319438\n",
       "418   54.76              0.49     13.80463        5.745401\n",
       "434   31.36              4.00           NA              NA\n",
       "450   46.24              0.04     13.17389        8.168945\n",
       "466    3.61              0.04     11.93675        5.291731\n",
       "482   32.49             13.69     14.61482        7.273191\n",
       "498    0.25              0.01     17.38630        6.299746\n",
       "514   70.56             20.25     15.32300        5.932596\n",
       "530   75.69              8.41     16.42333        4.836270\n",
       "...  ...                ...       ...            ...      \n",
       "2379  44.89              0.64            NA       6.035222\n",
       "2395  24.01             13.69     17.807208       8.776418\n",
       "2411     NA             12.25     13.958720       7.049135\n",
       "2443 231.04              0.01      7.926964       5.946859\n",
       "2459     NA              0.09     17.446176       7.685656\n",
       "2475  12.25              0.16     13.213899       9.165810\n",
       "2491  18.49             53.29     11.772185       8.150281\n",
       "2539  39.69              0.01      9.864695             NA\n",
       "2555  12.96              0.04     15.939297       4.740218\n",
       "2571  60.84              0.01     18.041129       8.689775\n",
       "2587   4.84              0.01            NA             NA\n",
       "2603   3.61              0.01     14.008454       7.050570\n",
       "2619  43.56              1.00     15.793600       4.129259\n",
       "2635   0.01              0.01      9.666625       8.341017\n",
       "2651  33.64              0.09     14.118938       9.869167\n",
       "2667  42.25              0.01     13.923825       8.359763\n",
       "2683  24.01              0.01     13.558846       9.403208\n",
       "2699  10.89              0.01     15.514102       8.982481\n",
       "2716  32.49             10.24     17.474790       6.578101\n",
       "2732   5.29              0.04     17.628198       5.751487\n",
       "2748  27.04              0.01            NA      10.702114\n",
       "2780  46.24              1.96            NA             NA\n",
       "2812   2.25              0.01     15.045018       9.725431\n",
       "2828   9.00              0.01     10.534147       3.236653\n",
       "2844   2.25              0.01     10.161419       8.054639\n",
       "2860   2.56              0.01            NA             NA\n",
       "2876 204.49              0.01            NA             NA\n",
       "2892 187.69              0.01            NA             NA\n",
       "2908  39.69             18.49     14.262101       7.460998\n",
       "2924  34.81             39.69     16.550636       4.847917"
      ]
     },
     "metadata": {},
     "output_type": "display_data"
    }
   ],
   "source": [
    "mydata = dataset[(Year==cible) & (Status==\"Developing\"),]\n",
    "dim(mydata)\n",
    "mydata"
   ]
  },
  {
   "cell_type": "markdown",
   "metadata": {},
   "source": [
    "## Imputation\n",
    "Les valeurs manquantes sont un soucis à bien des égards. Différentes méthodes d'imputation existent. On propose ici une technique d'imputation par la moyenne."
   ]
  },
  {
   "cell_type": "code",
   "execution_count": 18,
   "metadata": {},
   "outputs": [
    {
     "data": {
      "text/html": [
       "<table>\n",
       "<thead><tr><th></th><th scope=col>Country</th><th scope=col>Year</th><th scope=col>Status</th><th scope=col>Lifeexpectancy</th><th scope=col>AdultMortality</th><th scope=col>infantdeaths</th><th scope=col>Alcohol</th><th scope=col>percentageexpenditure</th><th scope=col>HepatitisB</th><th scope=col>Measles</th><th scope=col>...</th><th scope=col>Population</th><th scope=col>thinness1.19years</th><th scope=col>thinness5.9years</th><th scope=col>Incomecompositionofresources</th><th scope=col>Schooling</th><th scope=col>thinness5.9years2</th><th scope=col>thinness1.19years2</th><th scope=col>HIV.AIDS2</th><th scope=col>log_Population</th><th scope=col>log_GDP</th></tr></thead>\n",
       "<tbody>\n",
       "\t<tr><th scope=row>2</th><td>Afghanistan                  </td><td>2014                         </td><td>Developing                   </td><td>59.9                         </td><td>271                          </td><td>64                           </td><td> 0.01                        </td><td>  73.52358                   </td><td>62                           </td><td>  492                        </td><td>...                          </td><td>  327582                     </td><td>17.5                         </td><td>17.5                         </td><td>0.4760000                    </td><td>10.00000                     </td><td>306.25                       </td><td>306.25                       </td><td> 0.01                        </td><td>12.69949                     </td><td> 6.417870                    </td></tr>\n",
       "\t<tr><th scope=row>18</th><td>Albania                      </td><td>2014                         </td><td>Developing                   </td><td>77.5                         </td><td>  8                          </td><td> 0                           </td><td> 4.51                        </td><td> 428.74907                   </td><td>98                           </td><td>    0                        </td><td>...                          </td><td>  288914                     </td><td> 1.2                         </td><td> 1.3                         </td><td>0.7610000                    </td><td>14.20000                     </td><td>  1.69                       </td><td>  1.44                       </td><td> 0.01                        </td><td>12.57388                     </td><td> 8.428529                    </td></tr>\n",
       "\t<tr><th scope=row>34</th><td>Algeria                      </td><td>2014                         </td><td>Developing                   </td><td>75.4                         </td><td> 11                          </td><td>21                           </td><td> 0.01                        </td><td>  54.23732                   </td><td>95                           </td><td>    0                        </td><td>...                          </td><td>39113313                     </td><td> 6.0                         </td><td> 5.8                         </td><td>0.7410000                    </td><td>14.40000                     </td><td> 33.64                       </td><td> 36.00                       </td><td> 0.01                        </td><td>17.48197                     </td><td> 6.306005                    </td></tr>\n",
       "\t<tr><th scope=row>50</th><td>Angola                       </td><td>2014                         </td><td>Developing                   </td><td>51.7                         </td><td>348                          </td><td>67                           </td><td> 8.33                        </td><td>  23.96561                   </td><td>64                           </td><td>11699                        </td><td>...                          </td><td> 2692466                     </td><td> 8.5                         </td><td> 8.3                         </td><td>0.5270000                    </td><td>11.40000                     </td><td> 68.89                       </td><td> 72.25                       </td><td> 4.00                        </td><td>14.80597                     </td><td> 6.172352                    </td></tr>\n",
       "\t<tr><th scope=row>66</th><td>AntiguaandBarbuda            </td><td>2014                         </td><td>Developing                   </td><td>76.2                         </td><td>131                          </td><td> 0                           </td><td> 8.56                        </td><td>2422.99977                   </td><td>99                           </td><td>    0                        </td><td>...                          </td><td>25139118                     </td><td> 3.3                         </td><td> 3.3                         </td><td>0.7820000                    </td><td>13.90000                     </td><td> 10.89                       </td><td> 10.89                       </td><td> 0.04                        </td><td>14.16980                     </td><td> 9.464075                    </td></tr>\n",
       "\t<tr><th scope=row>82</th><td>Argentina                    </td><td>2014                         </td><td>Developing                   </td><td>76.2                         </td><td>118                          </td><td> 8                           </td><td> 7.93                        </td><td> 847.37175                   </td><td>94                           </td><td>    1                        </td><td>...                          </td><td>42981515                     </td><td> 1.0                         </td><td> 0.9                         </td><td>0.8250000                    </td><td>17.30000                     </td><td>  0.81                       </td><td>  1.00                       </td><td> 0.01                        </td><td>17.57628                     </td><td> 9.412894                    </td></tr>\n",
       "\t<tr><th scope=row>98</th><td>Armenia                      </td><td>2014                         </td><td>Developing                   </td><td>74.6                         </td><td> 12                          </td><td> 1                           </td><td> 3.91                        </td><td> 295.60871                   </td><td>93                           </td><td>   13                        </td><td>...                          </td><td>   29622                     </td><td> 2.1                         </td><td> 2.1                         </td><td>0.7390000                    </td><td>12.70000                     </td><td>  4.41                       </td><td>  4.41                       </td><td> 0.01                        </td><td>10.29627                     </td><td> 8.292727                    </td></tr>\n",
       "\t<tr><th scope=row>146</th><td>Azerbaijan                   </td><td>2014                         </td><td>Developing                   </td><td>72.5                         </td><td>119                          </td><td> 5                           </td><td> 0.01                        </td><td> 306.18243                   </td><td>94                           </td><td>    0                        </td><td>...                          </td><td>  953579                     </td><td> 2.8                         </td><td> 2.9                         </td><td>0.7520000                    </td><td>12.20000                     </td><td>  8.41                       </td><td>  7.84                       </td><td> 0.01                        </td><td>13.76798                     </td><td> 8.973516                    </td></tr>\n",
       "\t<tr><th scope=row>162</th><td>Bahamas                      </td><td>2014                         </td><td>Developing                   </td><td>75.4                         </td><td> 16                          </td><td> 0                           </td><td> 9.45                        </td><td>   0.00000                   </td><td>96                           </td><td>    0                        </td><td>...                          </td><td>25139118                     </td><td> 2.5                         </td><td> 2.5                         </td><td>0.7890000                    </td><td>12.60000                     </td><td>  6.25                       </td><td>  6.25                       </td><td> 0.01                        </td><td>14.16980                     </td><td> 7.493295                    </td></tr>\n",
       "\t<tr><th scope=row>178</th><td>Bahrain                      </td><td>2014                         </td><td>Developing                   </td><td>76.8                         </td><td>  7                          </td><td> 0                           </td><td> 1.57                        </td><td> 367.25567                   </td><td>98                           </td><td>   46                        </td><td>...                          </td><td>25139118                     </td><td> 6.1                         </td><td> 6.0                         </td><td>0.8200000                    </td><td>14.50000                     </td><td> 36.00                       </td><td> 37.21                       </td><td> 0.01                        </td><td>14.16980                     </td><td>10.125966                    </td></tr>\n",
       "\t<tr><th scope=row>194</th><td>Bangladesh                   </td><td>2014                         </td><td>Developing                   </td><td>71.4                         </td><td>132                          </td><td>98                           </td><td> 0.01                        </td><td>  10.44640                   </td><td>97                           </td><td>  289                        </td><td>...                          </td><td>15945279                     </td><td>18.1                         </td><td>18.6                         </td><td>0.5700000                    </td><td>10.00000                     </td><td>345.96                       </td><td>327.61                       </td><td> 0.01                        </td><td>16.58467                     </td><td> 5.218004                    </td></tr>\n",
       "\t<tr><th scope=row>210</th><td>Barbados                     </td><td>2014                         </td><td>Developing                   </td><td>75.4                         </td><td>  1                          </td><td> 0                           </td><td> 8.82                        </td><td> 294.90566                   </td><td>94                           </td><td>    0                        </td><td>...                          </td><td>25139118                     </td><td> 3.8                         </td><td> 3.7                         </td><td>0.7930000                    </td><td>15.30000                     </td><td> 13.69                       </td><td> 14.44                       </td><td> 0.01                        </td><td>14.16980                     </td><td> 9.639501                    </td></tr>\n",
       "\t<tr><th scope=row>226</th><td>Belarus                      </td><td>2014                         </td><td>Developing                   </td><td>72.0                         </td><td>199                          </td><td> 0                           </td><td>13.94                        </td><td>1147.11140                   </td><td>97                           </td><td>   64                        </td><td>...                          </td><td> 9474511                     </td><td> 1.9                         </td><td> 2.0                         </td><td>0.7960000                    </td><td>15.70000                     </td><td>  4.00                       </td><td>  3.61                       </td><td> 0.01                        </td><td>16.06412                     </td><td> 9.026229                    </td></tr>\n",
       "\t<tr><th scope=row>258</th><td>Belize                       </td><td>2014                         </td><td>Developing                   </td><td>70.0                         </td><td>177                          </td><td> 0                           </td><td> 6.58                        </td><td> 670.09209                   </td><td>95                           </td><td>    0                        </td><td>...                          </td><td>  351694                     </td><td> 3.4                         </td><td> 3.4                         </td><td>0.7050000                    </td><td>12.80000                     </td><td> 11.56                       </td><td> 11.56                       </td><td> 0.04                        </td><td>12.77052                     </td><td> 8.487192                    </td></tr>\n",
       "\t<tr><th scope=row>274</th><td>Benin                        </td><td>2014                         </td><td>Developing                   </td><td>59.7                         </td><td>252                          </td><td>25                           </td><td> 0.01                        </td><td>  90.12207                   </td><td>78                           </td><td>  786                        </td><td>...                          </td><td> 1286712                     </td><td> 7.1                         </td><td> 6.9                         </td><td>0.4750000                    </td><td>10.70000                     </td><td> 47.61                       </td><td> 50.41                       </td><td> 1.21                        </td><td>14.06760                     </td><td> 6.849794                    </td></tr>\n",
       "\t<tr><th scope=row>290</th><td>Bhutan                       </td><td>2014                         </td><td>Developing                   </td><td>69.4                         </td><td>216                          </td><td> 0                           </td><td> 0.01                        </td><td> 209.39213                   </td><td>99                           </td><td>    0                        </td><td>...                          </td><td>  776448                     </td><td>15.7                         </td><td>16.2                         </td><td>0.5960000                    </td><td>12.50000                     </td><td>262.44                       </td><td>246.49                       </td><td> 0.25                        </td><td>13.56248                     </td><td> 7.833123                    </td></tr>\n",
       "\t<tr><th scope=row>306</th><td>Bolivia(PlurinationalStateof)</td><td>2014                         </td><td>Developing                   </td><td>74.0                         </td><td>189                          </td><td> 8                           </td><td> 3.62                        </td><td>   0.00000                   </td><td>98                           </td><td>    0                        </td><td>...                          </td><td>25139118                     </td><td> 1.2                         </td><td> 1.1                         </td><td>0.6660000                    </td><td>13.80000                     </td><td>  1.21                       </td><td>  1.44                       </td><td> 0.01                        </td><td>14.16980                     </td><td> 7.493295                    </td></tr>\n",
       "\t<tr><th scope=row>322</th><td>BosniaandHerzegovina         </td><td>2014                         </td><td>Developing                   </td><td>77.2                         </td><td> 89                          </td><td> 0                           </td><td> 4.03                        </td><td> 732.86625                   </td><td>89                           </td><td> 3000                        </td><td>...                          </td><td>   35662                     </td><td> 2.4                         </td><td> 2.4                         </td><td>0.7420000                    </td><td>14.20000                     </td><td>  5.76                       </td><td>  5.76                       </td><td> 0.01                        </td><td>10.48184                     </td><td> 8.555250                    </td></tr>\n",
       "\t<tr><th scope=row>338</th><td>Botswana                     </td><td>2014                         </td><td>Developing                   </td><td>65.1                         </td><td>268                          </td><td> 2                           </td><td> 0.01                        </td><td> 662.80219                   </td><td>95                           </td><td>    1                        </td><td>...                          </td><td> 2168573                     </td><td> 6.7                         </td><td> 6.4                         </td><td>0.6970000                    </td><td>12.60000                     </td><td> 40.96                       </td><td> 44.89                       </td><td> 5.29                        </td><td>14.58958                     </td><td> 8.922360                    </td></tr>\n",
       "\t<tr><th scope=row>354</th><td>Brazil                       </td><td>2014                         </td><td>Developing                   </td><td>74.8                         </td><td>144                          </td><td>44                           </td><td> 7.32                        </td><td>  83.16465                   </td><td>96                           </td><td>  876                        </td><td>...                          </td><td>24213133                     </td><td> 2.7                         </td><td> 2.7                         </td><td>0.7470000                    </td><td>15.20000                     </td><td>  7.29                       </td><td>  7.29                       </td><td> 0.01                        </td><td>17.00241                     </td><td> 7.112016                    </td></tr>\n",
       "\t<tr><th scope=row>370</th><td>BruneiDarussalam             </td><td>2014                         </td><td>Developing                   </td><td>77.6                         </td><td>  8                          </td><td> 0                           </td><td> 0.01                        </td><td> 269.14328                   </td><td>99                           </td><td>    1                        </td><td>...                          </td><td>25139118                     </td><td> 5.7                         </td><td> 5.2                         </td><td>0.8630000                    </td><td>15.00000                     </td><td> 27.04                       </td><td> 32.49                       </td><td> 0.01                        </td><td>14.16980                     </td><td> 8.333238                    </td></tr>\n",
       "\t<tr><th scope=row>402</th><td>BurkinaFaso                  </td><td>2014                         </td><td>Developing                   </td><td>59.3                         </td><td>268                          </td><td>39                           </td><td> 0.01                        </td><td>   8.38634                   </td><td>91                           </td><td>  343                        </td><td>...                          </td><td>17585977                     </td><td> 8.2                         </td><td> 7.7                         </td><td>0.3980000                    </td><td> 7.70000                     </td><td> 59.29                       </td><td> 67.24                       </td><td> 0.36                        </td><td>16.68261                     </td><td> 4.319438                    </td></tr>\n",
       "\t<tr><th scope=row>418</th><td>Burundi                      </td><td>2014                         </td><td>Developing                   </td><td>59.1                         </td><td>297                          </td><td>22                           </td><td> 0.01                        </td><td>  41.25159                   </td><td>95                           </td><td>    0                        </td><td>...                          </td><td>  989179                     </td><td> 7.4                         </td><td> 7.3                         </td><td>0.4040000                    </td><td>10.60000                     </td><td> 53.29                       </td><td> 54.76                       </td><td> 0.49                        </td><td>13.80463                     </td><td> 5.745401                    </td></tr>\n",
       "\t<tr><th scope=row>434</th><td>CÃ´ted'Ivoire                </td><td>2014                         </td><td>Developing                   </td><td>52.8                         </td><td> 47                          </td><td>58                           </td><td> 0.01                        </td><td>   0.00000                   </td><td>76                           </td><td>   50                        </td><td>...                          </td><td>25139118                     </td><td> 5.6                         </td><td> 5.6                         </td><td>0.6500139                    </td><td>12.15833                     </td><td> 31.36                       </td><td> 31.36                       </td><td> 4.00                        </td><td>14.16980                     </td><td> 7.493295                    </td></tr>\n",
       "\t<tr><th scope=row>450</th><td>CaboVerde                    </td><td>2014                         </td><td>Developing                   </td><td>73.0                         </td><td>117                          </td><td> 0                           </td><td> 0.01                        </td><td> 414.02424                   </td><td>97                           </td><td>    0                        </td><td>...                          </td><td>  526437                     </td><td> 6.8                         </td><td> 6.7                         </td><td>0.6430000                    </td><td>13.50000                     </td><td> 44.89                       </td><td> 46.24                       </td><td> 0.04                        </td><td>13.17389                     </td><td> 8.168945                    </td></tr>\n",
       "\t<tr><th scope=row>466</th><td>Cambodia                     </td><td>2014                         </td><td>Developing                   </td><td>68.3                         </td><td>179                          </td><td>11                           </td><td> 0.01                        </td><td>  12.17952                   </td><td>88                           </td><td>    0                        </td><td>...                          </td><td>  152779                     </td><td> 1.9                         </td><td>11.0                         </td><td>0.5530000                    </td><td>10.90000                     </td><td>121.00                       </td><td>  3.61                       </td><td> 0.04                        </td><td>11.93675                     </td><td> 5.291731                    </td></tr>\n",
       "\t<tr><th scope=row>482</th><td>Cameroon                     </td><td>2014                         </td><td>Developing                   </td><td>56.7                         </td><td>366                          </td><td>47                           </td><td> 0.01                        </td><td>  61.39264                   </td><td>87                           </td><td>  831                        </td><td>...                          </td><td> 2223994                     </td><td> 5.7                         </td><td> 5.7                         </td><td>0.5070000                    </td><td>10.40000                     </td><td> 32.49                       </td><td> 32.49                       </td><td>13.69                        </td><td>14.61482                     </td><td> 7.273191                    </td></tr>\n",
       "\t<tr><th scope=row>498</th><td>Canada                       </td><td>2014                         </td><td>Developing                   </td><td>82.0                         </td><td> 65                          </td><td> 2                           </td><td> 8.10                        </td><td> 102.19022                   </td><td>55                           </td><td>  418                        </td><td>...                          </td><td>35544564                     </td><td> 0.5                         </td><td> 0.5                         </td><td>0.9120000                    </td><td>15.90000                     </td><td>  0.25                       </td><td>  0.25                       </td><td> 0.01                        </td><td>17.38630                     </td><td> 6.299746                    </td></tr>\n",
       "\t<tr><th scope=row>514</th><td>CentralAfricanRepublic       </td><td>2014                         </td><td>Developing                   </td><td>58.0                         </td><td>437                          </td><td>15                           </td><td> 0.01                        </td><td>  53.43964                   </td><td>47                           </td><td>  210                        </td><td>...                          </td><td> 4515392                     </td><td> 8.4                         </td><td> 8.3                         </td><td>0.3450000                    </td><td> 7.10000                     </td><td> 68.89                       </td><td> 70.56                       </td><td>20.25                        </td><td>15.32300                     </td><td> 5.932596                    </td></tr>\n",
       "\t<tr><th scope=row>530</th><td>Chad                         </td><td>2014                         </td><td>Developing                   </td><td>52.6                         </td><td>362                          </td><td>46                           </td><td> 0.01                        </td><td>  11.30207                   </td><td>37                           </td><td> 1275                        </td><td>...                          </td><td>13569438                     </td><td> 8.7                         </td><td> 8.5                         </td><td>0.3900000                    </td><td> 7.30000                     </td><td> 72.25                       </td><td> 75.69                       </td><td> 8.41                        </td><td>16.42333                     </td><td> 4.836270                    </td></tr>\n",
       "\t<tr><th scope=row>...</th><td>...</td><td>...</td><td>...</td><td>...</td><td>...</td><td>...</td><td>...</td><td>...</td><td>...</td><td>...</td><td>   </td><td>...</td><td>...</td><td>...</td><td>...</td><td>...</td><td>...</td><td>...</td><td>...</td><td>...</td><td>...</td></tr>\n",
       "\t<tr><th scope=row>2379</th><td>Somalia                             </td><td>2014                                </td><td>Developing                          </td><td>54.3                                </td><td>321                                 </td><td>51                                  </td><td>0.010000                            </td><td>   0.0000000                        </td><td>42.00000                            </td><td>10229                               </td><td>...                                 </td><td>25139118                            </td><td> 6.700000                           </td><td> 6.500000                           </td><td>0.6500139                           </td><td>12.15833                            </td><td> 42.25000                           </td><td> 44.89000                           </td><td> 0.64                               </td><td>14.169801                           </td><td> 6.035222                           </td></tr>\n",
       "\t<tr><th scope=row>2395</th><td>SouthAfrica                         </td><td>2014                                </td><td>Developing                          </td><td>62.0                                </td><td>347                                 </td><td>42                                  </td><td>7.380000                            </td><td> 922.0507313                        </td><td> 8.00000                            </td><td>   66                               </td><td>...                                 </td><td>54146735                            </td><td> 4.900000                           </td><td> 5.900000                           </td><td>0.6600000                           </td><td>13.00000                            </td><td> 34.81000                           </td><td> 24.01000                           </td><td>13.69                               </td><td>17.807208                           </td><td> 8.776418                           </td></tr>\n",
       "\t<tr><th scope=row>2411</th><td>SouthSudan                          </td><td>2014                                </td><td>Developing                          </td><td>56.6                                </td><td>343                                 </td><td>26                                  </td><td>2.319267                            </td><td>  46.0744686                        </td><td>82.00671                            </td><td>  441                               </td><td>...                                 </td><td> 1153971                            </td><td> 5.236242                           </td><td> 5.420134                           </td><td>0.4210000                           </td><td> 4.90000                            </td><td> 47.93852                           </td><td> 45.23906                           </td><td>12.25                               </td><td>13.958720                           </td><td> 7.049135                           </td></tr>\n",
       "\t<tr><th scope=row>2443</th><td>SriLanka                            </td><td>2014                                </td><td>Developing                          </td><td>74.7                                </td><td>141                                 </td><td> 3                                  </td><td>2.370000                            </td><td>  42.7308283                        </td><td>99.00000                            </td><td> 1686                               </td><td>...                                 </td><td>    2771                            </td><td>15.200000                           </td><td>15.000000                           </td><td>0.7600000                           </td><td>14.00000                            </td><td>225.00000                           </td><td>231.04000                           </td><td> 0.01                               </td><td> 7.926964                           </td><td> 5.946859                           </td></tr>\n",
       "\t<tr><th scope=row>2459</th><td>Sudan                               </td><td>2014                                </td><td>Developing                          </td><td>63.8                                </td><td>229                                 </td><td>59                                  </td><td>0.010000                            </td><td> 253.6086508                        </td><td>94.00000                            </td><td>  676                               </td><td>...                                 </td><td>37737913                            </td><td> 5.236242                           </td><td> 5.420134                           </td><td>0.4850000                           </td><td> 7.20000                            </td><td> 47.93852                           </td><td> 45.23906                           </td><td> 0.09                               </td><td>17.446176                           </td><td> 7.685656                           </td></tr>\n",
       "\t<tr><th scope=row>2475</th><td>Suriname                            </td><td>2014                                </td><td>Developing                          </td><td>71.4                                </td><td>178                                 </td><td> 0                                  </td><td>6.320000                            </td><td>1132.4325170                        </td><td>85.00000                            </td><td>    0                               </td><td>...                                 </td><td>  547928                            </td><td> 3.500000                           </td><td> 3.500000                           </td><td>0.7220000                           </td><td>12.70000                            </td><td> 12.25000                           </td><td> 12.25000                           </td><td> 0.16                               </td><td>13.213899                           </td><td> 9.165810                           </td></tr>\n",
       "\t<tr><th scope=row>2491</th><td>Swaziland                           </td><td>2014                                </td><td>Developing                          </td><td>58.4                                </td><td>382                                 </td><td> 2                                  </td><td>0.010000                            </td><td> 574.3895102                        </td><td>98.00000                            </td><td>    0                               </td><td>...                                 </td><td>  129597                            </td><td> 4.300000                           </td><td> 4.300000                           </td><td>0.5410000                           </td><td>11.40000                            </td><td> 18.49000                           </td><td> 18.49000                           </td><td>53.29                               </td><td>11.772185                           </td><td> 8.150281                           </td></tr>\n",
       "\t<tr><th scope=row>2539</th><td>SyrianArabRepublic                  </td><td>2014                                </td><td>Developing                          </td><td>64.4                                </td><td>294                                 </td><td> 7                                  </td><td>0.010000                            </td><td>   0.0000000                        </td><td>47.00000                            </td><td>  594                               </td><td>...                                 </td><td>   19239                            </td><td> 6.300000                           </td><td> 6.100000                           </td><td>0.5750000                           </td><td> 9.00000                            </td><td> 37.21000                           </td><td> 39.69000                           </td><td> 0.01                               </td><td> 9.864695                           </td><td> 7.493295                           </td></tr>\n",
       "\t<tr><th scope=row>2555</th><td>Tajikistan                          </td><td>2014                                </td><td>Developing                          </td><td>69.6                                </td><td>162                                 </td><td>10                                  </td><td>0.010000                            </td><td>   7.8290086                        </td><td>97.00000                            </td><td>    0                               </td><td>...                                 </td><td> 8362745                            </td><td> 3.600000                           </td><td> 3.700000                           </td><td>0.6220000                           </td><td>11.30000                            </td><td> 13.69000                           </td><td> 12.96000                           </td><td> 0.04                               </td><td>15.939297                           </td><td> 4.740218                           </td></tr>\n",
       "\t<tr><th scope=row>2571</th><td>Thailand                            </td><td>2014                                </td><td>Developing                          </td><td>74.6                                </td><td>152                                 </td><td> 8                                  </td><td>6.410000                            </td><td> 789.0772949                        </td><td>99.00000                            </td><td>    0                               </td><td>...                                 </td><td>68416772                            </td><td> 7.800000                           </td><td> 7.800000                           </td><td>0.7370000                           </td><td>13.60000                            </td><td> 60.84000                           </td><td> 60.84000                           </td><td> 0.01                               </td><td>18.041129                           </td><td> 8.689775                           </td></tr>\n",
       "\t<tr><th scope=row>2587</th><td>TheformerYugoslavrepublicofMacedonia</td><td>2014                                </td><td>Developing                          </td><td>75.5                                </td><td> 12                                 </td><td> 0                                  </td><td>1.130000                            </td><td>   0.0000000                        </td><td>97.00000                            </td><td>  116                               </td><td>...                                 </td><td>25139118                            </td><td> 2.200000                           </td><td> 2.200000                           </td><td>0.7430000                           </td><td>12.90000                            </td><td>  4.84000                           </td><td>  4.84000                           </td><td> 0.01                               </td><td>14.169801                           </td><td> 7.493295                           </td></tr>\n",
       "\t<tr><th scope=row>2603</th><td>Timor-Leste                         </td><td>2014                                </td><td>Developing                          </td><td>68.0                                </td><td>155                                 </td><td> 2                                  </td><td>0.010000                            </td><td>  28.1457850                        </td><td>77.00000                            </td><td>   47                               </td><td>...                                 </td><td> 1212814                            </td><td> 1.900000                           </td><td>11.100000                           </td><td>0.6120000                           </td><td>12.50000                            </td><td>123.21000                           </td><td>  3.61000                           </td><td> 0.01                               </td><td>14.008454                           </td><td> 7.050570                           </td></tr>\n",
       "\t<tr><th scope=row>2619</th><td>Togo                                </td><td>2014                                </td><td>Developing                          </td><td>59.7                                </td><td>285                                 </td><td>13                                  </td><td>0.010000                            </td><td>   4.8773501                        </td><td>87.00000                            </td><td>  577                               </td><td>...                                 </td><td> 7228915                            </td><td> 6.600000                           </td><td> 6.400000                           </td><td>0.4750000                           </td><td>12.00000                            </td><td> 40.96000                           </td><td> 43.56000                           </td><td> 1.00                               </td><td>15.793600                           </td><td> 4.129259                           </td></tr>\n",
       "\t<tr><th scope=row>2635</th><td>Tonga                               </td><td>2014                                </td><td>Developing                          </td><td>73.3                                </td><td>135                                 </td><td> 0                                  </td><td>0.010000                            </td><td> 565.9672173                        </td><td> 8.00000                            </td><td>    0                               </td><td>...                                 </td><td>   15782                            </td><td> 0.100000                           </td><td> 0.100000                           </td><td>0.7160000                           </td><td>14.30000                            </td><td>  0.01000                           </td><td>  0.01000                           </td><td> 0.01                               </td><td> 9.666625                           </td><td> 8.341017                           </td></tr>\n",
       "\t<tr><th scope=row>2651</th><td>TrinidadandTobago                   </td><td>2014                                </td><td>Developing                          </td><td>71.1                                </td><td>171                                 </td><td> 0                                  </td><td>6.940000                            </td><td>1578.8723390                        </td><td>92.00000                            </td><td>    0                               </td><td>...                                 </td><td> 1354493                            </td><td> 5.800000                           </td><td> 6.000000                           </td><td>0.7780000                           </td><td>12.70000                            </td><td> 36.00000                           </td><td> 33.64000                           </td><td> 0.09                               </td><td>14.118938                           </td><td> 9.869167                           </td></tr>\n",
       "\t<tr><th scope=row>2667</th><td>Tunisia                             </td><td>2014                                </td><td>Developing                          </td><td>75.1                                </td><td> 12                                 </td><td> 3                                  </td><td>1.390000                            </td><td> 604.8701316                        </td><td>98.00000                            </td><td>   15                               </td><td>...                                 </td><td> 1114398                            </td><td> 6.500000                           </td><td> 6.400000                           </td><td>0.7220000                           </td><td>14.70000                            </td><td> 40.96000                           </td><td> 42.25000                           </td><td> 0.01                               </td><td>13.923825                           </td><td> 8.359763                           </td></tr>\n",
       "\t<tr><th scope=row>2683</th><td>Turkey                              </td><td>2014                                </td><td>Developing                          </td><td>75.5                                </td><td> 17                                 </td><td>16                                  </td><td>1.450000                            </td><td> 181.9083783                        </td><td>96.00000                            </td><td>  565                               </td><td>...                                 </td><td>  773628                            </td><td> 4.900000                           </td><td> 4.700000                           </td><td>0.7590000                           </td><td>14.50000                            </td><td> 22.09000                           </td><td> 24.01000                           </td><td> 0.01                               </td><td>13.558846                           </td><td> 9.403208                           </td></tr>\n",
       "\t<tr><th scope=row>2699</th><td>Turkmenistan                        </td><td>2014                                </td><td>Developing                          </td><td>66.0                                </td><td>217                                 </td><td> 7                                  </td><td>2.900000                            </td><td> 691.1333535                        </td><td>97.00000                            </td><td>    0                               </td><td>...                                 </td><td> 5466241                            </td><td> 3.300000                           </td><td> 3.300000                           </td><td>0.6830000                           </td><td>10.80000                            </td><td> 10.89000                           </td><td> 10.89000                           </td><td> 0.01                               </td><td>15.514102                           </td><td> 8.982481                           </td></tr>\n",
       "\t<tr><th scope=row>2716</th><td>Uganda                              </td><td>2014                                </td><td>Developing                          </td><td>61.5                                </td><td> 38                                 </td><td>68                                  </td><td>0.010000                            </td><td>  14.1677016                        </td><td>78.00000                            </td><td>  314                               </td><td>...                                 </td><td>38833338                            </td><td> 5.700000                           </td><td> 5.600000                           </td><td>0.4830000                           </td><td>10.00000                            </td><td> 31.36000                           </td><td> 32.49000                           </td><td>10.24                               </td><td>17.474790                           </td><td> 6.578101                           </td></tr>\n",
       "\t<tr><th scope=row>2732</th><td>Ukraine                             </td><td>2014                                </td><td>Developing                          </td><td>78.0                                </td><td> 23                                 </td><td> 4                                  </td><td>8.060000                            </td><td>   5.6638493                        </td><td>22.00000                            </td><td>    0                               </td><td>...                                 </td><td>45271947                            </td><td> 2.300000                           </td><td> 2.400000                           </td><td>0.7460000                           </td><td>15.20000                            </td><td>  5.76000                           </td><td>  5.29000                           </td><td> 0.04                               </td><td>17.628198                           </td><td> 5.751487                           </td></tr>\n",
       "\t<tr><th scope=row>2748</th><td>UnitedArabEmirates                  </td><td>2014                                </td><td>Developing                          </td><td>76.9                                </td><td> 77                                 </td><td> 1                                  </td><td>1.910000                            </td><td>3862.6827100                        </td><td>99.00000                            </td><td>  344                               </td><td>...                                 </td><td>25139118                            </td><td> 5.200000                           </td><td> 5.000000                           </td><td>0.8320000                           </td><td>13.30000                            </td><td> 25.00000                           </td><td> 27.04000                           </td><td> 0.01                               </td><td>14.169801                           </td><td>10.702114                           </td></tr>\n",
       "\t<tr><th scope=row>2780</th><td>UnitedRepublicofTanzania            </td><td>2014                                </td><td>Developing                          </td><td>67.0                                </td><td> 34                                 </td><td>86                                  </td><td>0.010000                            </td><td>   0.0000000                        </td><td>97.00000                            </td><td>   88                               </td><td>...                                 </td><td>25139118                            </td><td> 6.800000                           </td><td> 6.600000                           </td><td>0.6500139                           </td><td>12.15833                            </td><td> 43.56000                           </td><td> 46.24000                           </td><td> 1.96                               </td><td>14.169801                           </td><td> 7.493295                           </td></tr>\n",
       "\t<tr><th scope=row>2812</th><td>Uruguay                             </td><td>2014                                </td><td>Developing                          </td><td>76.8                                </td><td>117                                 </td><td> 0                                  </td><td>6.030000                            </td><td> 463.6397821                        </td><td>95.00000                            </td><td>    0                               </td><td>...                                 </td><td> 3419546                            </td><td> 1.500000                           </td><td> 1.400000                           </td><td>0.7910000                           </td><td>15.50000                            </td><td>  1.96000                           </td><td>  2.25000                           </td><td> 0.01                               </td><td>15.045018                           </td><td> 9.725431                           </td></tr>\n",
       "\t<tr><th scope=row>2828</th><td>Uzbekistan                          </td><td>2014                                </td><td>Developing                          </td><td>69.2                                </td><td>184                                 </td><td>16                                  </td><td>0.010000                            </td><td>   0.4428024                        </td><td>99.00000                            </td><td>    8                               </td><td>...                                 </td><td>   37577                            </td><td> 3.000000                           </td><td> 3.100000                           </td><td>0.6900000                           </td><td>12.10000                            </td><td>  9.61000                           </td><td>  9.00000                           </td><td> 0.01                               </td><td>10.534147                           </td><td> 3.236653                           </td></tr>\n",
       "\t<tr><th scope=row>2844</th><td>Vanuatu                             </td><td>2014                                </td><td>Developing                          </td><td>71.7                                </td><td>134                                 </td><td> 0                                  </td><td>0.010000                            </td><td> 564.8167043                        </td><td>64.00000                            </td><td>   10                               </td><td>...                                 </td><td>   25885                            </td><td> 1.500000                           </td><td> 1.400000                           </td><td>0.5960000                           </td><td>10.80000                            </td><td>  1.96000                           </td><td>  2.25000                           </td><td> 0.01                               </td><td>10.161419                           </td><td> 8.054639                           </td></tr>\n",
       "\t<tr><th scope=row>2860</th><td>Venezuela(BolivarianRepublicof)     </td><td>2014                                </td><td>Developing                          </td><td>73.9                                </td><td>158                                 </td><td> 9                                  </td><td>6.470000                            </td><td>   0.0000000                        </td><td>78.00000                            </td><td>    0                               </td><td>...                                 </td><td>25139118                            </td><td> 1.600000                           </td><td> 1.500000                           </td><td>0.7710000                           </td><td>14.20000                            </td><td>  2.25000                           </td><td>  2.56000                           </td><td> 0.01                               </td><td>14.169801                           </td><td> 7.493295                           </td></tr>\n",
       "\t<tr><th scope=row>2876</th><td>VietNam                             </td><td>2014                                </td><td>Developing                          </td><td>75.9                                </td><td>128                                 </td><td>28                                  </td><td>4.090000                            </td><td>   0.0000000                        </td><td>95.00000                            </td><td>15033                               </td><td>...                                 </td><td>25139118                            </td><td>14.300000                           </td><td>14.700000                           </td><td>0.6750000                           </td><td>12.50000                            </td><td>216.09000                           </td><td>204.49000                           </td><td> 0.01                               </td><td>14.169801                           </td><td> 7.493295                           </td></tr>\n",
       "\t<tr><th scope=row>2892</th><td>Yemen                               </td><td>2014                                </td><td>Developing                          </td><td>65.4                                </td><td>228                                 </td><td>37                                  </td><td>0.010000                            </td><td>   0.0000000                        </td><td>73.00000                            </td><td>  815                               </td><td>...                                 </td><td>25139118                            </td><td>13.700000                           </td><td>13.500000                           </td><td>0.5000000                           </td><td> 9.00000                            </td><td>182.25000                           </td><td>187.69000                           </td><td> 0.01                               </td><td>14.169801                           </td><td> 7.493295                           </td></tr>\n",
       "\t<tr><th scope=row>2908</th><td>Zambia                              </td><td>2014                                </td><td>Developing                          </td><td>61.1                                </td><td>314                                 </td><td>28                                  </td><td>0.010000                            </td><td> 196.6675768                        </td><td>86.00000                            </td><td>    9                               </td><td>...                                 </td><td> 1562974                            </td><td> 6.300000                           </td><td> 6.200000                           </td><td>0.5700000                           </td><td>12.50000                            </td><td> 38.44000                           </td><td> 39.69000                           </td><td>18.49                               </td><td>14.262101                           </td><td> 7.460998                           </td></tr>\n",
       "\t<tr><th scope=row>2924</th><td>Zimbabwe                            </td><td>2014                                </td><td>Developing                          </td><td>59.2                                </td><td>371                                 </td><td>23                                  </td><td>6.500000                            </td><td>  10.8225952                        </td><td>91.00000                            </td><td>    0                               </td><td>...                                 </td><td>15411675                            </td><td> 5.900000                           </td><td> 5.700000                           </td><td>0.4980000                           </td><td>10.30000                            </td><td> 32.49000                           </td><td> 34.81000                           </td><td>39.69                               </td><td>16.550636                           </td><td> 4.847917                           </td></tr>\n",
       "</tbody>\n",
       "</table>\n"
      ],
      "text/latex": [
       "\\begin{tabular}{r|lllllllllllllllllllllllllll}\n",
       "  & Country & Year & Status & Lifeexpectancy & AdultMortality & infantdeaths & Alcohol & percentageexpenditure & HepatitisB & Measles & ... & Population & thinness1.19years & thinness5.9years & Incomecompositionofresources & Schooling & thinness5.9years2 & thinness1.19years2 & HIV.AIDS2 & log\\_Population & log\\_GDP\\\\\n",
       "\\hline\n",
       "\t2 & Afghanistan                   & 2014                          & Developing                    & 59.9                          & 271                           & 64                            &  0.01                         &   73.52358                    & 62                            &   492                         & ...                           &   327582                      & 17.5                          & 17.5                          & 0.4760000                     & 10.00000                      & 306.25                        & 306.25                        &  0.01                         & 12.69949                      &  6.417870                    \\\\\n",
       "\t18 & Albania                       & 2014                          & Developing                    & 77.5                          &   8                           &  0                            &  4.51                         &  428.74907                    & 98                            &     0                         & ...                           &   288914                      &  1.2                          &  1.3                          & 0.7610000                     & 14.20000                      &   1.69                        &   1.44                        &  0.01                         & 12.57388                      &  8.428529                    \\\\\n",
       "\t34 & Algeria                       & 2014                          & Developing                    & 75.4                          &  11                           & 21                            &  0.01                         &   54.23732                    & 95                            &     0                         & ...                           & 39113313                      &  6.0                          &  5.8                          & 0.7410000                     & 14.40000                      &  33.64                        &  36.00                        &  0.01                         & 17.48197                      &  6.306005                    \\\\\n",
       "\t50 & Angola                        & 2014                          & Developing                    & 51.7                          & 348                           & 67                            &  8.33                         &   23.96561                    & 64                            & 11699                         & ...                           &  2692466                      &  8.5                          &  8.3                          & 0.5270000                     & 11.40000                      &  68.89                        &  72.25                        &  4.00                         & 14.80597                      &  6.172352                    \\\\\n",
       "\t66 & AntiguaandBarbuda             & 2014                          & Developing                    & 76.2                          & 131                           &  0                            &  8.56                         & 2422.99977                    & 99                            &     0                         & ...                           & 25139118                      &  3.3                          &  3.3                          & 0.7820000                     & 13.90000                      &  10.89                        &  10.89                        &  0.04                         & 14.16980                      &  9.464075                    \\\\\n",
       "\t82 & Argentina                     & 2014                          & Developing                    & 76.2                          & 118                           &  8                            &  7.93                         &  847.37175                    & 94                            &     1                         & ...                           & 42981515                      &  1.0                          &  0.9                          & 0.8250000                     & 17.30000                      &   0.81                        &   1.00                        &  0.01                         & 17.57628                      &  9.412894                    \\\\\n",
       "\t98 & Armenia                       & 2014                          & Developing                    & 74.6                          &  12                           &  1                            &  3.91                         &  295.60871                    & 93                            &    13                         & ...                           &    29622                      &  2.1                          &  2.1                          & 0.7390000                     & 12.70000                      &   4.41                        &   4.41                        &  0.01                         & 10.29627                      &  8.292727                    \\\\\n",
       "\t146 & Azerbaijan                    & 2014                          & Developing                    & 72.5                          & 119                           &  5                            &  0.01                         &  306.18243                    & 94                            &     0                         & ...                           &   953579                      &  2.8                          &  2.9                          & 0.7520000                     & 12.20000                      &   8.41                        &   7.84                        &  0.01                         & 13.76798                      &  8.973516                    \\\\\n",
       "\t162 & Bahamas                       & 2014                          & Developing                    & 75.4                          &  16                           &  0                            &  9.45                         &    0.00000                    & 96                            &     0                         & ...                           & 25139118                      &  2.5                          &  2.5                          & 0.7890000                     & 12.60000                      &   6.25                        &   6.25                        &  0.01                         & 14.16980                      &  7.493295                    \\\\\n",
       "\t178 & Bahrain                       & 2014                          & Developing                    & 76.8                          &   7                           &  0                            &  1.57                         &  367.25567                    & 98                            &    46                         & ...                           & 25139118                      &  6.1                          &  6.0                          & 0.8200000                     & 14.50000                      &  36.00                        &  37.21                        &  0.01                         & 14.16980                      & 10.125966                    \\\\\n",
       "\t194 & Bangladesh                    & 2014                          & Developing                    & 71.4                          & 132                           & 98                            &  0.01                         &   10.44640                    & 97                            &   289                         & ...                           & 15945279                      & 18.1                          & 18.6                          & 0.5700000                     & 10.00000                      & 345.96                        & 327.61                        &  0.01                         & 16.58467                      &  5.218004                    \\\\\n",
       "\t210 & Barbados                      & 2014                          & Developing                    & 75.4                          &   1                           &  0                            &  8.82                         &  294.90566                    & 94                            &     0                         & ...                           & 25139118                      &  3.8                          &  3.7                          & 0.7930000                     & 15.30000                      &  13.69                        &  14.44                        &  0.01                         & 14.16980                      &  9.639501                    \\\\\n",
       "\t226 & Belarus                       & 2014                          & Developing                    & 72.0                          & 199                           &  0                            & 13.94                         & 1147.11140                    & 97                            &    64                         & ...                           &  9474511                      &  1.9                          &  2.0                          & 0.7960000                     & 15.70000                      &   4.00                        &   3.61                        &  0.01                         & 16.06412                      &  9.026229                    \\\\\n",
       "\t258 & Belize                        & 2014                          & Developing                    & 70.0                          & 177                           &  0                            &  6.58                         &  670.09209                    & 95                            &     0                         & ...                           &   351694                      &  3.4                          &  3.4                          & 0.7050000                     & 12.80000                      &  11.56                        &  11.56                        &  0.04                         & 12.77052                      &  8.487192                    \\\\\n",
       "\t274 & Benin                         & 2014                          & Developing                    & 59.7                          & 252                           & 25                            &  0.01                         &   90.12207                    & 78                            &   786                         & ...                           &  1286712                      &  7.1                          &  6.9                          & 0.4750000                     & 10.70000                      &  47.61                        &  50.41                        &  1.21                         & 14.06760                      &  6.849794                    \\\\\n",
       "\t290 & Bhutan                        & 2014                          & Developing                    & 69.4                          & 216                           &  0                            &  0.01                         &  209.39213                    & 99                            &     0                         & ...                           &   776448                      & 15.7                          & 16.2                          & 0.5960000                     & 12.50000                      & 262.44                        & 246.49                        &  0.25                         & 13.56248                      &  7.833123                    \\\\\n",
       "\t306 & Bolivia(PlurinationalStateof) & 2014                          & Developing                    & 74.0                          & 189                           &  8                            &  3.62                         &    0.00000                    & 98                            &     0                         & ...                           & 25139118                      &  1.2                          &  1.1                          & 0.6660000                     & 13.80000                      &   1.21                        &   1.44                        &  0.01                         & 14.16980                      &  7.493295                    \\\\\n",
       "\t322 & BosniaandHerzegovina          & 2014                          & Developing                    & 77.2                          &  89                           &  0                            &  4.03                         &  732.86625                    & 89                            &  3000                         & ...                           &    35662                      &  2.4                          &  2.4                          & 0.7420000                     & 14.20000                      &   5.76                        &   5.76                        &  0.01                         & 10.48184                      &  8.555250                    \\\\\n",
       "\t338 & Botswana                      & 2014                          & Developing                    & 65.1                          & 268                           &  2                            &  0.01                         &  662.80219                    & 95                            &     1                         & ...                           &  2168573                      &  6.7                          &  6.4                          & 0.6970000                     & 12.60000                      &  40.96                        &  44.89                        &  5.29                         & 14.58958                      &  8.922360                    \\\\\n",
       "\t354 & Brazil                        & 2014                          & Developing                    & 74.8                          & 144                           & 44                            &  7.32                         &   83.16465                    & 96                            &   876                         & ...                           & 24213133                      &  2.7                          &  2.7                          & 0.7470000                     & 15.20000                      &   7.29                        &   7.29                        &  0.01                         & 17.00241                      &  7.112016                    \\\\\n",
       "\t370 & BruneiDarussalam              & 2014                          & Developing                    & 77.6                          &   8                           &  0                            &  0.01                         &  269.14328                    & 99                            &     1                         & ...                           & 25139118                      &  5.7                          &  5.2                          & 0.8630000                     & 15.00000                      &  27.04                        &  32.49                        &  0.01                         & 14.16980                      &  8.333238                    \\\\\n",
       "\t402 & BurkinaFaso                   & 2014                          & Developing                    & 59.3                          & 268                           & 39                            &  0.01                         &    8.38634                    & 91                            &   343                         & ...                           & 17585977                      &  8.2                          &  7.7                          & 0.3980000                     &  7.70000                      &  59.29                        &  67.24                        &  0.36                         & 16.68261                      &  4.319438                    \\\\\n",
       "\t418 & Burundi                       & 2014                          & Developing                    & 59.1                          & 297                           & 22                            &  0.01                         &   41.25159                    & 95                            &     0                         & ...                           &   989179                      &  7.4                          &  7.3                          & 0.4040000                     & 10.60000                      &  53.29                        &  54.76                        &  0.49                         & 13.80463                      &  5.745401                    \\\\\n",
       "\t434 & CÃ´ted'Ivoire                 & 2014                          & Developing                    & 52.8                          &  47                           & 58                            &  0.01                         &    0.00000                    & 76                            &    50                         & ...                           & 25139118                      &  5.6                          &  5.6                          & 0.6500139                     & 12.15833                      &  31.36                        &  31.36                        &  4.00                         & 14.16980                      &  7.493295                    \\\\\n",
       "\t450 & CaboVerde                     & 2014                          & Developing                    & 73.0                          & 117                           &  0                            &  0.01                         &  414.02424                    & 97                            &     0                         & ...                           &   526437                      &  6.8                          &  6.7                          & 0.6430000                     & 13.50000                      &  44.89                        &  46.24                        &  0.04                         & 13.17389                      &  8.168945                    \\\\\n",
       "\t466 & Cambodia                      & 2014                          & Developing                    & 68.3                          & 179                           & 11                            &  0.01                         &   12.17952                    & 88                            &     0                         & ...                           &   152779                      &  1.9                          & 11.0                          & 0.5530000                     & 10.90000                      & 121.00                        &   3.61                        &  0.04                         & 11.93675                      &  5.291731                    \\\\\n",
       "\t482 & Cameroon                      & 2014                          & Developing                    & 56.7                          & 366                           & 47                            &  0.01                         &   61.39264                    & 87                            &   831                         & ...                           &  2223994                      &  5.7                          &  5.7                          & 0.5070000                     & 10.40000                      &  32.49                        &  32.49                        & 13.69                         & 14.61482                      &  7.273191                    \\\\\n",
       "\t498 & Canada                        & 2014                          & Developing                    & 82.0                          &  65                           &  2                            &  8.10                         &  102.19022                    & 55                            &   418                         & ...                           & 35544564                      &  0.5                          &  0.5                          & 0.9120000                     & 15.90000                      &   0.25                        &   0.25                        &  0.01                         & 17.38630                      &  6.299746                    \\\\\n",
       "\t514 & CentralAfricanRepublic        & 2014                          & Developing                    & 58.0                          & 437                           & 15                            &  0.01                         &   53.43964                    & 47                            &   210                         & ...                           &  4515392                      &  8.4                          &  8.3                          & 0.3450000                     &  7.10000                      &  68.89                        &  70.56                        & 20.25                         & 15.32300                      &  5.932596                    \\\\\n",
       "\t530 & Chad                          & 2014                          & Developing                    & 52.6                          & 362                           & 46                            &  0.01                         &   11.30207                    & 37                            &  1275                         & ...                           & 13569438                      &  8.7                          &  8.5                          & 0.3900000                     &  7.30000                      &  72.25                        &  75.69                        &  8.41                         & 16.42333                      &  4.836270                    \\\\\n",
       "\t... & ... & ... & ... & ... & ... & ... & ... & ... & ... & ... &     & ... & ... & ... & ... & ... & ... & ... & ... & ... & ...\\\\\n",
       "\t2379 & Somalia                              & 2014                                 & Developing                           & 54.3                                 & 321                                  & 51                                   & 0.010000                             &    0.0000000                         & 42.00000                             & 10229                                & ...                                  & 25139118                             &  6.700000                            &  6.500000                            & 0.6500139                            & 12.15833                             &  42.25000                            &  44.89000                            &  0.64                                & 14.169801                            &  6.035222                           \\\\\n",
       "\t2395 & SouthAfrica                          & 2014                                 & Developing                           & 62.0                                 & 347                                  & 42                                   & 7.380000                             &  922.0507313                         &  8.00000                             &    66                                & ...                                  & 54146735                             &  4.900000                            &  5.900000                            & 0.6600000                            & 13.00000                             &  34.81000                            &  24.01000                            & 13.69                                & 17.807208                            &  8.776418                           \\\\\n",
       "\t2411 & SouthSudan                           & 2014                                 & Developing                           & 56.6                                 & 343                                  & 26                                   & 2.319267                             &   46.0744686                         & 82.00671                             &   441                                & ...                                  &  1153971                             &  5.236242                            &  5.420134                            & 0.4210000                            &  4.90000                             &  47.93852                            &  45.23906                            & 12.25                                & 13.958720                            &  7.049135                           \\\\\n",
       "\t2443 & SriLanka                             & 2014                                 & Developing                           & 74.7                                 & 141                                  &  3                                   & 2.370000                             &   42.7308283                         & 99.00000                             &  1686                                & ...                                  &     2771                             & 15.200000                            & 15.000000                            & 0.7600000                            & 14.00000                             & 225.00000                            & 231.04000                            &  0.01                                &  7.926964                            &  5.946859                           \\\\\n",
       "\t2459 & Sudan                                & 2014                                 & Developing                           & 63.8                                 & 229                                  & 59                                   & 0.010000                             &  253.6086508                         & 94.00000                             &   676                                & ...                                  & 37737913                             &  5.236242                            &  5.420134                            & 0.4850000                            &  7.20000                             &  47.93852                            &  45.23906                            &  0.09                                & 17.446176                            &  7.685656                           \\\\\n",
       "\t2475 & Suriname                             & 2014                                 & Developing                           & 71.4                                 & 178                                  &  0                                   & 6.320000                             & 1132.4325170                         & 85.00000                             &     0                                & ...                                  &   547928                             &  3.500000                            &  3.500000                            & 0.7220000                            & 12.70000                             &  12.25000                            &  12.25000                            &  0.16                                & 13.213899                            &  9.165810                           \\\\\n",
       "\t2491 & Swaziland                            & 2014                                 & Developing                           & 58.4                                 & 382                                  &  2                                   & 0.010000                             &  574.3895102                         & 98.00000                             &     0                                & ...                                  &   129597                             &  4.300000                            &  4.300000                            & 0.5410000                            & 11.40000                             &  18.49000                            &  18.49000                            & 53.29                                & 11.772185                            &  8.150281                           \\\\\n",
       "\t2539 & SyrianArabRepublic                   & 2014                                 & Developing                           & 64.4                                 & 294                                  &  7                                   & 0.010000                             &    0.0000000                         & 47.00000                             &   594                                & ...                                  &    19239                             &  6.300000                            &  6.100000                            & 0.5750000                            &  9.00000                             &  37.21000                            &  39.69000                            &  0.01                                &  9.864695                            &  7.493295                           \\\\\n",
       "\t2555 & Tajikistan                           & 2014                                 & Developing                           & 69.6                                 & 162                                  & 10                                   & 0.010000                             &    7.8290086                         & 97.00000                             &     0                                & ...                                  &  8362745                             &  3.600000                            &  3.700000                            & 0.6220000                            & 11.30000                             &  13.69000                            &  12.96000                            &  0.04                                & 15.939297                            &  4.740218                           \\\\\n",
       "\t2571 & Thailand                             & 2014                                 & Developing                           & 74.6                                 & 152                                  &  8                                   & 6.410000                             &  789.0772949                         & 99.00000                             &     0                                & ...                                  & 68416772                             &  7.800000                            &  7.800000                            & 0.7370000                            & 13.60000                             &  60.84000                            &  60.84000                            &  0.01                                & 18.041129                            &  8.689775                           \\\\\n",
       "\t2587 & TheformerYugoslavrepublicofMacedonia & 2014                                 & Developing                           & 75.5                                 &  12                                  &  0                                   & 1.130000                             &    0.0000000                         & 97.00000                             &   116                                & ...                                  & 25139118                             &  2.200000                            &  2.200000                            & 0.7430000                            & 12.90000                             &   4.84000                            &   4.84000                            &  0.01                                & 14.169801                            &  7.493295                           \\\\\n",
       "\t2603 & Timor-Leste                          & 2014                                 & Developing                           & 68.0                                 & 155                                  &  2                                   & 0.010000                             &   28.1457850                         & 77.00000                             &    47                                & ...                                  &  1212814                             &  1.900000                            & 11.100000                            & 0.6120000                            & 12.50000                             & 123.21000                            &   3.61000                            &  0.01                                & 14.008454                            &  7.050570                           \\\\\n",
       "\t2619 & Togo                                 & 2014                                 & Developing                           & 59.7                                 & 285                                  & 13                                   & 0.010000                             &    4.8773501                         & 87.00000                             &   577                                & ...                                  &  7228915                             &  6.600000                            &  6.400000                            & 0.4750000                            & 12.00000                             &  40.96000                            &  43.56000                            &  1.00                                & 15.793600                            &  4.129259                           \\\\\n",
       "\t2635 & Tonga                                & 2014                                 & Developing                           & 73.3                                 & 135                                  &  0                                   & 0.010000                             &  565.9672173                         &  8.00000                             &     0                                & ...                                  &    15782                             &  0.100000                            &  0.100000                            & 0.7160000                            & 14.30000                             &   0.01000                            &   0.01000                            &  0.01                                &  9.666625                            &  8.341017                           \\\\\n",
       "\t2651 & TrinidadandTobago                    & 2014                                 & Developing                           & 71.1                                 & 171                                  &  0                                   & 6.940000                             & 1578.8723390                         & 92.00000                             &     0                                & ...                                  &  1354493                             &  5.800000                            &  6.000000                            & 0.7780000                            & 12.70000                             &  36.00000                            &  33.64000                            &  0.09                                & 14.118938                            &  9.869167                           \\\\\n",
       "\t2667 & Tunisia                              & 2014                                 & Developing                           & 75.1                                 &  12                                  &  3                                   & 1.390000                             &  604.8701316                         & 98.00000                             &    15                                & ...                                  &  1114398                             &  6.500000                            &  6.400000                            & 0.7220000                            & 14.70000                             &  40.96000                            &  42.25000                            &  0.01                                & 13.923825                            &  8.359763                           \\\\\n",
       "\t2683 & Turkey                               & 2014                                 & Developing                           & 75.5                                 &  17                                  & 16                                   & 1.450000                             &  181.9083783                         & 96.00000                             &   565                                & ...                                  &   773628                             &  4.900000                            &  4.700000                            & 0.7590000                            & 14.50000                             &  22.09000                            &  24.01000                            &  0.01                                & 13.558846                            &  9.403208                           \\\\\n",
       "\t2699 & Turkmenistan                         & 2014                                 & Developing                           & 66.0                                 & 217                                  &  7                                   & 2.900000                             &  691.1333535                         & 97.00000                             &     0                                & ...                                  &  5466241                             &  3.300000                            &  3.300000                            & 0.6830000                            & 10.80000                             &  10.89000                            &  10.89000                            &  0.01                                & 15.514102                            &  8.982481                           \\\\\n",
       "\t2716 & Uganda                               & 2014                                 & Developing                           & 61.5                                 &  38                                  & 68                                   & 0.010000                             &   14.1677016                         & 78.00000                             &   314                                & ...                                  & 38833338                             &  5.700000                            &  5.600000                            & 0.4830000                            & 10.00000                             &  31.36000                            &  32.49000                            & 10.24                                & 17.474790                            &  6.578101                           \\\\\n",
       "\t2732 & Ukraine                              & 2014                                 & Developing                           & 78.0                                 &  23                                  &  4                                   & 8.060000                             &    5.6638493                         & 22.00000                             &     0                                & ...                                  & 45271947                             &  2.300000                            &  2.400000                            & 0.7460000                            & 15.20000                             &   5.76000                            &   5.29000                            &  0.04                                & 17.628198                            &  5.751487                           \\\\\n",
       "\t2748 & UnitedArabEmirates                   & 2014                                 & Developing                           & 76.9                                 &  77                                  &  1                                   & 1.910000                             & 3862.6827100                         & 99.00000                             &   344                                & ...                                  & 25139118                             &  5.200000                            &  5.000000                            & 0.8320000                            & 13.30000                             &  25.00000                            &  27.04000                            &  0.01                                & 14.169801                            & 10.702114                           \\\\\n",
       "\t2780 & UnitedRepublicofTanzania             & 2014                                 & Developing                           & 67.0                                 &  34                                  & 86                                   & 0.010000                             &    0.0000000                         & 97.00000                             &    88                                & ...                                  & 25139118                             &  6.800000                            &  6.600000                            & 0.6500139                            & 12.15833                             &  43.56000                            &  46.24000                            &  1.96                                & 14.169801                            &  7.493295                           \\\\\n",
       "\t2812 & Uruguay                              & 2014                                 & Developing                           & 76.8                                 & 117                                  &  0                                   & 6.030000                             &  463.6397821                         & 95.00000                             &     0                                & ...                                  &  3419546                             &  1.500000                            &  1.400000                            & 0.7910000                            & 15.50000                             &   1.96000                            &   2.25000                            &  0.01                                & 15.045018                            &  9.725431                           \\\\\n",
       "\t2828 & Uzbekistan                           & 2014                                 & Developing                           & 69.2                                 & 184                                  & 16                                   & 0.010000                             &    0.4428024                         & 99.00000                             &     8                                & ...                                  &    37577                             &  3.000000                            &  3.100000                            & 0.6900000                            & 12.10000                             &   9.61000                            &   9.00000                            &  0.01                                & 10.534147                            &  3.236653                           \\\\\n",
       "\t2844 & Vanuatu                              & 2014                                 & Developing                           & 71.7                                 & 134                                  &  0                                   & 0.010000                             &  564.8167043                         & 64.00000                             &    10                                & ...                                  &    25885                             &  1.500000                            &  1.400000                            & 0.5960000                            & 10.80000                             &   1.96000                            &   2.25000                            &  0.01                                & 10.161419                            &  8.054639                           \\\\\n",
       "\t2860 & Venezuela(BolivarianRepublicof)      & 2014                                 & Developing                           & 73.9                                 & 158                                  &  9                                   & 6.470000                             &    0.0000000                         & 78.00000                             &     0                                & ...                                  & 25139118                             &  1.600000                            &  1.500000                            & 0.7710000                            & 14.20000                             &   2.25000                            &   2.56000                            &  0.01                                & 14.169801                            &  7.493295                           \\\\\n",
       "\t2876 & VietNam                              & 2014                                 & Developing                           & 75.9                                 & 128                                  & 28                                   & 4.090000                             &    0.0000000                         & 95.00000                             & 15033                                & ...                                  & 25139118                             & 14.300000                            & 14.700000                            & 0.6750000                            & 12.50000                             & 216.09000                            & 204.49000                            &  0.01                                & 14.169801                            &  7.493295                           \\\\\n",
       "\t2892 & Yemen                                & 2014                                 & Developing                           & 65.4                                 & 228                                  & 37                                   & 0.010000                             &    0.0000000                         & 73.00000                             &   815                                & ...                                  & 25139118                             & 13.700000                            & 13.500000                            & 0.5000000                            &  9.00000                             & 182.25000                            & 187.69000                            &  0.01                                & 14.169801                            &  7.493295                           \\\\\n",
       "\t2908 & Zambia                               & 2014                                 & Developing                           & 61.1                                 & 314                                  & 28                                   & 0.010000                             &  196.6675768                         & 86.00000                             &     9                                & ...                                  &  1562974                             &  6.300000                            &  6.200000                            & 0.5700000                            & 12.50000                             &  38.44000                            &  39.69000                            & 18.49                                & 14.262101                            &  7.460998                           \\\\\n",
       "\t2924 & Zimbabwe                             & 2014                                 & Developing                           & 59.2                                 & 371                                  & 23                                   & 6.500000                             &   10.8225952                         & 91.00000                             &     0                                & ...                                  & 15411675                             &  5.900000                            &  5.700000                            & 0.4980000                            & 10.30000                             &  32.49000                            &  34.81000                            & 39.69                                & 16.550636                            &  4.847917                           \\\\\n",
       "\\end{tabular}\n"
      ],
      "text/markdown": [
       "\n",
       "| <!--/--> | Country | Year | Status | Lifeexpectancy | AdultMortality | infantdeaths | Alcohol | percentageexpenditure | HepatitisB | Measles | ... | Population | thinness1.19years | thinness5.9years | Incomecompositionofresources | Schooling | thinness5.9years2 | thinness1.19years2 | HIV.AIDS2 | log_Population | log_GDP |\n",
       "|---|---|---|---|---|---|---|---|---|---|---|---|---|---|---|---|---|---|---|---|---|---|\n",
       "| 2 | Afghanistan                   | 2014                          | Developing                    | 59.9                          | 271                           | 64                            |  0.01                         |   73.52358                    | 62                            |   492                         | ...                           |   327582                      | 17.5                          | 17.5                          | 0.4760000                     | 10.00000                      | 306.25                        | 306.25                        |  0.01                         | 12.69949                      |  6.417870                     |\n",
       "| 18 | Albania                       | 2014                          | Developing                    | 77.5                          |   8                           |  0                            |  4.51                         |  428.74907                    | 98                            |     0                         | ...                           |   288914                      |  1.2                          |  1.3                          | 0.7610000                     | 14.20000                      |   1.69                        |   1.44                        |  0.01                         | 12.57388                      |  8.428529                     |\n",
       "| 34 | Algeria                       | 2014                          | Developing                    | 75.4                          |  11                           | 21                            |  0.01                         |   54.23732                    | 95                            |     0                         | ...                           | 39113313                      |  6.0                          |  5.8                          | 0.7410000                     | 14.40000                      |  33.64                        |  36.00                        |  0.01                         | 17.48197                      |  6.306005                     |\n",
       "| 50 | Angola                        | 2014                          | Developing                    | 51.7                          | 348                           | 67                            |  8.33                         |   23.96561                    | 64                            | 11699                         | ...                           |  2692466                      |  8.5                          |  8.3                          | 0.5270000                     | 11.40000                      |  68.89                        |  72.25                        |  4.00                         | 14.80597                      |  6.172352                     |\n",
       "| 66 | AntiguaandBarbuda             | 2014                          | Developing                    | 76.2                          | 131                           |  0                            |  8.56                         | 2422.99977                    | 99                            |     0                         | ...                           | 25139118                      |  3.3                          |  3.3                          | 0.7820000                     | 13.90000                      |  10.89                        |  10.89                        |  0.04                         | 14.16980                      |  9.464075                     |\n",
       "| 82 | Argentina                     | 2014                          | Developing                    | 76.2                          | 118                           |  8                            |  7.93                         |  847.37175                    | 94                            |     1                         | ...                           | 42981515                      |  1.0                          |  0.9                          | 0.8250000                     | 17.30000                      |   0.81                        |   1.00                        |  0.01                         | 17.57628                      |  9.412894                     |\n",
       "| 98 | Armenia                       | 2014                          | Developing                    | 74.6                          |  12                           |  1                            |  3.91                         |  295.60871                    | 93                            |    13                         | ...                           |    29622                      |  2.1                          |  2.1                          | 0.7390000                     | 12.70000                      |   4.41                        |   4.41                        |  0.01                         | 10.29627                      |  8.292727                     |\n",
       "| 146 | Azerbaijan                    | 2014                          | Developing                    | 72.5                          | 119                           |  5                            |  0.01                         |  306.18243                    | 94                            |     0                         | ...                           |   953579                      |  2.8                          |  2.9                          | 0.7520000                     | 12.20000                      |   8.41                        |   7.84                        |  0.01                         | 13.76798                      |  8.973516                     |\n",
       "| 162 | Bahamas                       | 2014                          | Developing                    | 75.4                          |  16                           |  0                            |  9.45                         |    0.00000                    | 96                            |     0                         | ...                           | 25139118                      |  2.5                          |  2.5                          | 0.7890000                     | 12.60000                      |   6.25                        |   6.25                        |  0.01                         | 14.16980                      |  7.493295                     |\n",
       "| 178 | Bahrain                       | 2014                          | Developing                    | 76.8                          |   7                           |  0                            |  1.57                         |  367.25567                    | 98                            |    46                         | ...                           | 25139118                      |  6.1                          |  6.0                          | 0.8200000                     | 14.50000                      |  36.00                        |  37.21                        |  0.01                         | 14.16980                      | 10.125966                     |\n",
       "| 194 | Bangladesh                    | 2014                          | Developing                    | 71.4                          | 132                           | 98                            |  0.01                         |   10.44640                    | 97                            |   289                         | ...                           | 15945279                      | 18.1                          | 18.6                          | 0.5700000                     | 10.00000                      | 345.96                        | 327.61                        |  0.01                         | 16.58467                      |  5.218004                     |\n",
       "| 210 | Barbados                      | 2014                          | Developing                    | 75.4                          |   1                           |  0                            |  8.82                         |  294.90566                    | 94                            |     0                         | ...                           | 25139118                      |  3.8                          |  3.7                          | 0.7930000                     | 15.30000                      |  13.69                        |  14.44                        |  0.01                         | 14.16980                      |  9.639501                     |\n",
       "| 226 | Belarus                       | 2014                          | Developing                    | 72.0                          | 199                           |  0                            | 13.94                         | 1147.11140                    | 97                            |    64                         | ...                           |  9474511                      |  1.9                          |  2.0                          | 0.7960000                     | 15.70000                      |   4.00                        |   3.61                        |  0.01                         | 16.06412                      |  9.026229                     |\n",
       "| 258 | Belize                        | 2014                          | Developing                    | 70.0                          | 177                           |  0                            |  6.58                         |  670.09209                    | 95                            |     0                         | ...                           |   351694                      |  3.4                          |  3.4                          | 0.7050000                     | 12.80000                      |  11.56                        |  11.56                        |  0.04                         | 12.77052                      |  8.487192                     |\n",
       "| 274 | Benin                         | 2014                          | Developing                    | 59.7                          | 252                           | 25                            |  0.01                         |   90.12207                    | 78                            |   786                         | ...                           |  1286712                      |  7.1                          |  6.9                          | 0.4750000                     | 10.70000                      |  47.61                        |  50.41                        |  1.21                         | 14.06760                      |  6.849794                     |\n",
       "| 290 | Bhutan                        | 2014                          | Developing                    | 69.4                          | 216                           |  0                            |  0.01                         |  209.39213                    | 99                            |     0                         | ...                           |   776448                      | 15.7                          | 16.2                          | 0.5960000                     | 12.50000                      | 262.44                        | 246.49                        |  0.25                         | 13.56248                      |  7.833123                     |\n",
       "| 306 | Bolivia(PlurinationalStateof) | 2014                          | Developing                    | 74.0                          | 189                           |  8                            |  3.62                         |    0.00000                    | 98                            |     0                         | ...                           | 25139118                      |  1.2                          |  1.1                          | 0.6660000                     | 13.80000                      |   1.21                        |   1.44                        |  0.01                         | 14.16980                      |  7.493295                     |\n",
       "| 322 | BosniaandHerzegovina          | 2014                          | Developing                    | 77.2                          |  89                           |  0                            |  4.03                         |  732.86625                    | 89                            |  3000                         | ...                           |    35662                      |  2.4                          |  2.4                          | 0.7420000                     | 14.20000                      |   5.76                        |   5.76                        |  0.01                         | 10.48184                      |  8.555250                     |\n",
       "| 338 | Botswana                      | 2014                          | Developing                    | 65.1                          | 268                           |  2                            |  0.01                         |  662.80219                    | 95                            |     1                         | ...                           |  2168573                      |  6.7                          |  6.4                          | 0.6970000                     | 12.60000                      |  40.96                        |  44.89                        |  5.29                         | 14.58958                      |  8.922360                     |\n",
       "| 354 | Brazil                        | 2014                          | Developing                    | 74.8                          | 144                           | 44                            |  7.32                         |   83.16465                    | 96                            |   876                         | ...                           | 24213133                      |  2.7                          |  2.7                          | 0.7470000                     | 15.20000                      |   7.29                        |   7.29                        |  0.01                         | 17.00241                      |  7.112016                     |\n",
       "| 370 | BruneiDarussalam              | 2014                          | Developing                    | 77.6                          |   8                           |  0                            |  0.01                         |  269.14328                    | 99                            |     1                         | ...                           | 25139118                      |  5.7                          |  5.2                          | 0.8630000                     | 15.00000                      |  27.04                        |  32.49                        |  0.01                         | 14.16980                      |  8.333238                     |\n",
       "| 402 | BurkinaFaso                   | 2014                          | Developing                    | 59.3                          | 268                           | 39                            |  0.01                         |    8.38634                    | 91                            |   343                         | ...                           | 17585977                      |  8.2                          |  7.7                          | 0.3980000                     |  7.70000                      |  59.29                        |  67.24                        |  0.36                         | 16.68261                      |  4.319438                     |\n",
       "| 418 | Burundi                       | 2014                          | Developing                    | 59.1                          | 297                           | 22                            |  0.01                         |   41.25159                    | 95                            |     0                         | ...                           |   989179                      |  7.4                          |  7.3                          | 0.4040000                     | 10.60000                      |  53.29                        |  54.76                        |  0.49                         | 13.80463                      |  5.745401                     |\n",
       "| 434 | CÃ´ted'Ivoire                 | 2014                          | Developing                    | 52.8                          |  47                           | 58                            |  0.01                         |    0.00000                    | 76                            |    50                         | ...                           | 25139118                      |  5.6                          |  5.6                          | 0.6500139                     | 12.15833                      |  31.36                        |  31.36                        |  4.00                         | 14.16980                      |  7.493295                     |\n",
       "| 450 | CaboVerde                     | 2014                          | Developing                    | 73.0                          | 117                           |  0                            |  0.01                         |  414.02424                    | 97                            |     0                         | ...                           |   526437                      |  6.8                          |  6.7                          | 0.6430000                     | 13.50000                      |  44.89                        |  46.24                        |  0.04                         | 13.17389                      |  8.168945                     |\n",
       "| 466 | Cambodia                      | 2014                          | Developing                    | 68.3                          | 179                           | 11                            |  0.01                         |   12.17952                    | 88                            |     0                         | ...                           |   152779                      |  1.9                          | 11.0                          | 0.5530000                     | 10.90000                      | 121.00                        |   3.61                        |  0.04                         | 11.93675                      |  5.291731                     |\n",
       "| 482 | Cameroon                      | 2014                          | Developing                    | 56.7                          | 366                           | 47                            |  0.01                         |   61.39264                    | 87                            |   831                         | ...                           |  2223994                      |  5.7                          |  5.7                          | 0.5070000                     | 10.40000                      |  32.49                        |  32.49                        | 13.69                         | 14.61482                      |  7.273191                     |\n",
       "| 498 | Canada                        | 2014                          | Developing                    | 82.0                          |  65                           |  2                            |  8.10                         |  102.19022                    | 55                            |   418                         | ...                           | 35544564                      |  0.5                          |  0.5                          | 0.9120000                     | 15.90000                      |   0.25                        |   0.25                        |  0.01                         | 17.38630                      |  6.299746                     |\n",
       "| 514 | CentralAfricanRepublic        | 2014                          | Developing                    | 58.0                          | 437                           | 15                            |  0.01                         |   53.43964                    | 47                            |   210                         | ...                           |  4515392                      |  8.4                          |  8.3                          | 0.3450000                     |  7.10000                      |  68.89                        |  70.56                        | 20.25                         | 15.32300                      |  5.932596                     |\n",
       "| 530 | Chad                          | 2014                          | Developing                    | 52.6                          | 362                           | 46                            |  0.01                         |   11.30207                    | 37                            |  1275                         | ...                           | 13569438                      |  8.7                          |  8.5                          | 0.3900000                     |  7.30000                      |  72.25                        |  75.69                        |  8.41                         | 16.42333                      |  4.836270                     |\n",
       "| ... | ... | ... | ... | ... | ... | ... | ... | ... | ... | ... |     | ... | ... | ... | ... | ... | ... | ... | ... | ... | ... |\n",
       "| 2379 | Somalia                              | 2014                                 | Developing                           | 54.3                                 | 321                                  | 51                                   | 0.010000                             |    0.0000000                         | 42.00000                             | 10229                                | ...                                  | 25139118                             |  6.700000                            |  6.500000                            | 0.6500139                            | 12.15833                             |  42.25000                            |  44.89000                            |  0.64                                | 14.169801                            |  6.035222                            |\n",
       "| 2395 | SouthAfrica                          | 2014                                 | Developing                           | 62.0                                 | 347                                  | 42                                   | 7.380000                             |  922.0507313                         |  8.00000                             |    66                                | ...                                  | 54146735                             |  4.900000                            |  5.900000                            | 0.6600000                            | 13.00000                             |  34.81000                            |  24.01000                            | 13.69                                | 17.807208                            |  8.776418                            |\n",
       "| 2411 | SouthSudan                           | 2014                                 | Developing                           | 56.6                                 | 343                                  | 26                                   | 2.319267                             |   46.0744686                         | 82.00671                             |   441                                | ...                                  |  1153971                             |  5.236242                            |  5.420134                            | 0.4210000                            |  4.90000                             |  47.93852                            |  45.23906                            | 12.25                                | 13.958720                            |  7.049135                            |\n",
       "| 2443 | SriLanka                             | 2014                                 | Developing                           | 74.7                                 | 141                                  |  3                                   | 2.370000                             |   42.7308283                         | 99.00000                             |  1686                                | ...                                  |     2771                             | 15.200000                            | 15.000000                            | 0.7600000                            | 14.00000                             | 225.00000                            | 231.04000                            |  0.01                                |  7.926964                            |  5.946859                            |\n",
       "| 2459 | Sudan                                | 2014                                 | Developing                           | 63.8                                 | 229                                  | 59                                   | 0.010000                             |  253.6086508                         | 94.00000                             |   676                                | ...                                  | 37737913                             |  5.236242                            |  5.420134                            | 0.4850000                            |  7.20000                             |  47.93852                            |  45.23906                            |  0.09                                | 17.446176                            |  7.685656                            |\n",
       "| 2475 | Suriname                             | 2014                                 | Developing                           | 71.4                                 | 178                                  |  0                                   | 6.320000                             | 1132.4325170                         | 85.00000                             |     0                                | ...                                  |   547928                             |  3.500000                            |  3.500000                            | 0.7220000                            | 12.70000                             |  12.25000                            |  12.25000                            |  0.16                                | 13.213899                            |  9.165810                            |\n",
       "| 2491 | Swaziland                            | 2014                                 | Developing                           | 58.4                                 | 382                                  |  2                                   | 0.010000                             |  574.3895102                         | 98.00000                             |     0                                | ...                                  |   129597                             |  4.300000                            |  4.300000                            | 0.5410000                            | 11.40000                             |  18.49000                            |  18.49000                            | 53.29                                | 11.772185                            |  8.150281                            |\n",
       "| 2539 | SyrianArabRepublic                   | 2014                                 | Developing                           | 64.4                                 | 294                                  |  7                                   | 0.010000                             |    0.0000000                         | 47.00000                             |   594                                | ...                                  |    19239                             |  6.300000                            |  6.100000                            | 0.5750000                            |  9.00000                             |  37.21000                            |  39.69000                            |  0.01                                |  9.864695                            |  7.493295                            |\n",
       "| 2555 | Tajikistan                           | 2014                                 | Developing                           | 69.6                                 | 162                                  | 10                                   | 0.010000                             |    7.8290086                         | 97.00000                             |     0                                | ...                                  |  8362745                             |  3.600000                            |  3.700000                            | 0.6220000                            | 11.30000                             |  13.69000                            |  12.96000                            |  0.04                                | 15.939297                            |  4.740218                            |\n",
       "| 2571 | Thailand                             | 2014                                 | Developing                           | 74.6                                 | 152                                  |  8                                   | 6.410000                             |  789.0772949                         | 99.00000                             |     0                                | ...                                  | 68416772                             |  7.800000                            |  7.800000                            | 0.7370000                            | 13.60000                             |  60.84000                            |  60.84000                            |  0.01                                | 18.041129                            |  8.689775                            |\n",
       "| 2587 | TheformerYugoslavrepublicofMacedonia | 2014                                 | Developing                           | 75.5                                 |  12                                  |  0                                   | 1.130000                             |    0.0000000                         | 97.00000                             |   116                                | ...                                  | 25139118                             |  2.200000                            |  2.200000                            | 0.7430000                            | 12.90000                             |   4.84000                            |   4.84000                            |  0.01                                | 14.169801                            |  7.493295                            |\n",
       "| 2603 | Timor-Leste                          | 2014                                 | Developing                           | 68.0                                 | 155                                  |  2                                   | 0.010000                             |   28.1457850                         | 77.00000                             |    47                                | ...                                  |  1212814                             |  1.900000                            | 11.100000                            | 0.6120000                            | 12.50000                             | 123.21000                            |   3.61000                            |  0.01                                | 14.008454                            |  7.050570                            |\n",
       "| 2619 | Togo                                 | 2014                                 | Developing                           | 59.7                                 | 285                                  | 13                                   | 0.010000                             |    4.8773501                         | 87.00000                             |   577                                | ...                                  |  7228915                             |  6.600000                            |  6.400000                            | 0.4750000                            | 12.00000                             |  40.96000                            |  43.56000                            |  1.00                                | 15.793600                            |  4.129259                            |\n",
       "| 2635 | Tonga                                | 2014                                 | Developing                           | 73.3                                 | 135                                  |  0                                   | 0.010000                             |  565.9672173                         |  8.00000                             |     0                                | ...                                  |    15782                             |  0.100000                            |  0.100000                            | 0.7160000                            | 14.30000                             |   0.01000                            |   0.01000                            |  0.01                                |  9.666625                            |  8.341017                            |\n",
       "| 2651 | TrinidadandTobago                    | 2014                                 | Developing                           | 71.1                                 | 171                                  |  0                                   | 6.940000                             | 1578.8723390                         | 92.00000                             |     0                                | ...                                  |  1354493                             |  5.800000                            |  6.000000                            | 0.7780000                            | 12.70000                             |  36.00000                            |  33.64000                            |  0.09                                | 14.118938                            |  9.869167                            |\n",
       "| 2667 | Tunisia                              | 2014                                 | Developing                           | 75.1                                 |  12                                  |  3                                   | 1.390000                             |  604.8701316                         | 98.00000                             |    15                                | ...                                  |  1114398                             |  6.500000                            |  6.400000                            | 0.7220000                            | 14.70000                             |  40.96000                            |  42.25000                            |  0.01                                | 13.923825                            |  8.359763                            |\n",
       "| 2683 | Turkey                               | 2014                                 | Developing                           | 75.5                                 |  17                                  | 16                                   | 1.450000                             |  181.9083783                         | 96.00000                             |   565                                | ...                                  |   773628                             |  4.900000                            |  4.700000                            | 0.7590000                            | 14.50000                             |  22.09000                            |  24.01000                            |  0.01                                | 13.558846                            |  9.403208                            |\n",
       "| 2699 | Turkmenistan                         | 2014                                 | Developing                           | 66.0                                 | 217                                  |  7                                   | 2.900000                             |  691.1333535                         | 97.00000                             |     0                                | ...                                  |  5466241                             |  3.300000                            |  3.300000                            | 0.6830000                            | 10.80000                             |  10.89000                            |  10.89000                            |  0.01                                | 15.514102                            |  8.982481                            |\n",
       "| 2716 | Uganda                               | 2014                                 | Developing                           | 61.5                                 |  38                                  | 68                                   | 0.010000                             |   14.1677016                         | 78.00000                             |   314                                | ...                                  | 38833338                             |  5.700000                            |  5.600000                            | 0.4830000                            | 10.00000                             |  31.36000                            |  32.49000                            | 10.24                                | 17.474790                            |  6.578101                            |\n",
       "| 2732 | Ukraine                              | 2014                                 | Developing                           | 78.0                                 |  23                                  |  4                                   | 8.060000                             |    5.6638493                         | 22.00000                             |     0                                | ...                                  | 45271947                             |  2.300000                            |  2.400000                            | 0.7460000                            | 15.20000                             |   5.76000                            |   5.29000                            |  0.04                                | 17.628198                            |  5.751487                            |\n",
       "| 2748 | UnitedArabEmirates                   | 2014                                 | Developing                           | 76.9                                 |  77                                  |  1                                   | 1.910000                             | 3862.6827100                         | 99.00000                             |   344                                | ...                                  | 25139118                             |  5.200000                            |  5.000000                            | 0.8320000                            | 13.30000                             |  25.00000                            |  27.04000                            |  0.01                                | 14.169801                            | 10.702114                            |\n",
       "| 2780 | UnitedRepublicofTanzania             | 2014                                 | Developing                           | 67.0                                 |  34                                  | 86                                   | 0.010000                             |    0.0000000                         | 97.00000                             |    88                                | ...                                  | 25139118                             |  6.800000                            |  6.600000                            | 0.6500139                            | 12.15833                             |  43.56000                            |  46.24000                            |  1.96                                | 14.169801                            |  7.493295                            |\n",
       "| 2812 | Uruguay                              | 2014                                 | Developing                           | 76.8                                 | 117                                  |  0                                   | 6.030000                             |  463.6397821                         | 95.00000                             |     0                                | ...                                  |  3419546                             |  1.500000                            |  1.400000                            | 0.7910000                            | 15.50000                             |   1.96000                            |   2.25000                            |  0.01                                | 15.045018                            |  9.725431                            |\n",
       "| 2828 | Uzbekistan                           | 2014                                 | Developing                           | 69.2                                 | 184                                  | 16                                   | 0.010000                             |    0.4428024                         | 99.00000                             |     8                                | ...                                  |    37577                             |  3.000000                            |  3.100000                            | 0.6900000                            | 12.10000                             |   9.61000                            |   9.00000                            |  0.01                                | 10.534147                            |  3.236653                            |\n",
       "| 2844 | Vanuatu                              | 2014                                 | Developing                           | 71.7                                 | 134                                  |  0                                   | 0.010000                             |  564.8167043                         | 64.00000                             |    10                                | ...                                  |    25885                             |  1.500000                            |  1.400000                            | 0.5960000                            | 10.80000                             |   1.96000                            |   2.25000                            |  0.01                                | 10.161419                            |  8.054639                            |\n",
       "| 2860 | Venezuela(BolivarianRepublicof)      | 2014                                 | Developing                           | 73.9                                 | 158                                  |  9                                   | 6.470000                             |    0.0000000                         | 78.00000                             |     0                                | ...                                  | 25139118                             |  1.600000                            |  1.500000                            | 0.7710000                            | 14.20000                             |   2.25000                            |   2.56000                            |  0.01                                | 14.169801                            |  7.493295                            |\n",
       "| 2876 | VietNam                              | 2014                                 | Developing                           | 75.9                                 | 128                                  | 28                                   | 4.090000                             |    0.0000000                         | 95.00000                             | 15033                                | ...                                  | 25139118                             | 14.300000                            | 14.700000                            | 0.6750000                            | 12.50000                             | 216.09000                            | 204.49000                            |  0.01                                | 14.169801                            |  7.493295                            |\n",
       "| 2892 | Yemen                                | 2014                                 | Developing                           | 65.4                                 | 228                                  | 37                                   | 0.010000                             |    0.0000000                         | 73.00000                             |   815                                | ...                                  | 25139118                             | 13.700000                            | 13.500000                            | 0.5000000                            |  9.00000                             | 182.25000                            | 187.69000                            |  0.01                                | 14.169801                            |  7.493295                            |\n",
       "| 2908 | Zambia                               | 2014                                 | Developing                           | 61.1                                 | 314                                  | 28                                   | 0.010000                             |  196.6675768                         | 86.00000                             |     9                                | ...                                  |  1562974                             |  6.300000                            |  6.200000                            | 0.5700000                            | 12.50000                             |  38.44000                            |  39.69000                            | 18.49                                | 14.262101                            |  7.460998                            |\n",
       "| 2924 | Zimbabwe                             | 2014                                 | Developing                           | 59.2                                 | 371                                  | 23                                   | 6.500000                             |   10.8225952                         | 91.00000                             |     0                                | ...                                  | 15411675                             |  5.900000                            |  5.700000                            | 0.4980000                            | 10.30000                             |  32.49000                            |  34.81000                            | 39.69                                | 16.550636                            |  4.847917                            |\n",
       "\n"
      ],
      "text/plain": [
       "     Country                              Year Status     Lifeexpectancy\n",
       "2    Afghanistan                          2014 Developing 59.9          \n",
       "18   Albania                              2014 Developing 77.5          \n",
       "34   Algeria                              2014 Developing 75.4          \n",
       "50   Angola                               2014 Developing 51.7          \n",
       "66   AntiguaandBarbuda                    2014 Developing 76.2          \n",
       "82   Argentina                            2014 Developing 76.2          \n",
       "98   Armenia                              2014 Developing 74.6          \n",
       "146  Azerbaijan                           2014 Developing 72.5          \n",
       "162  Bahamas                              2014 Developing 75.4          \n",
       "178  Bahrain                              2014 Developing 76.8          \n",
       "194  Bangladesh                           2014 Developing 71.4          \n",
       "210  Barbados                             2014 Developing 75.4          \n",
       "226  Belarus                              2014 Developing 72.0          \n",
       "258  Belize                               2014 Developing 70.0          \n",
       "274  Benin                                2014 Developing 59.7          \n",
       "290  Bhutan                               2014 Developing 69.4          \n",
       "306  Bolivia(PlurinationalStateof)        2014 Developing 74.0          \n",
       "322  BosniaandHerzegovina                 2014 Developing 77.2          \n",
       "338  Botswana                             2014 Developing 65.1          \n",
       "354  Brazil                               2014 Developing 74.8          \n",
       "370  BruneiDarussalam                     2014 Developing 77.6          \n",
       "402  BurkinaFaso                          2014 Developing 59.3          \n",
       "418  Burundi                              2014 Developing 59.1          \n",
       "434  CÃ´ted'Ivoire                        2014 Developing 52.8          \n",
       "450  CaboVerde                            2014 Developing 73.0          \n",
       "466  Cambodia                             2014 Developing 68.3          \n",
       "482  Cameroon                             2014 Developing 56.7          \n",
       "498  Canada                               2014 Developing 82.0          \n",
       "514  CentralAfricanRepublic               2014 Developing 58.0          \n",
       "530  Chad                                 2014 Developing 52.6          \n",
       "...  ...                                  ...  ...        ...           \n",
       "2379 Somalia                              2014 Developing 54.3          \n",
       "2395 SouthAfrica                          2014 Developing 62.0          \n",
       "2411 SouthSudan                           2014 Developing 56.6          \n",
       "2443 SriLanka                             2014 Developing 74.7          \n",
       "2459 Sudan                                2014 Developing 63.8          \n",
       "2475 Suriname                             2014 Developing 71.4          \n",
       "2491 Swaziland                            2014 Developing 58.4          \n",
       "2539 SyrianArabRepublic                   2014 Developing 64.4          \n",
       "2555 Tajikistan                           2014 Developing 69.6          \n",
       "2571 Thailand                             2014 Developing 74.6          \n",
       "2587 TheformerYugoslavrepublicofMacedonia 2014 Developing 75.5          \n",
       "2603 Timor-Leste                          2014 Developing 68.0          \n",
       "2619 Togo                                 2014 Developing 59.7          \n",
       "2635 Tonga                                2014 Developing 73.3          \n",
       "2651 TrinidadandTobago                    2014 Developing 71.1          \n",
       "2667 Tunisia                              2014 Developing 75.1          \n",
       "2683 Turkey                               2014 Developing 75.5          \n",
       "2699 Turkmenistan                         2014 Developing 66.0          \n",
       "2716 Uganda                               2014 Developing 61.5          \n",
       "2732 Ukraine                              2014 Developing 78.0          \n",
       "2748 UnitedArabEmirates                   2014 Developing 76.9          \n",
       "2780 UnitedRepublicofTanzania             2014 Developing 67.0          \n",
       "2812 Uruguay                              2014 Developing 76.8          \n",
       "2828 Uzbekistan                           2014 Developing 69.2          \n",
       "2844 Vanuatu                              2014 Developing 71.7          \n",
       "2860 Venezuela(BolivarianRepublicof)      2014 Developing 73.9          \n",
       "2876 VietNam                              2014 Developing 75.9          \n",
       "2892 Yemen                                2014 Developing 65.4          \n",
       "2908 Zambia                               2014 Developing 61.1          \n",
       "2924 Zimbabwe                             2014 Developing 59.2          \n",
       "     AdultMortality infantdeaths Alcohol  percentageexpenditure HepatitisB\n",
       "2    271            64            0.01      73.52358            62        \n",
       "18     8             0            4.51     428.74907            98        \n",
       "34    11            21            0.01      54.23732            95        \n",
       "50   348            67            8.33      23.96561            64        \n",
       "66   131             0            8.56    2422.99977            99        \n",
       "82   118             8            7.93     847.37175            94        \n",
       "98    12             1            3.91     295.60871            93        \n",
       "146  119             5            0.01     306.18243            94        \n",
       "162   16             0            9.45       0.00000            96        \n",
       "178    7             0            1.57     367.25567            98        \n",
       "194  132            98            0.01      10.44640            97        \n",
       "210    1             0            8.82     294.90566            94        \n",
       "226  199             0           13.94    1147.11140            97        \n",
       "258  177             0            6.58     670.09209            95        \n",
       "274  252            25            0.01      90.12207            78        \n",
       "290  216             0            0.01     209.39213            99        \n",
       "306  189             8            3.62       0.00000            98        \n",
       "322   89             0            4.03     732.86625            89        \n",
       "338  268             2            0.01     662.80219            95        \n",
       "354  144            44            7.32      83.16465            96        \n",
       "370    8             0            0.01     269.14328            99        \n",
       "402  268            39            0.01       8.38634            91        \n",
       "418  297            22            0.01      41.25159            95        \n",
       "434   47            58            0.01       0.00000            76        \n",
       "450  117             0            0.01     414.02424            97        \n",
       "466  179            11            0.01      12.17952            88        \n",
       "482  366            47            0.01      61.39264            87        \n",
       "498   65             2            8.10     102.19022            55        \n",
       "514  437            15            0.01      53.43964            47        \n",
       "530  362            46            0.01      11.30207            37        \n",
       "...  ...            ...          ...      ...                   ...       \n",
       "2379 321            51           0.010000    0.0000000          42.00000  \n",
       "2395 347            42           7.380000  922.0507313           8.00000  \n",
       "2411 343            26           2.319267   46.0744686          82.00671  \n",
       "2443 141             3           2.370000   42.7308283          99.00000  \n",
       "2459 229            59           0.010000  253.6086508          94.00000  \n",
       "2475 178             0           6.320000 1132.4325170          85.00000  \n",
       "2491 382             2           0.010000  574.3895102          98.00000  \n",
       "2539 294             7           0.010000    0.0000000          47.00000  \n",
       "2555 162            10           0.010000    7.8290086          97.00000  \n",
       "2571 152             8           6.410000  789.0772949          99.00000  \n",
       "2587  12             0           1.130000    0.0000000          97.00000  \n",
       "2603 155             2           0.010000   28.1457850          77.00000  \n",
       "2619 285            13           0.010000    4.8773501          87.00000  \n",
       "2635 135             0           0.010000  565.9672173           8.00000  \n",
       "2651 171             0           6.940000 1578.8723390          92.00000  \n",
       "2667  12             3           1.390000  604.8701316          98.00000  \n",
       "2683  17            16           1.450000  181.9083783          96.00000  \n",
       "2699 217             7           2.900000  691.1333535          97.00000  \n",
       "2716  38            68           0.010000   14.1677016          78.00000  \n",
       "2732  23             4           8.060000    5.6638493          22.00000  \n",
       "2748  77             1           1.910000 3862.6827100          99.00000  \n",
       "2780  34            86           0.010000    0.0000000          97.00000  \n",
       "2812 117             0           6.030000  463.6397821          95.00000  \n",
       "2828 184            16           0.010000    0.4428024          99.00000  \n",
       "2844 134             0           0.010000  564.8167043          64.00000  \n",
       "2860 158             9           6.470000    0.0000000          78.00000  \n",
       "2876 128            28           4.090000    0.0000000          95.00000  \n",
       "2892 228            37           0.010000    0.0000000          73.00000  \n",
       "2908 314            28           0.010000  196.6675768          86.00000  \n",
       "2924 371            23           6.500000   10.8225952          91.00000  \n",
       "     Measles ... Population thinness1.19years thinness5.9years\n",
       "2      492   ...   327582   17.5              17.5            \n",
       "18       0   ...   288914    1.2               1.3            \n",
       "34       0   ... 39113313    6.0               5.8            \n",
       "50   11699   ...  2692466    8.5               8.3            \n",
       "66       0   ... 25139118    3.3               3.3            \n",
       "82       1   ... 42981515    1.0               0.9            \n",
       "98      13   ...    29622    2.1               2.1            \n",
       "146      0   ...   953579    2.8               2.9            \n",
       "162      0   ... 25139118    2.5               2.5            \n",
       "178     46   ... 25139118    6.1               6.0            \n",
       "194    289   ... 15945279   18.1              18.6            \n",
       "210      0   ... 25139118    3.8               3.7            \n",
       "226     64   ...  9474511    1.9               2.0            \n",
       "258      0   ...   351694    3.4               3.4            \n",
       "274    786   ...  1286712    7.1               6.9            \n",
       "290      0   ...   776448   15.7              16.2            \n",
       "306      0   ... 25139118    1.2               1.1            \n",
       "322   3000   ...    35662    2.4               2.4            \n",
       "338      1   ...  2168573    6.7               6.4            \n",
       "354    876   ... 24213133    2.7               2.7            \n",
       "370      1   ... 25139118    5.7               5.2            \n",
       "402    343   ... 17585977    8.2               7.7            \n",
       "418      0   ...   989179    7.4               7.3            \n",
       "434     50   ... 25139118    5.6               5.6            \n",
       "450      0   ...   526437    6.8               6.7            \n",
       "466      0   ...   152779    1.9              11.0            \n",
       "482    831   ...  2223994    5.7               5.7            \n",
       "498    418   ... 35544564    0.5               0.5            \n",
       "514    210   ...  4515392    8.4               8.3            \n",
       "530   1275   ... 13569438    8.7               8.5            \n",
       "...  ...         ...        ...               ...             \n",
       "2379 10229   ... 25139118    6.700000          6.500000       \n",
       "2395    66   ... 54146735    4.900000          5.900000       \n",
       "2411   441   ...  1153971    5.236242          5.420134       \n",
       "2443  1686   ...     2771   15.200000         15.000000       \n",
       "2459   676   ... 37737913    5.236242          5.420134       \n",
       "2475     0   ...   547928    3.500000          3.500000       \n",
       "2491     0   ...   129597    4.300000          4.300000       \n",
       "2539   594   ...    19239    6.300000          6.100000       \n",
       "2555     0   ...  8362745    3.600000          3.700000       \n",
       "2571     0   ... 68416772    7.800000          7.800000       \n",
       "2587   116   ... 25139118    2.200000          2.200000       \n",
       "2603    47   ...  1212814    1.900000         11.100000       \n",
       "2619   577   ...  7228915    6.600000          6.400000       \n",
       "2635     0   ...    15782    0.100000          0.100000       \n",
       "2651     0   ...  1354493    5.800000          6.000000       \n",
       "2667    15   ...  1114398    6.500000          6.400000       \n",
       "2683   565   ...   773628    4.900000          4.700000       \n",
       "2699     0   ...  5466241    3.300000          3.300000       \n",
       "2716   314   ... 38833338    5.700000          5.600000       \n",
       "2732     0   ... 45271947    2.300000          2.400000       \n",
       "2748   344   ... 25139118    5.200000          5.000000       \n",
       "2780    88   ... 25139118    6.800000          6.600000       \n",
       "2812     0   ...  3419546    1.500000          1.400000       \n",
       "2828     8   ...    37577    3.000000          3.100000       \n",
       "2844    10   ...    25885    1.500000          1.400000       \n",
       "2860     0   ... 25139118    1.600000          1.500000       \n",
       "2876 15033   ... 25139118   14.300000         14.700000       \n",
       "2892   815   ... 25139118   13.700000         13.500000       \n",
       "2908     9   ...  1562974    6.300000          6.200000       \n",
       "2924     0   ... 15411675    5.900000          5.700000       \n",
       "     Incomecompositionofresources Schooling thinness5.9years2\n",
       "2    0.4760000                    10.00000  306.25           \n",
       "18   0.7610000                    14.20000    1.69           \n",
       "34   0.7410000                    14.40000   33.64           \n",
       "50   0.5270000                    11.40000   68.89           \n",
       "66   0.7820000                    13.90000   10.89           \n",
       "82   0.8250000                    17.30000    0.81           \n",
       "98   0.7390000                    12.70000    4.41           \n",
       "146  0.7520000                    12.20000    8.41           \n",
       "162  0.7890000                    12.60000    6.25           \n",
       "178  0.8200000                    14.50000   36.00           \n",
       "194  0.5700000                    10.00000  345.96           \n",
       "210  0.7930000                    15.30000   13.69           \n",
       "226  0.7960000                    15.70000    4.00           \n",
       "258  0.7050000                    12.80000   11.56           \n",
       "274  0.4750000                    10.70000   47.61           \n",
       "290  0.5960000                    12.50000  262.44           \n",
       "306  0.6660000                    13.80000    1.21           \n",
       "322  0.7420000                    14.20000    5.76           \n",
       "338  0.6970000                    12.60000   40.96           \n",
       "354  0.7470000                    15.20000    7.29           \n",
       "370  0.8630000                    15.00000   27.04           \n",
       "402  0.3980000                     7.70000   59.29           \n",
       "418  0.4040000                    10.60000   53.29           \n",
       "434  0.6500139                    12.15833   31.36           \n",
       "450  0.6430000                    13.50000   44.89           \n",
       "466  0.5530000                    10.90000  121.00           \n",
       "482  0.5070000                    10.40000   32.49           \n",
       "498  0.9120000                    15.90000    0.25           \n",
       "514  0.3450000                     7.10000   68.89           \n",
       "530  0.3900000                     7.30000   72.25           \n",
       "...  ...                          ...       ...              \n",
       "2379 0.6500139                    12.15833   42.25000        \n",
       "2395 0.6600000                    13.00000   34.81000        \n",
       "2411 0.4210000                     4.90000   47.93852        \n",
       "2443 0.7600000                    14.00000  225.00000        \n",
       "2459 0.4850000                     7.20000   47.93852        \n",
       "2475 0.7220000                    12.70000   12.25000        \n",
       "2491 0.5410000                    11.40000   18.49000        \n",
       "2539 0.5750000                     9.00000   37.21000        \n",
       "2555 0.6220000                    11.30000   13.69000        \n",
       "2571 0.7370000                    13.60000   60.84000        \n",
       "2587 0.7430000                    12.90000    4.84000        \n",
       "2603 0.6120000                    12.50000  123.21000        \n",
       "2619 0.4750000                    12.00000   40.96000        \n",
       "2635 0.7160000                    14.30000    0.01000        \n",
       "2651 0.7780000                    12.70000   36.00000        \n",
       "2667 0.7220000                    14.70000   40.96000        \n",
       "2683 0.7590000                    14.50000   22.09000        \n",
       "2699 0.6830000                    10.80000   10.89000        \n",
       "2716 0.4830000                    10.00000   31.36000        \n",
       "2732 0.7460000                    15.20000    5.76000        \n",
       "2748 0.8320000                    13.30000   25.00000        \n",
       "2780 0.6500139                    12.15833   43.56000        \n",
       "2812 0.7910000                    15.50000    1.96000        \n",
       "2828 0.6900000                    12.10000    9.61000        \n",
       "2844 0.5960000                    10.80000    1.96000        \n",
       "2860 0.7710000                    14.20000    2.25000        \n",
       "2876 0.6750000                    12.50000  216.09000        \n",
       "2892 0.5000000                     9.00000  182.25000        \n",
       "2908 0.5700000                    12.50000   38.44000        \n",
       "2924 0.4980000                    10.30000   32.49000        \n",
       "     thinness1.19years2 HIV.AIDS2 log_Population log_GDP  \n",
       "2    306.25              0.01     12.69949        6.417870\n",
       "18     1.44              0.01     12.57388        8.428529\n",
       "34    36.00              0.01     17.48197        6.306005\n",
       "50    72.25              4.00     14.80597        6.172352\n",
       "66    10.89              0.04     14.16980        9.464075\n",
       "82     1.00              0.01     17.57628        9.412894\n",
       "98     4.41              0.01     10.29627        8.292727\n",
       "146    7.84              0.01     13.76798        8.973516\n",
       "162    6.25              0.01     14.16980        7.493295\n",
       "178   37.21              0.01     14.16980       10.125966\n",
       "194  327.61              0.01     16.58467        5.218004\n",
       "210   14.44              0.01     14.16980        9.639501\n",
       "226    3.61              0.01     16.06412        9.026229\n",
       "258   11.56              0.04     12.77052        8.487192\n",
       "274   50.41              1.21     14.06760        6.849794\n",
       "290  246.49              0.25     13.56248        7.833123\n",
       "306    1.44              0.01     14.16980        7.493295\n",
       "322    5.76              0.01     10.48184        8.555250\n",
       "338   44.89              5.29     14.58958        8.922360\n",
       "354    7.29              0.01     17.00241        7.112016\n",
       "370   32.49              0.01     14.16980        8.333238\n",
       "402   67.24              0.36     16.68261        4.319438\n",
       "418   54.76              0.49     13.80463        5.745401\n",
       "434   31.36              4.00     14.16980        7.493295\n",
       "450   46.24              0.04     13.17389        8.168945\n",
       "466    3.61              0.04     11.93675        5.291731\n",
       "482   32.49             13.69     14.61482        7.273191\n",
       "498    0.25              0.01     17.38630        6.299746\n",
       "514   70.56             20.25     15.32300        5.932596\n",
       "530   75.69              8.41     16.42333        4.836270\n",
       "...  ...                ...       ...            ...      \n",
       "2379  44.89000           0.64     14.169801       6.035222\n",
       "2395  24.01000          13.69     17.807208       8.776418\n",
       "2411  45.23906          12.25     13.958720       7.049135\n",
       "2443 231.04000           0.01      7.926964       5.946859\n",
       "2459  45.23906           0.09     17.446176       7.685656\n",
       "2475  12.25000           0.16     13.213899       9.165810\n",
       "2491  18.49000          53.29     11.772185       8.150281\n",
       "2539  39.69000           0.01      9.864695       7.493295\n",
       "2555  12.96000           0.04     15.939297       4.740218\n",
       "2571  60.84000           0.01     18.041129       8.689775\n",
       "2587   4.84000           0.01     14.169801       7.493295\n",
       "2603   3.61000           0.01     14.008454       7.050570\n",
       "2619  43.56000           1.00     15.793600       4.129259\n",
       "2635   0.01000           0.01      9.666625       8.341017\n",
       "2651  33.64000           0.09     14.118938       9.869167\n",
       "2667  42.25000           0.01     13.923825       8.359763\n",
       "2683  24.01000           0.01     13.558846       9.403208\n",
       "2699  10.89000           0.01     15.514102       8.982481\n",
       "2716  32.49000          10.24     17.474790       6.578101\n",
       "2732   5.29000           0.04     17.628198       5.751487\n",
       "2748  27.04000           0.01     14.169801      10.702114\n",
       "2780  46.24000           1.96     14.169801       7.493295\n",
       "2812   2.25000           0.01     15.045018       9.725431\n",
       "2828   9.00000           0.01     10.534147       3.236653\n",
       "2844   2.25000           0.01     10.161419       8.054639\n",
       "2860   2.56000           0.01     14.169801       7.493295\n",
       "2876 204.49000           0.01     14.169801       7.493295\n",
       "2892 187.69000           0.01     14.169801       7.493295\n",
       "2908  39.69000          18.49     14.262101       7.460998\n",
       "2924  34.81000          39.69     16.550636       4.847917"
      ]
     },
     "metadata": {},
     "output_type": "display_data"
    }
   ],
   "source": [
    "for(i in 5:27){\n",
    "    mydata[,i] = ifelse(is.na(mydata[,i]),\n",
    "                     ave(mydata[,i], FUN = function(x) mean(x, na.rm = TRUE)),\n",
    "                     mydata[,i])\n",
    "}\n",
    "                        \n",
    "mydata"
   ]
  },
  {
   "cell_type": "markdown",
   "metadata": {},
   "source": [
    "## Sample.split\n",
    "La commande **sample.split** du package **caTools** permet de séparer de façon aléatoire un jeu de données. Nous l'utiliserons ici pour séparer notre jeu de données en ensemble d'apprentissage *dataset.train* sur lequel on fera l'ajustement des modèles et en ensemble de test *dataset.test* qui servira à valider l'efficacité de nos prédictions."
   ]
  },
  {
   "cell_type": "code",
   "execution_count": 19,
   "metadata": {},
   "outputs": [
    {
     "data": {
      "text/html": [
       "120"
      ],
      "text/latex": [
       "120"
      ],
      "text/markdown": [
       "120"
      ],
      "text/plain": [
       "[1] 120"
      ]
     },
     "metadata": {},
     "output_type": "display_data"
    },
    {
     "data": {
      "text/html": [
       "31"
      ],
      "text/latex": [
       "31"
      ],
      "text/markdown": [
       "31"
      ],
      "text/plain": [
       "[1] 31"
      ]
     },
     "metadata": {},
     "output_type": "display_data"
    }
   ],
   "source": [
    "#install.packages(\"caTools\")\n",
    "library(caTools)\n",
    "\n",
    "split = sample.split(mydata$Lifeexpectancy, SplitRatio = 0.8)\n",
    "data_train = subset(mydata, split == TRUE )\n",
    "data_test  = subset(mydata, split == FALSE)\n",
    "\n",
    "nrow(data_train)\n",
    "nrow(data_test)"
   ]
  },
  {
   "cell_type": "markdown",
   "metadata": {},
   "source": [
    "<a id=\"modelling\"></a>\n",
    "# Section 3: modélisation\n"
   ]
  },
  {
   "cell_type": "markdown",
   "metadata": {},
   "source": [
    "On commence par ajuster un premier modèle dit \"naïf\" qui ne prend pas vraiment en compte l'analyse préliminaire. Et par la suite on ajuste un second modèle plus complexe. Les variables Country, Year et Status ne sont pas incluses pour des raisons évidentes."
   ]
  },
  {
   "cell_type": "code",
   "execution_count": 20,
   "metadata": {},
   "outputs": [
    {
     "data": {
      "text/plain": [
       "\n",
       "Call:\n",
       "lm(formula = data_train$Lifeexpectancy ~ ., data = data_train[, \n",
       "    4:22])\n",
       "\n",
       "Residuals:\n",
       "     Min       1Q   Median       3Q      Max \n",
       "-15.7713  -1.7034   0.1093   1.9743   9.3190 \n",
       "\n",
       "Coefficients:\n",
       "                               Estimate Std. Error t value Pr(>|t|)    \n",
       "(Intercept)                   5.101e+01  3.982e+00  12.810  < 2e-16 ***\n",
       "AdultMortality               -1.183e-02  4.963e-03  -2.383 0.019031 *  \n",
       "infantdeaths                  3.321e-02  6.859e-02   0.484 0.629329    \n",
       "Alcohol                      -5.219e-02  1.323e-01  -0.394 0.694066    \n",
       "percentageexpenditure         1.414e-03  7.691e-04   1.838 0.068995 .  \n",
       "HepatitisB                    3.265e-02  3.355e-02   0.973 0.332804    \n",
       "Measles                      -1.087e-04  1.050e-04  -1.035 0.303177    \n",
       "BMI                          -1.258e-03  2.310e-02  -0.054 0.956674    \n",
       "under.fivedeaths             -3.101e-02  4.700e-02  -0.660 0.510953    \n",
       "Polio                         7.590e-04  2.731e-02   0.028 0.977881    \n",
       "Totalexpenditure              3.061e-01  1.686e-01   1.816 0.072312 .  \n",
       "Diphtheria                   -1.423e-02  3.498e-02  -0.407 0.685055    \n",
       "HIV.AIDS                     -1.349e+00  3.447e-01  -3.913 0.000166 ***\n",
       "GDP                          -6.249e-05  6.731e-05  -0.928 0.355409    \n",
       "Population                    1.208e-08  9.572e-09   1.262 0.209727    \n",
       "thinness1.19years            -2.049e-01  2.825e-01  -0.725 0.470047    \n",
       "thinness5.9years              1.072e-01  2.837e-01   0.378 0.706291    \n",
       "Incomecompositionofresources  2.906e+01  7.683e+00   3.782 0.000264 ***\n",
       "Schooling                    -4.061e-03  3.213e-01  -0.013 0.989942    \n",
       "---\n",
       "Signif. codes:  0 '***' 0.001 '**' 0.01 '*' 0.05 '.' 0.1 ' ' 1\n",
       "\n",
       "Residual standard error: 3.663 on 101 degrees of freedom\n",
       "Multiple R-squared:  0.8129,\tAdjusted R-squared:  0.7795 \n",
       "F-statistic: 24.38 on 18 and 101 DF,  p-value: < 2.2e-16\n"
      ]
     },
     "metadata": {},
     "output_type": "display_data"
    }
   ],
   "source": [
    "model1 = lm(data_train$Lifeexpectancy~., data=data_train[,4:22])\n",
    "summary(model1)"
   ]
  },
  {
   "cell_type": "code",
   "execution_count": 21,
   "metadata": {},
   "outputs": [
    {
     "data": {
      "text/plain": [
       "\n",
       "Call:\n",
       "lm(formula = data_train$Lifeexpectancy ~ ., data = data_train[, \n",
       "    4:27])\n",
       "\n",
       "Residuals:\n",
       "     Min       1Q   Median       3Q      Max \n",
       "-14.0455  -1.2663  -0.0118   1.6104   7.6970 \n",
       "\n",
       "Coefficients:\n",
       "                               Estimate Std. Error t value Pr(>|t|)    \n",
       "(Intercept)                   5.412e+01  5.035e+00  10.750  < 2e-16 ***\n",
       "AdultMortality               -1.213e-02  4.658e-03  -2.604  0.01069 *  \n",
       "infantdeaths                 -1.115e-01  7.450e-02  -1.496  0.13782    \n",
       "Alcohol                      -1.086e-01  1.303e-01  -0.833  0.40688    \n",
       "percentageexpenditure         7.530e-04  7.357e-04   1.023  0.30865    \n",
       "HepatitisB                    7.478e-03  3.275e-02   0.228  0.81987    \n",
       "Measles                      -6.100e-05  1.020e-04  -0.598  0.55134    \n",
       "BMI                          -2.707e-02  2.223e-02  -1.218  0.22624    \n",
       "under.fivedeaths              6.719e-02  5.243e-02   1.282  0.20306    \n",
       "Polio                         3.488e-02  2.810e-02   1.241  0.21754    \n",
       "Totalexpenditure              3.301e-01  1.595e-01   2.070  0.04111 *  \n",
       "Diphtheria                   -2.095e-02  3.327e-02  -0.630  0.53041    \n",
       "HIV.AIDS                     -2.330e+00  7.009e-01  -3.325  0.00126 ** \n",
       "GDP                          -2.608e-05  6.715e-05  -0.388  0.69853    \n",
       "Population                    6.519e-09  9.234e-09   0.706  0.48191    \n",
       "thinness1.19years             2.210e+00  2.940e+00   0.752  0.45407    \n",
       "thinness5.9years             -3.316e+00  2.810e+00  -1.180  0.24083    \n",
       "Incomecompositionofresources  3.071e+01  7.480e+00   4.106 8.46e-05 ***\n",
       "Schooling                    -2.454e-01  3.031e-01  -0.810  0.42003    \n",
       "thinness5.9years2             2.483e-01  2.172e-01   1.143  0.25592    \n",
       "thinness1.19years2           -1.911e-01  2.283e-01  -0.837  0.40457    \n",
       "HIV.AIDS2                     2.025e-01  9.806e-02   2.065  0.04160 *  \n",
       "log_Population                1.020e-01  1.622e-01   0.629  0.53104    \n",
       "log_GDP                       1.924e-01  2.818e-01   0.683  0.49642    \n",
       "---\n",
       "Signif. codes:  0 '***' 0.001 '**' 0.01 '*' 0.05 '.' 0.1 ' ' 1\n",
       "\n",
       "Residual standard error: 3.369 on 96 degrees of freedom\n",
       "Multiple R-squared:  0.8496,\tAdjusted R-squared:  0.8135 \n",
       "F-statistic: 23.57 on 23 and 96 DF,  p-value: < 2.2e-16\n"
      ]
     },
     "metadata": {},
     "output_type": "display_data"
    }
   ],
   "source": [
    "model2 = lm(data_train$Lifeexpectancy~., data=data_train[,4:27])\n",
    "summary(model2)"
   ]
  },
  {
   "cell_type": "markdown",
   "metadata": {},
   "source": [
    "Dans un contexte de prédiction, ce qui va nous intéresser dans cette section c'est le $R^2$ **ajusté** et le **Residual standard error**. En effet, le **$R^2$ ajusté** mesure la proportion de variabilité de la variable réponse expliquée par le modèle et le **Residual standard error** est relié au **MSE** (quantité qu'on veut minimiser) de la façon suivante:\n",
    "$$ Residual standard error = \\sqrt{MSE/(n-p)} $$\n",
    "où\n",
    "- n est le nombre d'observation et\n",
    "- p le nombre de paramètres du modèle (dans un contexte de regression linéaire, il s'agit du nombre de variables explicatives y compris la constante)."
   ]
  },
  {
   "cell_type": "markdown",
   "metadata": {},
   "source": [
    "Ici on remarque qu'il y a un gain considérable entre le modèle 1 et le modèle 2. La décision finale sera basée sur la performence prévisionnelle des modèle.\n",
    "\n",
    "Par ailleurs, on se gardera d'interprêter les coefficients estimés et leur significatifité d'autant plus qu'on a pas encore vérifier les hypothèses de validiter du modèle à savoir:\n",
    "- l'indépendance entre les prédicteurs d'une part et la réponse d'autre part,\n",
    "- la normalité des résidus,\n",
    "- l'homoscédasticité ou égalité des variances.\n",
    "\n",
    "Ceci n'est pas grave puisqu'on utilise uniquement l'approche prédictif du modèle et non l'approche inférence."
   ]
  },
  {
   "cell_type": "markdown",
   "metadata": {},
   "source": [
    "<a id=\"prediction\"></a>\n",
    "# Section 4: Prédictions et performence prévisionnelle\n",
    "\n",
    "## Prédictions\n",
    "Pour faire les prédictions on utilise la fonction **predict.lm** qui prend en argument le modèle utilisé et le jeu de donnée pour la généralisation.\n"
   ]
  },
  {
   "cell_type": "code",
   "execution_count": 22,
   "metadata": {},
   "outputs": [
    {
     "data": {
      "text/html": [
       "<dl class=dl-horizontal>\n",
       "\t<dt>18</dt>\n",
       "\t\t<dd>76.3998743945759</dd>\n",
       "\t<dt>66</dt>\n",
       "\t\t<dd>77.5510898006359</dd>\n",
       "\t<dt>354</dt>\n",
       "\t\t<dd>74.7173772116902</dd>\n",
       "\t<dt>546</dt>\n",
       "\t\t<dd>80.5641065554622</dd>\n",
       "\t<dt>562</dt>\n",
       "\t\t<dd>67.1335938151618</dd>\n",
       "\t<dt>772</dt>\n",
       "\t\t<dd>72.7992982304647</dd>\n",
       "</dl>\n"
      ],
      "text/latex": [
       "\\begin{description*}\n",
       "\\item[18] 76.3998743945759\n",
       "\\item[66] 77.5510898006359\n",
       "\\item[354] 74.7173772116902\n",
       "\\item[546] 80.5641065554622\n",
       "\\item[562] 67.1335938151618\n",
       "\\item[772] 72.7992982304647\n",
       "\\end{description*}\n"
      ],
      "text/markdown": [
       "18\n",
       ":   76.399874394575966\n",
       ":   77.5510898006359354\n",
       ":   74.7173772116902546\n",
       ":   80.5641065554622562\n",
       ":   67.1335938151618772\n",
       ":   72.7992982304647\n",
       "\n"
      ],
      "text/plain": [
       "      18       66      354      546      562      772 \n",
       "76.39987 77.55109 74.71738 80.56411 67.13359 72.79930 "
      ]
     },
     "metadata": {},
     "output_type": "display_data"
    }
   ],
   "source": [
    "# Modèle 1\n",
    "E.vie1 = predict.lm(model1, data_test)\n",
    "head(E.vie1)"
   ]
  },
  {
   "cell_type": "code",
   "execution_count": 23,
   "metadata": {},
   "outputs": [
    {
     "data": {
      "text/html": [
       "<dl class=dl-horizontal>\n",
       "\t<dt>18</dt>\n",
       "\t\t<dd>77.3478748955645</dd>\n",
       "\t<dt>66</dt>\n",
       "\t\t<dd>76.2170196299234</dd>\n",
       "\t<dt>354</dt>\n",
       "\t\t<dd>72.987447832958</dd>\n",
       "\t<dt>546</dt>\n",
       "\t\t<dd>80.9740883052075</dd>\n",
       "\t<dt>562</dt>\n",
       "\t\t<dd>65.9895631931999</dd>\n",
       "\t<dt>772</dt>\n",
       "\t\t<dd>69.0089846753032</dd>\n",
       "</dl>\n"
      ],
      "text/latex": [
       "\\begin{description*}\n",
       "\\item[18] 77.3478748955645\n",
       "\\item[66] 76.2170196299234\n",
       "\\item[354] 72.987447832958\n",
       "\\item[546] 80.9740883052075\n",
       "\\item[562] 65.9895631931999\n",
       "\\item[772] 69.0089846753032\n",
       "\\end{description*}\n"
      ],
      "text/markdown": [
       "18\n",
       ":   77.347874895564566\n",
       ":   76.2170196299234354\n",
       ":   72.987447832958546\n",
       ":   80.9740883052075562\n",
       ":   65.9895631931999772\n",
       ":   69.0089846753032\n",
       "\n"
      ],
      "text/plain": [
       "      18       66      354      546      562      772 \n",
       "77.34787 76.21702 72.98745 80.97409 65.98956 69.00898 "
      ]
     },
     "metadata": {},
     "output_type": "display_data"
    }
   ],
   "source": [
    "# Modèle 2\n",
    "E.vie2 = predict.lm(model2, data_test)\n",
    "head(E.vie2)"
   ]
  },
  {
   "cell_type": "markdown",
   "metadata": {},
   "source": [
    "## Performence prévisionnelle\n",
    "Ici il s'agira de comparer, pour chaque modèle, les valeurs prédites pour le prix des maisons aux vraies valeurs."
   ]
  },
  {
   "cell_type": "code",
   "execution_count": 24,
   "metadata": {},
   "outputs": [
    {
     "data": {
      "text/html": [
       "<table>\n",
       "<thead><tr><th></th><th scope=col></th><th scope=col>E.vie1</th></tr></thead>\n",
       "<tbody>\n",
       "\t<tr><th scope=row>18</th><td>77.5    </td><td>76.39987</td></tr>\n",
       "\t<tr><th scope=row>66</th><td>76.2    </td><td>77.55109</td></tr>\n",
       "\t<tr><th scope=row>354</th><td>74.8    </td><td>74.71738</td></tr>\n",
       "\t<tr><th scope=row>546</th><td>83.0    </td><td>80.56411</td></tr>\n",
       "\t<tr><th scope=row>562</th><td>75.8    </td><td>67.13359</td></tr>\n",
       "\t<tr><th scope=row>772</th><td>73.6    </td><td>72.79930</td></tr>\n",
       "</tbody>\n",
       "</table>\n"
      ],
      "text/latex": [
       "\\begin{tabular}{r|ll}\n",
       "  &  & E.vie1\\\\\n",
       "\\hline\n",
       "\t18 & 77.5     & 76.39987\\\\\n",
       "\t66 & 76.2     & 77.55109\\\\\n",
       "\t354 & 74.8     & 74.71738\\\\\n",
       "\t546 & 83.0     & 80.56411\\\\\n",
       "\t562 & 75.8     & 67.13359\\\\\n",
       "\t772 & 73.6     & 72.79930\\\\\n",
       "\\end{tabular}\n"
      ],
      "text/markdown": [
       "\n",
       "| <!--/--> |  | E.vie1 |\n",
       "|---|---|---|\n",
       "| 18 | 77.5     | 76.39987 |\n",
       "| 66 | 76.2     | 77.55109 |\n",
       "| 354 | 74.8     | 74.71738 |\n",
       "| 546 | 83.0     | 80.56411 |\n",
       "| 562 | 75.8     | 67.13359 |\n",
       "| 772 | 73.6     | 72.79930 |\n",
       "\n"
      ],
      "text/plain": [
       "         E.vie1  \n",
       "18  77.5 76.39987\n",
       "66  76.2 77.55109\n",
       "354 74.8 74.71738\n",
       "546 83.0 80.56411\n",
       "562 75.8 67.13359\n",
       "772 73.6 72.79930"
      ]
     },
     "metadata": {},
     "output_type": "display_data"
    }
   ],
   "source": [
    "# modèle 1\n",
    "head(cbind(data_test$Lifeexpectancy, E.vie1))"
   ]
  },
  {
   "cell_type": "code",
   "execution_count": 25,
   "metadata": {},
   "outputs": [
    {
     "data": {
      "image/png": "[encoded data removed]",
      "text/plain": [
       "plot without title"
      ]
     },
     "metadata": {},
     "output_type": "display_data"
    }
   ],
   "source": [
    "plot(data_test$Lifeexpectancy, E.vie1, xlab=\"Lifeexpectancy\", ylab=\"prédictions 1\")\n",
    "abline(0,1, col=\"red\")"
   ]
  },
  {
   "cell_type": "code",
   "execution_count": 26,
   "metadata": {},
   "outputs": [
    {
     "data": {
      "text/html": [
       "12.1882806555056"
      ],
      "text/latex": [
       "12.1882806555056"
      ],
      "text/markdown": [
       "12.1882806555056"
      ],
      "text/plain": [
       "[1] 12.18828"
      ]
     },
     "metadata": {},
     "output_type": "display_data"
    }
   ],
   "source": [
    "MSE1 = mean((data_test$Lifeexpectancy - E.vie1)^2)\n",
    "MSE1"
   ]
  },
  {
   "cell_type": "code",
   "execution_count": 27,
   "metadata": {},
   "outputs": [
    {
     "data": {
      "text/html": [
       "<table>\n",
       "<thead><tr><th></th><th scope=col></th><th scope=col>E.vie2</th></tr></thead>\n",
       "<tbody>\n",
       "\t<tr><th scope=row>18</th><td>77.5    </td><td>77.34787</td></tr>\n",
       "\t<tr><th scope=row>66</th><td>76.2    </td><td>76.21702</td></tr>\n",
       "\t<tr><th scope=row>354</th><td>74.8    </td><td>72.98745</td></tr>\n",
       "\t<tr><th scope=row>546</th><td>83.0    </td><td>80.97409</td></tr>\n",
       "\t<tr><th scope=row>562</th><td>75.8    </td><td>65.98956</td></tr>\n",
       "\t<tr><th scope=row>772</th><td>73.6    </td><td>69.00898</td></tr>\n",
       "</tbody>\n",
       "</table>\n"
      ],
      "text/latex": [
       "\\begin{tabular}{r|ll}\n",
       "  &  & E.vie2\\\\\n",
       "\\hline\n",
       "\t18 & 77.5     & 77.34787\\\\\n",
       "\t66 & 76.2     & 76.21702\\\\\n",
       "\t354 & 74.8     & 72.98745\\\\\n",
       "\t546 & 83.0     & 80.97409\\\\\n",
       "\t562 & 75.8     & 65.98956\\\\\n",
       "\t772 & 73.6     & 69.00898\\\\\n",
       "\\end{tabular}\n"
      ],
      "text/markdown": [
       "\n",
       "| <!--/--> |  | E.vie2 |\n",
       "|---|---|---|\n",
       "| 18 | 77.5     | 77.34787 |\n",
       "| 66 | 76.2     | 76.21702 |\n",
       "| 354 | 74.8     | 72.98745 |\n",
       "| 546 | 83.0     | 80.97409 |\n",
       "| 562 | 75.8     | 65.98956 |\n",
       "| 772 | 73.6     | 69.00898 |\n",
       "\n"
      ],
      "text/plain": [
       "         E.vie2  \n",
       "18  77.5 77.34787\n",
       "66  76.2 76.21702\n",
       "354 74.8 72.98745\n",
       "546 83.0 80.97409\n",
       "562 75.8 65.98956\n",
       "772 73.6 69.00898"
      ]
     },
     "metadata": {},
     "output_type": "display_data"
    }
   ],
   "source": [
    "# modèle 2\n",
    "head(cbind(data_test$Lifeexpectancy, E.vie2))"
   ]
  },
  {
   "cell_type": "code",
   "execution_count": 28,
   "metadata": {},
   "outputs": [
    {
     "data": {
      "image/png": "[encoded data removed]",
      "text/plain": [
       "plot without title"
      ]
     },
     "metadata": {},
     "output_type": "display_data"
    }
   ],
   "source": [
    "plot(data_test$Lifeexpectancy, E.vie2, xlab=\"Lifeexpectancy\", ylab=\"prédictions 2\")\n",
    "abline(0,1, col=\"red\")"
   ]
  },
  {
   "cell_type": "code",
   "execution_count": 29,
   "metadata": {},
   "outputs": [
    {
     "data": {
      "text/html": [
       "14.1474586750572"
      ],
      "text/latex": [
       "14.1474586750572"
      ],
      "text/markdown": [
       "14.1474586750572"
      ],
      "text/plain": [
       "[1] 14.14746"
      ]
     },
     "metadata": {},
     "output_type": "display_data"
    }
   ],
   "source": [
    "MSE2 = mean((data_test$Lifeexpectancy - E.vie2)^2)\n",
    "MSE2"
   ]
  },
  {
   "cell_type": "markdown",
   "metadata": {},
   "source": [
    "## Conclusion\n",
    "Somme toutes, le modèle 2 a une meilleure aptitude à s'ajuster à l'ensemble d'apprentissage que le modèle 1. Toutefois, l'erreur de test du modèle 1 est plus petite (mais de peu) que celle du modèle 1."
   ]
  },
  {
   "cell_type": "markdown",
   "metadata": {},
   "source": [
    "### Exercice 4\n",
    "- Refaites toute l'analyse prédictive sur les pays développés en 2015.\n",
    "- Refaites toute l'analyse prédictive pour le Canada uniquement en 2015."
   ]
  },
  {
   "cell_type": "markdown",
   "metadata": {},
   "source": [
    "## Référence\n",
    "Inspiré des notes du cours 3 Apprentissage Statistique, Aurélie Labbe, Automne 2019."
   ]
  }
 ],
 "metadata": {
  "kernelspec": {
   "display_name": "R",
   "language": "R",
   "name": "ir"
  },
  "language_info": {
   "codemirror_mode": "r",
   "file_extension": ".r",
   "mimetype": "text/x-r-source",
   "name": "R",
   "pygments_lexer": "r",
   "version": "3.6.1"
  }
 },
 "nbformat": 4,
 "nbformat_minor": 2
}
