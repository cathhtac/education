{
 "cells": [
  {
   "cell_type": "markdown",
   "metadata": {},
   "source": [
    "<img style=\"float: left;\" src=\"images/ban2.png\">"
   ]
  },
  {
   "cell_type": "markdown",
   "metadata": {},
   "source": [
    "### Notes de cours\n",
    "##### Préparées par Samuel Tremblay, VP-Éducation 2019-2020\n",
    "#### Sommaire\n",
    "1. Structures de décision\n",
    "    * Avec condition ```if```\n",
    "    * Avec erreur ```try/except```\n",
    "2. Boucles d'itération\n",
    "    * Boucles fixes ```for```\n",
    "    * Boucles infinies ```while```\n",
    "3. Régression simple\n",
    "    * Modélisation avec ```scikit-learn```\n",
    "    * Performance et prédiction\n",
    "4. Visualisation de données\n",
    "    * À l'aide de ```Matplotlib```\n",
    "    * À l'aide de ```Bokeh```"
   ]
  },
  {
   "cell_type": "markdown",
   "metadata": {},
   "source": [
    "<img style=\"float: left;\" src=\"images/sep2_1.png\">"
   ]
  },
  {
   "cell_type": "markdown",
   "metadata": {},
   "source": [
    "### Avec condition ```if```\n",
    "La structure de décision ```if``` est la base de la programmation logique, c'est-à-dire que l'ordinateur peut prendre une décision à condition qu'une logique soit vérifiée. Sa structure est la suivante : ```if (condition): (décision)```. Cependant, qu'arrive-t-il si la condition n'est pas vérifiée, ou que plusieurs conditions indépendantes existent? C'est ici que les expressions ```else``` et ```elif``` entrent en jeu, respectivement. Celles-cis sont placées toujours à la suite de ```if```. Il faut noter que ```else``` ne prend pas de condition à vérifier car elle revient à dire « ```if (condition)``` n'est pas vraie ». ```elif``` peut être vue comme un autre ```if``` et prend donc la même syntaxe."
   ]
  },
  {
   "cell_type": "code",
   "execution_count": 1,
   "metadata": {},
   "outputs": [
    {
     "name": "stdout",
     "output_type": "stream",
     "text": [
      "x est supérieur à 4.\n",
      "x est inférieur à 4.\n",
      "x est 4.\n"
     ]
    }
   ],
   "source": [
    "# Définition d'une fonction implémentant la structure de décision\n",
    "def que_vaut_x(x):\n",
    "    if x > 4:\n",
    "        print('x est supérieur à 4.')\n",
    "    elif x < 4:\n",
    "        print('x est inférieur à 4.')\n",
    "    else:\n",
    "        print('x est 4.')\n",
    "\n",
    "# Test de la logique\n",
    "que_vaut_x(5)\n",
    "que_vaut_x(3)\n",
    "que_vaut_x(4)"
   ]
  },
  {
   "cell_type": "markdown",
   "metadata": {},
   "source": [
    "### Avec erreur ```try/except```\n",
    "La structure de décision ```try/except``` est une manière robuste et facile de gérer les erreurs qui peuvent survenir lors de l'exécution d'un script. Elle est de la forme ```try: (code dangereux) except: (erreur à surveiller)```. Il est à noter que ```except``` supporte une variété de types d'erreurs grâce à la syntaxe suivante: ```except (type d'erreur):```. Ainsi, si le type n'est pas précisé, la structure empêchera toute erreur d'entraver la compilation."
   ]
  },
  {
   "cell_type": "code",
   "execution_count": 21,
   "metadata": {},
   "outputs": [
    {
     "name": "stdout",
     "output_type": "stream",
     "text": [
      "tuple index out of range\n"
     ]
    },
    {
     "ename": "TypeError",
     "evalue": "'tuple' object does not support item assignment",
     "output_type": "error",
     "traceback": [
      "\u001b[0;31m---------------------------------------------------------------------------\u001b[0m",
      "\u001b[0;31mTypeError\u001b[0m                                 Traceback (most recent call last)",
      "\u001b[0;32m<ipython-input-21-196f367c289e>\u001b[0m in \u001b[0;36m<module>\u001b[0;34m\u001b[0m\n\u001b[1;32m      8\u001b[0m \u001b[0;31m# Mutation d'une valeur d'un uplet (erreur de type)\u001b[0m\u001b[0;34m\u001b[0m\u001b[0;34m\u001b[0m\u001b[0;34m\u001b[0m\u001b[0m\n\u001b[1;32m      9\u001b[0m \u001b[0;32mtry\u001b[0m\u001b[0;34m:\u001b[0m\u001b[0;34m\u001b[0m\u001b[0;34m\u001b[0m\u001b[0m\n\u001b[0;32m---> 10\u001b[0;31m     \u001b[0my\u001b[0m\u001b[0;34m[\u001b[0m\u001b[0;36m0\u001b[0m\u001b[0;34m]\u001b[0m \u001b[0;34m=\u001b[0m \u001b[0;36m2\u001b[0m\u001b[0;34m\u001b[0m\u001b[0;34m\u001b[0m\u001b[0m\n\u001b[0m\u001b[1;32m     11\u001b[0m \u001b[0;32mexcept\u001b[0m \u001b[0mIndexError\u001b[0m \u001b[0;32mas\u001b[0m \u001b[0me\u001b[0m\u001b[0;34m:\u001b[0m\u001b[0;34m\u001b[0m\u001b[0;34m\u001b[0m\u001b[0m\n\u001b[1;32m     12\u001b[0m     \u001b[0mprint\u001b[0m\u001b[0;34m(\u001b[0m\u001b[0me\u001b[0m\u001b[0;34m)\u001b[0m\u001b[0;34m\u001b[0m\u001b[0;34m\u001b[0m\u001b[0m\n",
      "\u001b[0;31mTypeError\u001b[0m: 'tuple' object does not support item assignment"
     ]
    }
   ],
   "source": [
    "y = (1, 2, 3)\n",
    "# Impression d'une valeur inexistante (erreur d'indexation)\n",
    "try:\n",
    "    print(y[3])\n",
    "except IndexError as e:\n",
    "    print(e)\n",
    "\n",
    "# Mutation d'une valeur d'un uplet (erreur de type)\n",
    "try:\n",
    "    y[0] = 2\n",
    "except IndexError as e:\n",
    "    print(e)"
   ]
  },
  {
   "cell_type": "markdown",
   "metadata": {},
   "source": [
    "### Exercises - Structures de décision\n",
    "#### 1.  Avec condition ```if```\n",
    "a) Écrire une structure analysant la longueur d'une chaîne de caractères. Vérifier si celle-ci est (1) inférieure à 5 ou (2) supérieure ou égale à 5 ou (3) égale à 0 et imprimer un message approprié à l'utilisateur. \n",
    "\n",
    "b) Essayer avec la chaîne ```'miaou'```.\n",
    "\n",
    "c) Essayer avec la chaîne ```''```.\n",
    "\n",
    "d) Essayer avec la chaîne ```'Stella'```.\n",
    "\n",
    "\n",
    "#### 2. Avec erreur ```try/except```\n",
    "a) Écrire une structure permettant de gérer les deux types d'erreurs vu précédemment (```TypeError``` et ```IndexError```).\n",
    "\n",
    "b) Tester avec ```print(y[3])```.\n",
    "\n",
    "c) Tester avec ```y[0] = 2```."
   ]
  },
  {
   "cell_type": "markdown",
   "metadata": {},
   "source": [
    "<img style=\"float: left;\" src=\"images/sep2_2.png\">"
   ]
  },
  {
   "cell_type": "markdown",
   "metadata": {},
   "source": [
    "### Boucles fixes ```for```\n",
    "Les boucles ```for``` permettent de répéter une série d'actions pour un nombre fixe et prédéterminé de fois. Elles sont aussi bien conçues, permettant d'itérer facilement sur les structures de données. Elles sont de la forme ```for (élément) in (structure itérative):``` et vont toujours aller chercher le premier niveau de données de la structure à laquelle elles sont appliquées. Elles peuvent également être imbriquées pour interagir avec les structures multidmensionnelles."
   ]
  },
  {
   "cell_type": "code",
   "execution_count": 7,
   "metadata": {},
   "outputs": [
    {
     "name": "stdout",
     "output_type": "stream",
     "text": [
      "La sous-liste [1, 2, 3] contient les éléments suivants:\n",
      "1\n",
      "2\n",
      "3\n",
      "La sous-liste [4, 5, 6] contient les éléments suivants:\n",
      "4\n",
      "5\n",
      "6\n",
      "La sous-liste [7, 8, 9] contient les éléments suivants:\n",
      "7\n",
      "8\n",
      "9\n"
     ]
    }
   ],
   "source": [
    "ma_liste = [[1,2,3],[4,5,6],[7,8,9]]\n",
    "for sous_liste in ma_liste:\n",
    "    print('La sous-liste', sous_liste, 'contient les éléments suivants:')\n",
    "    for élément in sous_liste:\n",
    "        print(élément)"
   ]
  },
  {
   "cell_type": "markdown",
   "metadata": {},
   "source": [
    "### Boucles infinies ```while```\n",
    "Les boucles ```while``` sont exécutées un nombre indéterminé de fois jusqu'à validation d'un critère d'arrêt. Celles-ci sont particulièrement utiles en mathématiques, lorsqu'il faut itérer jusqu'à convergence vers une solution. Elles ont la forme ```while (condition):```. Il est possible d'utiliser les appels à ```break``` et ```continue``` afin de stopper la boucle ou encore de sauter une itération. Il est cependant déconseillé de les utiliser."
   ]
  },
  {
   "cell_type": "code",
   "execution_count": 6,
   "metadata": {},
   "outputs": [
    {
     "name": "stdout",
     "output_type": "stream",
     "text": [
      "x vaut 1\n",
      "x vaut 2\n",
      "x vaut 3\n",
      "x vaut 4\n",
      "x vaut 5, fin des itérations\n"
     ]
    }
   ],
   "source": [
    "x = 1\n",
    "while x < 5:\n",
    "    print('x vaut', x)\n",
    "    x += 1\n",
    "\n",
    "print('x vaut', str(x)+', fin des itérations')"
   ]
  },
  {
   "cell_type": "markdown",
   "metadata": {},
   "source": [
    "### Exercises - Boucles d'itération\n",
    "#### 3.  Boucles fixes ```for```\n",
    "a) Écrire une boucle qui imprime chaque caractère dans la chaîne ```'Stella'```.\n",
    "\n",
    "b) Écrire une boucle qui imprime seulement les éléments de la première sous-liste de ```ma_liste```.\n",
    "\n",
    "#### 4. Boucles infinies ```while```\n",
    "a) Écrire une boucle qui ajoute un ```u``` à la chaîne ```miaou``` jusqu'à ce que la chaîne ait 8 lettres."
   ]
  },
  {
   "cell_type": "markdown",
   "metadata": {},
   "source": [
    "<img style=\"float: left;\" src=\"images/sep2_3.png\">"
   ]
  },
  {
   "cell_type": "markdown",
   "metadata": {},
   "source": [
    "### Modélisation avec ```scikit-learn```\n",
    "La librairie ```scikit-learn``` implémente les concepts de base de la régression statistique en plus d'avoir des fonctions pratiques de réduction de dimensionnalité, d'aggrégation (*clustering*), de classification et bien d'autres. Puisque la librairie est construite en utilisant ```NumPy```, les données devront être fournies au modèle sous la forme d'un ```ndarray```. Dans cette section, les données seront traitées puis acheminées au modèle."
   ]
  },
  {
   "cell_type": "code",
   "execution_count": 5,
   "metadata": {},
   "outputs": [
    {
     "name": "stdout",
     "output_type": "stream",
     "text": [
      "[[ 0]\n",
      " [ 5]\n",
      " [15]\n",
      " [25]\n",
      " [35]\n",
      " [45]\n",
      " [55]]\n",
      "[ 0  6 14 27 33 48 50]\n",
      "L'équation de la régression est y =  0.95 x + 0.92\n"
     ]
    }
   ],
   "source": [
    "import numpy as np\n",
    "from sklearn.linear_model import LinearRegression\n",
    "\n",
    "# x doit être une matrice (plutôt qu'un vecteur comme y) \n",
    "# avec une colonne pour chaque prédicat et plusieurs lignes\n",
    "x = np.array([[0], [5], [15], [25], [35], [45], [55]])\n",
    "y = np.array([0, 6, 14, 27, 33, 48, 50])\n",
    "\n",
    "print(x)\n",
    "print(y)\n",
    "\n",
    "# instanciation du modèle choisi ;\n",
    "# tous les arguments sont ceux par défaut\n",
    "model = LinearRegression()\n",
    "# appel de la méthode .fit() sur model avec comme arguments x et y\n",
    "model = model.fit(x, y)\n",
    "# model.coef_ retourne la matrice des coefficients directeurs \n",
    "# et model_intercept l'ordonnée à l'origine\n",
    "print('L\\'équation de la régression est y = ', round(model.coef_[0],2),'x +', round(model.intercept_,2))"
   ]
  },
  {
   "cell_type": "markdown",
   "metadata": {},
   "source": [
    "### Performance et prédiction\n",
    "Maintenant que le modèle désiré a été instancié, il est possible d'utiliser deux méthodes très utiles : ```.score(x, y)``` permet de calculer le coefficient de détermination $R^2$ et ```predict(x)``` applique la droite de régression montrée à la section précédente à un ```ndarray``` d'une forme consistante (dans le cas ici, une matrice avec une colonne). Une série d'autres indicateurs de performance populaires seront également montrés : l'erreur absolue moyenne (*Mean Absolute Error*), l'erreur moyenne au carré (*Mean Squared Error*) et la racine de l'erreur moyenne au carré (*Root Mean Squared Error*)."
   ]
  },
  {
   "cell_type": "code",
   "execution_count": 6,
   "metadata": {},
   "outputs": [
    {
     "name": "stdout",
     "output_type": "stream",
     "text": [
      "Le coefficient de détermination est: 0.9837\n",
      "À la valeur x = 0, y vallait 0 et le modèle a prédit 0.92\n",
      "À la valeur x = 5, y vallait 6 et le modèle a prédit 5.69\n",
      "À la valeur x = 15, y vallait 14 et le modèle a prédit 15.22\n",
      "À la valeur x = 25, y vallait 27 et le modèle a prédit 24.75\n",
      "À la valeur x = 35, y vallait 33 et le modèle a prédit 34.28\n",
      "À la valeur x = 45, y vallait 48 et le modèle a prédit 43.81\n",
      "À la valeur x = 55, y vallait 50 et le modèle a prédit 53.34\n",
      "Mean Absolute Error: 1.9304\n",
      "Mean Squared Error: 5.4075\n",
      "Root Mean Squared Error: 2.3254\n"
     ]
    }
   ],
   "source": [
    "# calcul de R^2 avec .score()\n",
    "R_2 = model.score(x, y)\n",
    "print('Le coefficient de détermination est:', round(R_2,4))\n",
    "\n",
    "# prédiction en utilisant .predict()\n",
    "y_pred = model.predict(x)\n",
    "for i in range(0, len(x)):\n",
    "    print('À la valeur x =',str(x[i][0])+', y vallait', y[i], 'et le modèle a prédit', round(y_pred[i],2))\n",
    "\n",
    "# impression des métriques de performance\n",
    "from sklearn import metrics\n",
    "print('Mean Absolute Error:', round(metrics.mean_absolute_error(y, y_pred), 4))\n",
    "print('Mean Squared Error:', round(metrics.mean_squared_error(y, y_pred), 4))\n",
    "print('Root Mean Squared Error:', round(np.sqrt((metrics.mean_squared_error(y, y_pred))), 4))"
   ]
  },
  {
   "cell_type": "markdown",
   "metadata": {},
   "source": [
    "### Exercises - Régression simple\n",
    "#### 5.  Modélisation avec ```scikit-learn```\n",
    "a) ```LinearRegression``` supporte la régression linéaire multiple. Ajouter un second prédicat à la matrice x afin d'effectuer une régression multiple. Celui-ci est : ```(1, 2 ,3, 4, 5, 6, 7)```.\n",
    "\n",
    "#### 6. Performance et prédiction\n",
    "a) Trouver le nouveau $R^2$ et la nouvelle MAE. Ont-ils augmenté ou diminué?\n",
    "\n",
    "b) Prédire la valeur de $y$ pour $(x_1, x_2) = (65, 8)$."
   ]
  },
  {
   "cell_type": "markdown",
   "metadata": {},
   "source": [
    "<img style=\"float: left;\" src=\"images/sep2_4.png\">"
   ]
  },
  {
   "cell_type": "markdown",
   "metadata": {},
   "source": [
    "### À l'aide de ```Matplotlib```\n",
    "La librairie ```Matplotlib``` implémente des fonctions permettant la visualisation de données avec une utilisation similaire à celle de MatLab. La principale fonction d'intérêt est ```matplotlib.pyplot.plot```, qui permet de tracer un graphique 2D pour une série de points ayant des coordonnées $x$ et $y$. Celle-ci a la forme ```plt.plot(x, y, marqueur)``` (la librairie est renommée ```plt``` afin d'améliorer la lisibilité), où l'argument ```marqueur``` permet de spécifier le type de points, sa couleur et sa forme. Ensuite, il est possible d'ajouter une série de méthodes à ```plt``` qui vont permettre de spécifier différents éléments graphiques : titre, titres d'axes, légendes, etc. La méthode ```.show()``` permet de montrer le graphique à l'usager."
   ]
  },
  {
   "cell_type": "code",
   "execution_count": 7,
   "metadata": {},
   "outputs": [
    {
     "data": {
      "image/png": "[encoded data removed]",
      "text/plain": [
       "<Figure size 432x288 with 1 Axes>"
      ]
     },
     "metadata": {
      "needs_background": "light"
     },
     "output_type": "display_data"
    }
   ],
   "source": [
    "import matplotlib.pyplot as plt\n",
    "plt.plot(x, y, 'o') # ajout des points \n",
    "plt.plot(x, y_pred, '-r') # ajout de la prédiction (régression)\n",
    "plt.title('Exercise de régression') # ajout du titre\n",
    "plt.xlabel('variable x') # ajout du titre de l'axe des x\n",
    "plt.ylabel('variable y') # ajout du titre de l'axe des y\n",
    "plt.legend(['Valeurs', 'Régression']) # ajout d'une légende\n",
    "plt.show()"
   ]
  },
  {
   "cell_type": "markdown",
   "metadata": {},
   "source": [
    "Pour les autres exemples, l'ensemble de données ```boston_crime_august_2018.xls``` sera utilisé afin de montrer un cas d'utilisation intéresant. Les visualisations suivantes seront montrées : l'histogramme ```.hist()```, la boîte à moustaches ```.boxplot()``` et le diagramme à bandes ```.bar()```."
   ]
  },
  {
   "cell_type": "code",
   "execution_count": 242,
   "metadata": {},
   "outputs": [
    {
     "data": {
      "image/png": "[encoded data removed]",
      "text/plain": [
       "<Figure size 432x288 with 1 Axes>"
      ]
     },
     "metadata": {
      "needs_background": "light"
     },
     "output_type": "display_data"
    },
    {
     "data": {
      "image/png": "[encoded data removed]",
      "text/plain": [
       "<Figure size 432x288 with 1 Axes>"
      ]
     },
     "metadata": {
      "needs_background": "light"
     },
     "output_type": "display_data"
    },
    {
     "data": {
      "image/png": "[encoded data removed]",
      "text/plain": [
       "<Figure size 432x288 with 1 Axes>"
      ]
     },
     "metadata": {
      "needs_background": "light"
     },
     "output_type": "display_data"
    }
   ],
   "source": [
    "# importation des données\n",
    "import pandas as pd\n",
    "df = pd.read_excel('data/boston_crime_august_2018.xlsx')\n",
    "\n",
    "# création d'un histogramme\n",
    "plt.hist(df.HOUR)\n",
    "plt.title('Histogramme des crimes selon le moment \\n de la journée pour le mois d\\'août 2018')\n",
    "plt.xlabel('Heure du jour')\n",
    "plt.ylabel('Fréquence')\n",
    "plt.show()\n",
    "\n",
    "# création d'une boîte à moustaches\n",
    "plt.boxplot(df.OFFENSE_CODE)\n",
    "plt.title('Boîte à moustaches des codes d\\'infraction')\n",
    "plt.ylabel('Code d\\'infraction')\n",
    "plt.show()\n",
    "\n",
    "# création d'un diagramme à bandes\n",
    "pivot_df = df.groupby(['OFFENSE_CODE_GROUP']).count()\n",
    "pivot_df = pivot_df.sort_values(by = 'OFFENSE_CODE', ascending = False)\n",
    "pivot_df = pivot_df[:10]\n",
    "plt.bar(height = pivot_df.OFFENSE_CODE, x = pivot_df.index)\n",
    "plt.xticks(pivot_df.index, rotation='vertical')\n",
    "plt.title('Les 10 crimes les plus fréquents au mois d\\'août 2018')\n",
    "plt.ylabel('Nombre de crimes')\n",
    "plt.show()"
   ]
  },
  {
   "cell_type": "markdown",
   "metadata": {},
   "source": [
    "### Exercises - Visualisation de données\n",
    "#### 7.  À l'aide de ```Matplotlib```\n",
    "a) Produire un histogramme des codes d'infraction puis lui donner un titre ainsi que des titres d'axes.\n",
    "\n",
    "b) Est-ce que cette visualisation est appropriée?"
   ]
  }
 ],
 "metadata": {
  "kernelspec": {
   "display_name": "Python 3",
   "language": "python",
   "name": "python3"
  },
  "language_info": {
   "codemirror_mode": {
    "name": "ipython",
    "version": 3
   },
   "file_extension": ".py",
   "mimetype": "text/x-python",
   "name": "python",
   "nbconvert_exporter": "python",
   "pygments_lexer": "ipython3",
   "version": "3.7.3"
  }
 },
 "nbformat": 4,
 "nbformat_minor": 2
}
